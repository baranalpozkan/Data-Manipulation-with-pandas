{
 "cells": [
  {
   "cell_type": "markdown",
   "id": "prostate-arizona",
   "metadata": {
    "id": "bA5ajAmk7XH6"
   },
   "source": [
    "# Data Manipulation with pandas\n",
    "\n",
    "👋 Welcome to your new **workspace**! Here, you can experiment with the data you used in [Data Manipulation with pandas](https://app.datacamp.com/learn/courses/data-manipulation-with-pandas) and practice your newly learned skills with some challenges. You can find out more about DataCamp Workspace [here](https://workspace-docs.datacamp.com/).\n",
    "\n",
    "On average, we expect users to take approximately **30 minutes** to complete the content in this workspace. However, you are free to experiment and practice in it as long as you would like!"
   ]
  },
  {
   "cell_type": "markdown",
   "id": "c1c12180",
   "metadata": {},
   "source": [
    "## 1. Get Started\n",
    "Below is a code cell. It is used to execute Python code. The code below imports three packages you used in Data Manipulation with pandas: pandas, NumPy, and Matplotlib. The code also imports data you used in the course as DataFrames using the pandas [`read_csv()`](https://pandas.pydata.org/docs/reference/api/pandas.read_csv.html) function.\n",
    "\n",
    "🏃**To execute the code, click inside the cell to select it and click \"Run\" or the ► icon. You can also use Shift-Enter to run a selected cell.**"
   ]
  },
  {
   "cell_type": "code",
   "execution_count": null,
   "id": "2e25fdd8-4d84-45bc-80f0-949917e00a17",
   "metadata": {
    "scrolled": true
   },
   "outputs": [
    {
     "data": {
      "application/com.datacamp.data-table.v1+json": {
       "is_truncated": false,
       "table": {
        "data": [
         {
          "avg_price": 0.95,
          "date": "2015-12-27",
          "index": 0,
          "nb_sold": 9626901.09,
          "size": "small",
          "type": "conventional",
          "year": 2015
         },
         {
          "avg_price": 0.98,
          "date": "2015-12-20",
          "index": 1,
          "nb_sold": 8710021.76,
          "size": "small",
          "type": "conventional",
          "year": 2015
         },
         {
          "avg_price": 0.93,
          "date": "2015-12-13",
          "index": 2,
          "nb_sold": 9855053.66,
          "size": "small",
          "type": "conventional",
          "year": 2015
         },
         {
          "avg_price": 0.89,
          "date": "2015-12-06",
          "index": 3,
          "nb_sold": 9405464.36,
          "size": "small",
          "type": "conventional",
          "year": 2015
         },
         {
          "avg_price": 0.99,
          "date": "2015-11-29",
          "index": 4,
          "nb_sold": 8094803.56,
          "size": "small",
          "type": "conventional",
          "year": 2015
         },
         {
          "avg_price": 0.96,
          "date": "2015-11-22",
          "index": 5,
          "nb_sold": 8571849.8,
          "size": "small",
          "type": "conventional",
          "year": 2015
         },
         {
          "avg_price": 0.92,
          "date": "2015-11-15",
          "index": 6,
          "nb_sold": 9907981.27,
          "size": "small",
          "type": "conventional",
          "year": 2015
         },
         {
          "avg_price": 0.97,
          "date": "2015-11-08",
          "index": 7,
          "nb_sold": 9991330.31,
          "size": "small",
          "type": "conventional",
          "year": 2015
         },
         {
          "avg_price": 0.97,
          "date": "2015-11-01",
          "index": 8,
          "nb_sold": 10138703.85,
          "size": "small",
          "type": "conventional",
          "year": 2015
         },
         {
          "avg_price": 1.04,
          "date": "2015-10-25",
          "index": 9,
          "nb_sold": 8683958.8,
          "size": "small",
          "type": "conventional",
          "year": 2015
         },
         {
          "avg_price": 0.99,
          "date": "2015-10-18",
          "index": 10,
          "nb_sold": 9162094.14,
          "size": "small",
          "type": "conventional",
          "year": 2015
         },
         {
          "avg_price": 1,
          "date": "2015-10-11",
          "index": 11,
          "nb_sold": 8828340.53,
          "size": "small",
          "type": "conventional",
          "year": 2015
         },
         {
          "avg_price": 1.02,
          "date": "2015-10-04",
          "index": 12,
          "nb_sold": 8353619.97,
          "size": "small",
          "type": "conventional",
          "year": 2015
         },
         {
          "avg_price": 1.03,
          "date": "2015-09-27",
          "index": 13,
          "nb_sold": 8454208.8,
          "size": "small",
          "type": "conventional",
          "year": 2015
         },
         {
          "avg_price": 1.02,
          "date": "2015-09-20",
          "index": 14,
          "nb_sold": 9422275.27,
          "size": "small",
          "type": "conventional",
          "year": 2015
         },
         {
          "avg_price": 1.03,
          "date": "2015-09-13",
          "index": 15,
          "nb_sold": 9875018.48,
          "size": "small",
          "type": "conventional",
          "year": 2015
         },
         {
          "avg_price": 1.02,
          "date": "2015-09-06",
          "index": 16,
          "nb_sold": 12569277.14,
          "size": "small",
          "type": "conventional",
          "year": 2015
         },
         {
          "avg_price": 1.07,
          "date": "2015-08-30",
          "index": 17,
          "nb_sold": 11650976.87,
          "size": "small",
          "type": "conventional",
          "year": 2015
         },
         {
          "avg_price": 1.08,
          "date": "2015-08-23",
          "index": 18,
          "nb_sold": 11283021.31,
          "size": "small",
          "type": "conventional",
          "year": 2015
         },
         {
          "avg_price": 1.05,
          "date": "2015-08-16",
          "index": 19,
          "nb_sold": 12680252.48,
          "size": "small",
          "type": "conventional",
          "year": 2015
         },
         {
          "avg_price": 1.05,
          "date": "2015-08-09",
          "index": 20,
          "nb_sold": 13003371.07,
          "size": "small",
          "type": "conventional",
          "year": 2015
         },
         {
          "avg_price": 1.09,
          "date": "2015-08-02",
          "index": 21,
          "nb_sold": 12115233.76,
          "size": "small",
          "type": "conventional",
          "year": 2015
         },
         {
          "avg_price": 1.07,
          "date": "2015-07-26",
          "index": 22,
          "nb_sold": 12196225.93,
          "size": "small",
          "type": "conventional",
          "year": 2015
         },
         {
          "avg_price": 1.07,
          "date": "2015-07-19",
          "index": 23,
          "nb_sold": 12742760.17,
          "size": "small",
          "type": "conventional",
          "year": 2015
         },
         {
          "avg_price": 1.07,
          "date": "2015-07-12",
          "index": 24,
          "nb_sold": 12384449.4,
          "size": "small",
          "type": "conventional",
          "year": 2015
         },
         {
          "avg_price": 1.04,
          "date": "2015-07-05",
          "index": 25,
          "nb_sold": 15643939.37,
          "size": "small",
          "type": "conventional",
          "year": 2015
         },
         {
          "avg_price": 1.06,
          "date": "2015-06-28",
          "index": 26,
          "nb_sold": 13299568.71,
          "size": "small",
          "type": "conventional",
          "year": 2015
         },
         {
          "avg_price": 1.02,
          "date": "2015-06-21",
          "index": 27,
          "nb_sold": 14699604.93,
          "size": "small",
          "type": "conventional",
          "year": 2015
         },
         {
          "avg_price": 0.98,
          "date": "2015-06-14",
          "index": 28,
          "nb_sold": 16383685.07,
          "size": "small",
          "type": "conventional",
          "year": 2015
         },
         {
          "avg_price": 1,
          "date": "2015-06-07",
          "index": 29,
          "nb_sold": 16529797.6,
          "size": "small",
          "type": "conventional",
          "year": 2015
         },
         {
          "avg_price": 1.03,
          "date": "2015-05-31",
          "index": 30,
          "nb_sold": 15503613.33,
          "size": "small",
          "type": "conventional",
          "year": 2015
         },
         {
          "avg_price": 1.04,
          "date": "2015-05-24",
          "index": 31,
          "nb_sold": 16000107.8,
          "size": "small",
          "type": "conventional",
          "year": 2015
         },
         {
          "avg_price": 1.06,
          "date": "2015-05-17",
          "index": 32,
          "nb_sold": 14615941.59,
          "size": "small",
          "type": "conventional",
          "year": 2015
         },
         {
          "avg_price": 1.02,
          "date": "2015-05-10",
          "index": 33,
          "nb_sold": 16215328.75,
          "size": "small",
          "type": "conventional",
          "year": 2015
         },
         {
          "avg_price": 0.96,
          "date": "2015-05-03",
          "index": 34,
          "nb_sold": 17787611.93,
          "size": "small",
          "type": "conventional",
          "year": 2015
         },
         {
          "avg_price": 1.07,
          "date": "2015-04-26",
          "index": 35,
          "nb_sold": 13833715.28,
          "size": "small",
          "type": "conventional",
          "year": 2015
         },
         {
          "avg_price": 1.03,
          "date": "2015-04-19",
          "index": 36,
          "nb_sold": 14251319.31,
          "size": "small",
          "type": "conventional",
          "year": 2015
         },
         {
          "avg_price": 1.02,
          "date": "2015-04-12",
          "index": 37,
          "nb_sold": 14793354.18,
          "size": "small",
          "type": "conventional",
          "year": 2015
         },
         {
          "avg_price": 1.06,
          "date": "2015-04-05",
          "index": 38,
          "nb_sold": 13939014.43,
          "size": "small",
          "type": "conventional",
          "year": 2015
         },
         {
          "avg_price": 1.04,
          "date": "2015-03-29",
          "index": 39,
          "nb_sold": 12524637.04,
          "size": "small",
          "type": "conventional",
          "year": 2015
         },
         {
          "avg_price": 1.01,
          "date": "2015-03-22",
          "index": 40,
          "nb_sold": 13697405.61,
          "size": "small",
          "type": "conventional",
          "year": 2015
         },
         {
          "avg_price": 1.04,
          "date": "2015-03-15",
          "index": 41,
          "nb_sold": 13149988.71,
          "size": "small",
          "type": "conventional",
          "year": 2015
         },
         {
          "avg_price": 1.02,
          "date": "2015-03-08",
          "index": 42,
          "nb_sold": 13013750.35,
          "size": "small",
          "type": "conventional",
          "year": 2015
         },
         {
          "avg_price": 0.97,
          "date": "2015-03-01",
          "index": 43,
          "nb_sold": 13282222.98,
          "size": "small",
          "type": "conventional",
          "year": 2015
         },
         {
          "avg_price": 1.02,
          "date": "2015-02-22",
          "index": 44,
          "nb_sold": 12628562.36,
          "size": "small",
          "type": "conventional",
          "year": 2015
         },
         {
          "avg_price": 1.03,
          "date": "2015-02-15",
          "index": 45,
          "nb_sold": 12626615.3,
          "size": "small",
          "type": "conventional",
          "year": 2015
         },
         {
          "avg_price": 0.95,
          "date": "2015-02-08",
          "index": 46,
          "nb_sold": 13308193.4,
          "size": "small",
          "type": "conventional",
          "year": 2015
         },
         {
          "avg_price": 0.89,
          "date": "2015-02-01",
          "index": 47,
          "nb_sold": 18933038.04,
          "size": "small",
          "type": "conventional",
          "year": 2015
         },
         {
          "avg_price": 1.04,
          "date": "2015-01-25",
          "index": 48,
          "nb_sold": 12167445.03,
          "size": "small",
          "type": "conventional",
          "year": 2015
         },
         {
          "avg_price": 1.03,
          "date": "2015-01-18",
          "index": 49,
          "nb_sold": 11858139.34,
          "size": "small",
          "type": "conventional",
          "year": 2015
         },
         {
          "avg_price": 1.01,
          "date": "2015-01-11",
          "index": 50,
          "nb_sold": 11544810.53,
          "size": "small",
          "type": "conventional",
          "year": 2015
         },
         {
          "avg_price": 0.95,
          "date": "2015-01-04",
          "index": 51,
          "nb_sold": 12357161.34,
          "size": "small",
          "type": "conventional",
          "year": 2015
         },
         {
          "avg_price": 1,
          "date": "2016-12-25",
          "index": 52,
          "nb_sold": 9255125.2,
          "size": "small",
          "type": "conventional",
          "year": 2016
         },
         {
          "avg_price": 0.96,
          "date": "2016-12-18",
          "index": 53,
          "nb_sold": 9394065.91,
          "size": "small",
          "type": "conventional",
          "year": 2016
         },
         {
          "avg_price": 0.98,
          "date": "2016-12-11",
          "index": 54,
          "nb_sold": 9009996.11,
          "size": "small",
          "type": "conventional",
          "year": 2016
         },
         {
          "avg_price": 1,
          "date": "2016-12-04",
          "index": 55,
          "nb_sold": 11043350.9,
          "size": "small",
          "type": "conventional",
          "year": 2016
         },
         {
          "avg_price": 1.21,
          "date": "2016-11-27",
          "index": 56,
          "nb_sold": 7891487.94,
          "size": "small",
          "type": "conventional",
          "year": 2016
         },
         {
          "avg_price": 1.27,
          "date": "2016-11-20",
          "index": 57,
          "nb_sold": 8531160.52,
          "size": "small",
          "type": "conventional",
          "year": 2016
         },
         {
          "avg_price": 1.36,
          "date": "2016-11-13",
          "index": 58,
          "nb_sold": 8235135.43,
          "size": "small",
          "type": "conventional",
          "year": 2016
         },
         {
          "avg_price": 1.44,
          "date": "2016-11-06",
          "index": 59,
          "nb_sold": 7804252.91,
          "size": "small",
          "type": "conventional",
          "year": 2016
         },
         {
          "avg_price": 1.43,
          "date": "2016-10-30",
          "index": 60,
          "nb_sold": 7100458.82,
          "size": "small",
          "type": "conventional",
          "year": 2016
         },
         {
          "avg_price": 1.34,
          "date": "2016-10-23",
          "index": 61,
          "nb_sold": 7579629.06,
          "size": "small",
          "type": "conventional",
          "year": 2016
         },
         {
          "avg_price": 1.3,
          "date": "2016-10-16",
          "index": 62,
          "nb_sold": 8810664.45,
          "size": "small",
          "type": "conventional",
          "year": 2016
         },
         {
          "avg_price": 1.27,
          "date": "2016-10-09",
          "index": 63,
          "nb_sold": 9552502.48,
          "size": "small",
          "type": "conventional",
          "year": 2016
         },
         {
          "avg_price": 1.23,
          "date": "2016-10-02",
          "index": 64,
          "nb_sold": 9534915.56,
          "size": "small",
          "type": "conventional",
          "year": 2016
         },
         {
          "avg_price": 1.22,
          "date": "2016-09-25",
          "index": 65,
          "nb_sold": 10548061.13,
          "size": "small",
          "type": "conventional",
          "year": 2016
         },
         {
          "avg_price": 1.15,
          "date": "2016-09-18",
          "index": 66,
          "nb_sold": 11337829.1,
          "size": "small",
          "type": "conventional",
          "year": 2016
         },
         {
          "avg_price": 1.08,
          "date": "2016-09-11",
          "index": 67,
          "nb_sold": 12962762.94,
          "size": "small",
          "type": "conventional",
          "year": 2016
         },
         {
          "avg_price": 1.04,
          "date": "2016-09-04",
          "index": 68,
          "nb_sold": 14643465.52,
          "size": "small",
          "type": "conventional",
          "year": 2016
         },
         {
          "avg_price": 1.09,
          "date": "2016-08-28",
          "index": 69,
          "nb_sold": 12561055.5,
          "size": "small",
          "type": "conventional",
          "year": 2016
         },
         {
          "avg_price": 1.1,
          "date": "2016-08-21",
          "index": 70,
          "nb_sold": 12725249.3,
          "size": "small",
          "type": "conventional",
          "year": 2016
         },
         {
          "avg_price": 1.12,
          "date": "2016-08-14",
          "index": 71,
          "nb_sold": 12352932.68,
          "size": "small",
          "type": "conventional",
          "year": 2016
         },
         {
          "avg_price": 1.15,
          "date": "2016-08-07",
          "index": 72,
          "nb_sold": 12197105.36,
          "size": "small",
          "type": "conventional",
          "year": 2016
         },
         {
          "avg_price": 1.23,
          "date": "2016-07-31",
          "index": 73,
          "nb_sold": 10168972.37,
          "size": "small",
          "type": "conventional",
          "year": 2016
         },
         {
          "avg_price": 1.2,
          "date": "2016-07-24",
          "index": 74,
          "nb_sold": 10331314.28,
          "size": "small",
          "type": "conventional",
          "year": 2016
         },
         {
          "avg_price": 1.15,
          "date": "2016-07-17",
          "index": 75,
          "nb_sold": 10320463.27,
          "size": "small",
          "type": "conventional",
          "year": 2016
         },
         {
          "avg_price": 1.1,
          "date": "2016-07-10",
          "index": 76,
          "nb_sold": 11457080.38,
          "size": "small",
          "type": "conventional",
          "year": 2016
         },
         {
          "avg_price": 1.06,
          "date": "2016-07-03",
          "index": 77,
          "nb_sold": 12508937.27,
          "size": "small",
          "type": "conventional",
          "year": 2016
         },
         {
          "avg_price": 1.04,
          "date": "2016-06-26",
          "index": 78,
          "nb_sold": 12189035.17,
          "size": "small",
          "type": "conventional",
          "year": 2016
         },
         {
          "avg_price": 1.02,
          "date": "2016-06-19",
          "index": 79,
          "nb_sold": 13488851.61,
          "size": "small",
          "type": "conventional",
          "year": 2016
         },
         {
          "avg_price": 1.04,
          "date": "2016-06-12",
          "index": 80,
          "nb_sold": 12291686.69,
          "size": "small",
          "type": "conventional",
          "year": 2016
         },
         {
          "avg_price": 0.97,
          "date": "2016-06-05",
          "index": 81,
          "nb_sold": 13808859.16,
          "size": "small",
          "type": "conventional",
          "year": 2016
         },
         {
          "avg_price": 0.94,
          "date": "2016-05-29",
          "index": 82,
          "nb_sold": 13682611.21,
          "size": "small",
          "type": "conventional",
          "year": 2016
         },
         {
          "avg_price": 0.93,
          "date": "2016-05-22",
          "index": 83,
          "nb_sold": 11711999.81,
          "size": "small",
          "type": "conventional",
          "year": 2016
         },
         {
          "avg_price": 0.89,
          "date": "2016-05-15",
          "index": 84,
          "nb_sold": 12447598.49,
          "size": "small",
          "type": "conventional",
          "year": 2016
         },
         {
          "avg_price": 0.82,
          "date": "2016-05-08",
          "index": 85,
          "nb_sold": 14223304.98,
          "size": "small",
          "type": "conventional",
          "year": 2016
         },
         {
          "avg_price": 0.84,
          "date": "2016-05-01",
          "index": 86,
          "nb_sold": 13748944.38,
          "size": "small",
          "type": "conventional",
          "year": 2016
         },
         {
          "avg_price": 0.87,
          "date": "2016-04-24",
          "index": 87,
          "nb_sold": 12913697.19,
          "size": "small",
          "type": "conventional",
          "year": 2016
         },
         {
          "avg_price": 0.9,
          "date": "2016-04-17",
          "index": 88,
          "nb_sold": 11954487.56,
          "size": "small",
          "type": "conventional",
          "year": 2016
         },
         {
          "avg_price": 0.9,
          "date": "2016-04-10",
          "index": 89,
          "nb_sold": 12879820.47,
          "size": "small",
          "type": "conventional",
          "year": 2016
         },
         {
          "avg_price": 0.94,
          "date": "2016-04-03",
          "index": 90,
          "nb_sold": 11320969.79,
          "size": "small",
          "type": "conventional",
          "year": 2016
         },
         {
          "avg_price": 0.94,
          "date": "2016-03-27",
          "index": 91,
          "nb_sold": 11249198.4,
          "size": "small",
          "type": "conventional",
          "year": 2016
         },
         {
          "avg_price": 0.93,
          "date": "2016-03-20",
          "index": 92,
          "nb_sold": 11134390.98,
          "size": "small",
          "type": "conventional",
          "year": 2016
         },
         {
          "avg_price": 0.93,
          "date": "2016-03-13",
          "index": 93,
          "nb_sold": 11661687.44,
          "size": "small",
          "type": "conventional",
          "year": 2016
         },
         {
          "avg_price": 0.95,
          "date": "2016-03-06",
          "index": 94,
          "nb_sold": 11824154.63,
          "size": "small",
          "type": "conventional",
          "year": 2016
         },
         {
          "avg_price": 0.91,
          "date": "2016-02-28",
          "index": 95,
          "nb_sold": 11907394.72,
          "size": "small",
          "type": "conventional",
          "year": 2016
         },
         {
          "avg_price": 0.94,
          "date": "2016-02-21",
          "index": 96,
          "nb_sold": 10015825.13,
          "size": "small",
          "type": "conventional",
          "year": 2016
         },
         {
          "avg_price": 0.88,
          "date": "2016-02-14",
          "index": 97,
          "nb_sold": 11913078.3,
          "size": "small",
          "type": "conventional",
          "year": 2016
         },
         {
          "avg_price": 0.76,
          "date": "2016-02-07",
          "index": 98,
          "nb_sold": 16573573.78,
          "size": "small",
          "type": "conventional",
          "year": 2016
         },
         {
          "avg_price": 0.93,
          "date": "2016-01-31",
          "index": 99,
          "nb_sold": 11098088.49,
          "size": "small",
          "type": "conventional",
          "year": 2016
         },
         {
          "avg_price": 0.95,
          "date": "2016-01-24",
          "index": 100,
          "nb_sold": 7020459,
          "size": "small",
          "type": "conventional",
          "year": 2016
         },
         {
          "avg_price": 0.94,
          "date": "2016-01-17",
          "index": 101,
          "nb_sold": 10036597.84,
          "size": "small",
          "type": "conventional",
          "year": 2016
         },
         {
          "avg_price": 0.93,
          "date": "2016-01-10",
          "index": 102,
          "nb_sold": 11441286.89,
          "size": "small",
          "type": "conventional",
          "year": 2016
         },
         {
          "avg_price": 0.86,
          "date": "2016-01-03",
          "index": 103,
          "nb_sold": 11616506.17,
          "size": "small",
          "type": "conventional",
          "year": 2016
         },
         {
          "avg_price": 0.98,
          "date": "2017-12-31",
          "index": 104,
          "nb_sold": 13109617.49,
          "size": "small",
          "type": "conventional",
          "year": 2017
         },
         {
          "avg_price": 1.18,
          "date": "2017-12-24",
          "index": 105,
          "nb_sold": 10027319.18,
          "size": "small",
          "type": "conventional",
          "year": 2017
         },
         {
          "avg_price": 1.07,
          "date": "2017-12-17",
          "index": 106,
          "nb_sold": 10704214.26,
          "size": "small",
          "type": "conventional",
          "year": 2017
         },
         {
          "avg_price": 1.03,
          "date": "2017-12-10",
          "index": 107,
          "nb_sold": 11943914.54,
          "size": "small",
          "type": "conventional",
          "year": 2017
         },
         {
          "avg_price": 1.09,
          "date": "2017-12-03",
          "index": 108,
          "nb_sold": 11746980,
          "size": "small",
          "type": "conventional",
          "year": 2017
         },
         {
          "avg_price": 1.24,
          "date": "2017-11-26",
          "index": 109,
          "nb_sold": 9175316,
          "size": "small",
          "type": "conventional",
          "year": 2017
         },
         {
          "avg_price": 1.17,
          "date": "2017-11-19",
          "index": 110,
          "nb_sold": 11173132,
          "size": "small",
          "type": "conventional",
          "year": 2017
         },
         {
          "avg_price": 1.15,
          "date": "2017-11-12",
          "index": 111,
          "nb_sold": 11512837,
          "size": "small",
          "type": "conventional",
          "year": 2017
         },
         {
          "avg_price": 1.19,
          "date": "2017-11-05",
          "index": 112,
          "nb_sold": 11042128.27,
          "size": "small",
          "type": "conventional",
          "year": 2017
         },
         {
          "avg_price": 1.29,
          "date": "2017-10-29",
          "index": 113,
          "nb_sold": 10596902.91,
          "size": "small",
          "type": "conventional",
          "year": 2017
         },
         {
          "avg_price": 1.44,
          "date": "2017-10-22",
          "index": 114,
          "nb_sold": 9607586.96,
          "size": "small",
          "type": "conventional",
          "year": 2017
         },
         {
          "avg_price": 1.58,
          "date": "2017-10-15",
          "index": 115,
          "nb_sold": 8769357.86,
          "size": "small",
          "type": "conventional",
          "year": 2017
         },
         {
          "avg_price": 1.65,
          "date": "2017-10-08",
          "index": 116,
          "nb_sold": 8911144.2,
          "size": "small",
          "type": "conventional",
          "year": 2017
         },
         {
          "avg_price": 1.64,
          "date": "2017-10-01",
          "index": 117,
          "nb_sold": 8342407.59,
          "size": "small",
          "type": "conventional",
          "year": 2017
         },
         {
          "avg_price": 1.62,
          "date": "2017-09-24",
          "index": 118,
          "nb_sold": 8652381.39,
          "size": "small",
          "type": "conventional",
          "year": 2017
         },
         {
          "avg_price": 1.57,
          "date": "2017-09-17",
          "index": 119,
          "nb_sold": 9153158.54,
          "size": "small",
          "type": "conventional",
          "year": 2017
         },
         {
          "avg_price": 1.56,
          "date": "2017-09-10",
          "index": 120,
          "nb_sold": 9496485.27,
          "size": "small",
          "type": "conventional",
          "year": 2017
         },
         {
          "avg_price": 1.57,
          "date": "2017-09-03",
          "index": 121,
          "nb_sold": 9775062.87,
          "size": "small",
          "type": "conventional",
          "year": 2017
         },
         {
          "avg_price": 1.47,
          "date": "2017-08-27",
          "index": 122,
          "nb_sold": 10735709.61,
          "size": "small",
          "type": "conventional",
          "year": 2017
         },
         {
          "avg_price": 1.41,
          "date": "2017-08-20",
          "index": 123,
          "nb_sold": 10507928.78,
          "size": "small",
          "type": "conventional",
          "year": 2017
         },
         {
          "avg_price": 1.33,
          "date": "2017-08-13",
          "index": 124,
          "nb_sold": 10952703.84,
          "size": "small",
          "type": "conventional",
          "year": 2017
         },
         {
          "avg_price": 1.33,
          "date": "2017-08-06",
          "index": 125,
          "nb_sold": 11292580.44,
          "size": "small",
          "type": "conventional",
          "year": 2017
         },
         {
          "avg_price": 1.32,
          "date": "2017-07-30",
          "index": 126,
          "nb_sold": 11112191.11,
          "size": "small",
          "type": "conventional",
          "year": 2017
         },
         {
          "avg_price": 1.31,
          "date": "2017-07-23",
          "index": 127,
          "nb_sold": 11391055.98,
          "size": "small",
          "type": "conventional",
          "year": 2017
         },
         {
          "avg_price": 1.33,
          "date": "2017-07-16",
          "index": 128,
          "nb_sold": 11155465.9,
          "size": "small",
          "type": "conventional",
          "year": 2017
         },
         {
          "avg_price": 1.17,
          "date": "2017-07-09",
          "index": 129,
          "nb_sold": 13009944.14,
          "size": "small",
          "type": "conventional",
          "year": 2017
         },
         {
          "avg_price": 1.21,
          "date": "2017-07-02",
          "index": 130,
          "nb_sold": 12623188.5,
          "size": "small",
          "type": "conventional",
          "year": 2017
         },
         {
          "avg_price": 1.17,
          "date": "2017-06-25",
          "index": 131,
          "nb_sold": 12901031.63,
          "size": "small",
          "type": "conventional",
          "year": 2017
         },
         {
          "avg_price": 1.18,
          "date": "2017-06-18",
          "index": 132,
          "nb_sold": 12975373.48,
          "size": "small",
          "type": "conventional",
          "year": 2017
         },
         {
          "avg_price": 1.21,
          "date": "2017-06-11",
          "index": 133,
          "nb_sold": 13490545.5,
          "size": "small",
          "type": "conventional",
          "year": 2017
         },
         {
          "avg_price": 1.24,
          "date": "2017-06-04",
          "index": 134,
          "nb_sold": 13248334.78,
          "size": "small",
          "type": "conventional",
          "year": 2017
         },
         {
          "avg_price": 1.28,
          "date": "2017-05-28",
          "index": 135,
          "nb_sold": 12841952.21,
          "size": "small",
          "type": "conventional",
          "year": 2017
         },
         {
          "avg_price": 1.26,
          "date": "2017-05-21",
          "index": 136,
          "nb_sold": 12120948.7,
          "size": "small",
          "type": "conventional",
          "year": 2017
         },
         {
          "avg_price": 1.19,
          "date": "2017-05-14",
          "index": 137,
          "nb_sold": 12807836.17,
          "size": "small",
          "type": "conventional",
          "year": 2017
         },
         {
          "avg_price": 1.09,
          "date": "2017-05-07",
          "index": 138,
          "nb_sold": 17076650.82,
          "size": "small",
          "type": "conventional",
          "year": 2017
         },
         {
          "avg_price": 1.18,
          "date": "2017-04-30",
          "index": 139,
          "nb_sold": 13316594.36,
          "size": "small",
          "type": "conventional",
          "year": 2017
         },
         {
          "avg_price": 1.18,
          "date": "2017-04-23",
          "index": 140,
          "nb_sold": 12236713.41,
          "size": "small",
          "type": "conventional",
          "year": 2017
         },
         {
          "avg_price": 1.23,
          "date": "2017-04-16",
          "index": 141,
          "nb_sold": 12311055.17,
          "size": "small",
          "type": "conventional",
          "year": 2017
         },
         {
          "avg_price": 1.21,
          "date": "2017-04-09",
          "index": 142,
          "nb_sold": 12091315.22,
          "size": "small",
          "type": "conventional",
          "year": 2017
         },
         {
          "avg_price": 1.21,
          "date": "2017-04-02",
          "index": 143,
          "nb_sold": 12245520.55,
          "size": "small",
          "type": "conventional",
          "year": 2017
         },
         {
          "avg_price": 1.24,
          "date": "2017-03-26",
          "index": 144,
          "nb_sold": 11737559.6,
          "size": "small",
          "type": "conventional",
          "year": 2017
         },
         {
          "avg_price": 1.25,
          "date": "2017-03-19",
          "index": 145,
          "nb_sold": 10975689.78,
          "size": "small",
          "type": "conventional",
          "year": 2017
         },
         {
          "avg_price": 1.22,
          "date": "2017-03-12",
          "index": 146,
          "nb_sold": 11228357.23,
          "size": "small",
          "type": "conventional",
          "year": 2017
         },
         {
          "avg_price": 1.13,
          "date": "2017-03-05",
          "index": 147,
          "nb_sold": 11335275.58,
          "size": "small",
          "type": "conventional",
          "year": 2017
         },
         {
          "avg_price": 0.99,
          "date": "2017-02-26",
          "index": 148,
          "nb_sold": 13173668.36,
          "size": "small",
          "type": "conventional",
          "year": 2017
         },
         {
          "avg_price": 0.99,
          "date": "2017-02-19",
          "index": 149,
          "nb_sold": 11321732.4,
          "size": "small",
          "type": "conventional",
          "year": 2017
         },
         {
          "avg_price": 0.87,
          "date": "2017-02-12",
          "index": 150,
          "nb_sold": 15051951.54,
          "size": "small",
          "type": "conventional",
          "year": 2017
         },
         {
          "avg_price": 0.77,
          "date": "2017-02-05",
          "index": 151,
          "nb_sold": 22743616.17,
          "size": "small",
          "type": "conventional",
          "year": 2017
         },
         {
          "avg_price": 0.96,
          "date": "2017-01-29",
          "index": 152,
          "nb_sold": 14034075.77,
          "size": "small",
          "type": "conventional",
          "year": 2017
         },
         {
          "avg_price": 0.94,
          "date": "2017-01-22",
          "index": 153,
          "nb_sold": 14254150.46,
          "size": "small",
          "type": "conventional",
          "year": 2017
         },
         {
          "avg_price": 0.98,
          "date": "2017-01-15",
          "index": 154,
          "nb_sold": 12936858.36,
          "size": "small",
          "type": "conventional",
          "year": 2017
         },
         {
          "avg_price": 0.99,
          "date": "2017-01-08",
          "index": 155,
          "nb_sold": 11809727.7,
          "size": "small",
          "type": "conventional",
          "year": 2017
         },
         {
          "avg_price": 0.89,
          "date": "2017-01-01",
          "index": 156,
          "nb_sold": 12707894.99,
          "size": "small",
          "type": "conventional",
          "year": 2017
         },
         {
          "avg_price": 1.03,
          "date": "2018-03-25",
          "index": 157,
          "nb_sold": 14130799.1,
          "size": "small",
          "type": "conventional",
          "year": 2018
         },
         {
          "avg_price": 1.05,
          "date": "2018-03-18",
          "index": 158,
          "nb_sold": 13707389.51,
          "size": "small",
          "type": "conventional",
          "year": 2018
         },
         {
          "avg_price": 1.09,
          "date": "2018-03-11",
          "index": 159,
          "nb_sold": 14089091.05,
          "size": "small",
          "type": "conventional",
          "year": 2018
         },
         {
          "avg_price": 1.07,
          "date": "2018-03-04",
          "index": 160,
          "nb_sold": 14439547.46,
          "size": "small",
          "type": "conventional",
          "year": 2018
         },
         {
          "avg_price": 1.06,
          "date": "2018-02-25",
          "index": 161,
          "nb_sold": 13829857.87,
          "size": "small",
          "type": "conventional",
          "year": 2018
         },
         {
          "avg_price": 1.08,
          "date": "2018-02-18",
          "index": 162,
          "nb_sold": 13262751.42,
          "size": "small",
          "type": "conventional",
          "year": 2018
         },
         {
          "avg_price": 0.97,
          "date": "2018-02-11",
          "index": 163,
          "nb_sold": 15870677.7,
          "size": "small",
          "type": "conventional",
          "year": 2018
         },
         {
          "avg_price": 0.87,
          "date": "2018-02-04",
          "index": 164,
          "nb_sold": 21620180.9,
          "size": "small",
          "type": "conventional",
          "year": 2018
         },
         {
          "avg_price": 1.09,
          "date": "2018-01-28",
          "index": 165,
          "nb_sold": 14551799.5,
          "size": "small",
          "type": "conventional",
          "year": 2018
         },
         {
          "avg_price": 1.08,
          "date": "2018-01-21",
          "index": 166,
          "nb_sold": 14218843.83,
          "size": "small",
          "type": "conventional",
          "year": 2018
         },
         {
          "avg_price": 1.2,
          "date": "2018-01-14",
          "index": 167,
          "nb_sold": 12600918.24,
          "size": "small",
          "type": "conventional",
          "year": 2018
         },
         {
          "avg_price": 1.13,
          "date": "2018-01-07",
          "index": 168,
          "nb_sold": 13730992.75,
          "size": "small",
          "type": "conventional",
          "year": 2018
         },
         {
          "avg_price": 1.52,
          "date": "2015-12-27",
          "index": 169,
          "nb_sold": 89709.92,
          "size": "small",
          "type": "organic",
          "year": 2015
         },
         {
          "avg_price": 1.53,
          "date": "2015-12-20",
          "index": 170,
          "nb_sold": 93849.3,
          "size": "small",
          "type": "organic",
          "year": 2015
         },
         {
          "avg_price": 1.43,
          "date": "2015-12-13",
          "index": 171,
          "nb_sold": 91837.92,
          "size": "small",
          "type": "organic",
          "year": 2015
         },
         {
          "avg_price": 1.52,
          "date": "2015-12-06",
          "index": 172,
          "nb_sold": 90203.21,
          "size": "small",
          "type": "organic",
          "year": 2015
         },
         {
          "avg_price": 1.5,
          "date": "2015-11-29",
          "index": 173,
          "nb_sold": 79215.51,
          "size": "small",
          "type": "organic",
          "year": 2015
         },
         {
          "avg_price": 1.49,
          "date": "2015-11-22",
          "index": 174,
          "nb_sold": 95222.99,
          "size": "small",
          "type": "organic",
          "year": 2015
         },
         {
          "avg_price": 1.6,
          "date": "2015-11-15",
          "index": 175,
          "nb_sold": 109494.19,
          "size": "small",
          "type": "organic",
          "year": 2015
         },
         {
          "avg_price": 1.54,
          "date": "2015-11-08",
          "index": 176,
          "nb_sold": 167254.55,
          "size": "small",
          "type": "organic",
          "year": 2015
         },
         {
          "avg_price": 1.47,
          "date": "2015-11-01",
          "index": 177,
          "nb_sold": 113380.29,
          "size": "small",
          "type": "organic",
          "year": 2015
         },
         {
          "avg_price": 1.62,
          "date": "2015-10-25",
          "index": 178,
          "nb_sold": 109006.18,
          "size": "small",
          "type": "organic",
          "year": 2015
         },
         {
          "avg_price": 1.71,
          "date": "2015-10-18",
          "index": 179,
          "nb_sold": 108697.64,
          "size": "small",
          "type": "organic",
          "year": 2015
         },
         {
          "avg_price": 1.69,
          "date": "2015-10-11",
          "index": 180,
          "nb_sold": 93015.27,
          "size": "small",
          "type": "organic",
          "year": 2015
         },
         {
          "avg_price": 1.72,
          "date": "2015-10-04",
          "index": 181,
          "nb_sold": 95393.58,
          "size": "small",
          "type": "organic",
          "year": 2015
         },
         {
          "avg_price": 1.75,
          "date": "2015-09-27",
          "index": 182,
          "nb_sold": 114590.38,
          "size": "small",
          "type": "organic",
          "year": 2015
         },
         {
          "avg_price": 1.77,
          "date": "2015-09-20",
          "index": 183,
          "nb_sold": 126318.13,
          "size": "small",
          "type": "organic",
          "year": 2015
         },
         {
          "avg_price": 1.8,
          "date": "2015-09-13",
          "index": 184,
          "nb_sold": 133928.36,
          "size": "small",
          "type": "organic",
          "year": 2015
         },
         {
          "avg_price": 1.78,
          "date": "2015-09-06",
          "index": 185,
          "nb_sold": 132181.77,
          "size": "small",
          "type": "organic",
          "year": 2015
         },
         {
          "avg_price": 1.66,
          "date": "2015-08-30",
          "index": 186,
          "nb_sold": 150924.97,
          "size": "small",
          "type": "organic",
          "year": 2015
         },
         {
          "avg_price": 1.72,
          "date": "2015-08-23",
          "index": 187,
          "nb_sold": 176723.74,
          "size": "small",
          "type": "organic",
          "year": 2015
         },
         {
          "avg_price": 1.75,
          "date": "2015-08-16",
          "index": 188,
          "nb_sold": 150876.8,
          "size": "small",
          "type": "organic",
          "year": 2015
         },
         {
          "avg_price": 1,
          "date": "2015-08-09",
          "index": 189,
          "nb_sold": 170184,
          "size": "small",
          "type": "organic",
          "year": 2015
         },
         {
          "avg_price": 1,
          "date": "2015-08-02",
          "index": 190,
          "nb_sold": 164126,
          "size": "small",
          "type": "organic",
          "year": 2015
         },
         {
          "avg_price": 1,
          "date": "2015-07-26",
          "index": 191,
          "nb_sold": 169940,
          "size": "small",
          "type": "organic",
          "year": 2015
         },
         {
          "avg_price": 1,
          "date": "2015-07-19",
          "index": 192,
          "nb_sold": 159752,
          "size": "small",
          "type": "organic",
          "year": 2015
         },
         {
          "avg_price": 1,
          "date": "2015-07-12",
          "index": 193,
          "nb_sold": 178871,
          "size": "small",
          "type": "organic",
          "year": 2015
         },
         {
          "avg_price": 1,
          "date": "2015-07-05",
          "index": 194,
          "nb_sold": 205073,
          "size": "small",
          "type": "organic",
          "year": 2015
         },
         {
          "avg_price": 1.64,
          "date": "2015-06-28",
          "index": 195,
          "nb_sold": 192182.13,
          "size": "small",
          "type": "organic",
          "year": 2015
         },
         {
          "avg_price": 1.66,
          "date": "2015-06-21",
          "index": 196,
          "nb_sold": 202071.06,
          "size": "small",
          "type": "organic",
          "year": 2015
         },
         {
          "avg_price": 1.68,
          "date": "2015-06-14",
          "index": 197,
          "nb_sold": 203021.68,
          "size": "small",
          "type": "organic",
          "year": 2015
         },
         {
          "avg_price": 1.67,
          "date": "2015-06-07",
          "index": 198,
          "nb_sold": 200483.4,
          "size": "small",
          "type": "organic",
          "year": 2015
         },
         {
          "avg_price": 1.58,
          "date": "2015-05-31",
          "index": 199,
          "nb_sold": 205250.19,
          "size": "small",
          "type": "organic",
          "year": 2015
         },
         {
          "avg_price": 1.59,
          "date": "2015-05-24",
          "index": 200,
          "nb_sold": 234692.14,
          "size": "small",
          "type": "organic",
          "year": 2015
         },
         {
          "avg_price": 1.5,
          "date": "2015-05-17",
          "index": 201,
          "nb_sold": 246278.31,
          "size": "small",
          "type": "organic",
          "year": 2015
         },
         {
          "avg_price": 1.42,
          "date": "2015-05-10",
          "index": 202,
          "nb_sold": 251602.18,
          "size": "small",
          "type": "organic",
          "year": 2015
         },
         {
          "avg_price": 1.37,
          "date": "2015-05-03",
          "index": 203,
          "nb_sold": 323883.65,
          "size": "small",
          "type": "organic",
          "year": 2015
         },
         {
          "avg_price": 1.45,
          "date": "2015-04-26",
          "index": 204,
          "nb_sold": 321733.2,
          "size": "small",
          "type": "organic",
          "year": 2015
         },
         {
          "avg_price": 1.59,
          "date": "2015-04-19",
          "index": 205,
          "nb_sold": 215283.51,
          "size": "small",
          "type": "organic",
          "year": 2015
         },
         {
          "avg_price": 1.53,
          "date": "2015-04-12",
          "index": 206,
          "nb_sold": 202491.27,
          "size": "small",
          "type": "organic",
          "year": 2015
         },
         {
          "avg_price": 1.63,
          "date": "2015-04-05",
          "index": 207,
          "nb_sold": 197746.89,
          "size": "small",
          "type": "organic",
          "year": 2015
         },
         {
          "avg_price": 1.6,
          "date": "2015-03-29",
          "index": 208,
          "nb_sold": 193273.88,
          "size": "small",
          "type": "organic",
          "year": 2015
         },
         {
          "avg_price": 1.49,
          "date": "2015-03-22",
          "index": 209,
          "nb_sold": 237139.46,
          "size": "small",
          "type": "organic",
          "year": 2015
         },
         {
          "avg_price": 1.5,
          "date": "2015-03-15",
          "index": 210,
          "nb_sold": 235569.01,
          "size": "small",
          "type": "organic",
          "year": 2015
         },
         {
          "avg_price": 1.49,
          "date": "2015-03-08",
          "index": 211,
          "nb_sold": 253078.17,
          "size": "small",
          "type": "organic",
          "year": 2015
         },
         {
          "avg_price": 1.4,
          "date": "2015-03-01",
          "index": 212,
          "nb_sold": 361996.84,
          "size": "small",
          "type": "organic",
          "year": 2015
         },
         {
          "avg_price": 1.51,
          "date": "2015-02-22",
          "index": 213,
          "nb_sold": 272594.88,
          "size": "small",
          "type": "organic",
          "year": 2015
         },
         {
          "avg_price": 1.58,
          "date": "2015-02-15",
          "index": 214,
          "nb_sold": 207650.64,
          "size": "small",
          "type": "organic",
          "year": 2015
         },
         {
          "avg_price": 1.48,
          "date": "2015-02-08",
          "index": 215,
          "nb_sold": 215657.99,
          "size": "small",
          "type": "organic",
          "year": 2015
         },
         {
          "avg_price": 1.36,
          "date": "2015-02-01",
          "index": 216,
          "nb_sold": 302561.47,
          "size": "small",
          "type": "organic",
          "year": 2015
         },
         {
          "avg_price": 1.53,
          "date": "2015-01-25",
          "index": 217,
          "nb_sold": 207494.87,
          "size": "small",
          "type": "organic",
          "year": 2015
         },
         {
          "avg_price": 1.42,
          "date": "2015-01-18",
          "index": 218,
          "nb_sold": 254319.58,
          "size": "small",
          "type": "organic",
          "year": 2015
         },
         {
          "avg_price": 1.42,
          "date": "2015-01-11",
          "index": 219,
          "nb_sold": 270966.74,
          "size": "small",
          "type": "organic",
          "year": 2015
         },
         {
          "avg_price": 1.46,
          "date": "2015-01-04",
          "index": 220,
          "nb_sold": 233286.13,
          "size": "small",
          "type": "organic",
          "year": 2015
         },
         {
          "avg_price": 1.34,
          "date": "2016-12-25",
          "index": 221,
          "nb_sold": 93875.25,
          "size": "small",
          "type": "organic",
          "year": 2016
         },
         {
          "avg_price": 1.43,
          "date": "2016-12-18",
          "index": 222,
          "nb_sold": 97661.23,
          "size": "small",
          "type": "organic",
          "year": 2016
         },
         {
          "avg_price": 1.42,
          "date": "2016-12-11",
          "index": 223,
          "nb_sold": 93027.82,
          "size": "small",
          "type": "organic",
          "year": 2016
         },
         {
          "avg_price": 1.56,
          "date": "2016-12-04",
          "index": 224,
          "nb_sold": 106472.53,
          "size": "small",
          "type": "organic",
          "year": 2016
         },
         {
          "avg_price": 1.64,
          "date": "2016-11-27",
          "index": 225,
          "nb_sold": 100240.54,
          "size": "small",
          "type": "organic",
          "year": 2016
         },
         {
          "avg_price": 1.63,
          "date": "2016-11-20",
          "index": 226,
          "nb_sold": 110737.55,
          "size": "small",
          "type": "organic",
          "year": 2016
         },
         {
          "avg_price": 1.7,
          "date": "2016-11-13",
          "index": 227,
          "nb_sold": 110018.79,
          "size": "small",
          "type": "organic",
          "year": 2016
         },
         {
          "avg_price": 1.68,
          "date": "2016-11-06",
          "index": 228,
          "nb_sold": 117317.9,
          "size": "small",
          "type": "organic",
          "year": 2016
         },
         {
          "avg_price": 1.93,
          "date": "2016-10-30",
          "index": 229,
          "nb_sold": 123815.8,
          "size": "small",
          "type": "organic",
          "year": 2016
         },
         {
          "avg_price": 1.63,
          "date": "2016-10-23",
          "index": 230,
          "nb_sold": 131203.12,
          "size": "small",
          "type": "organic",
          "year": 2016
         },
         {
          "avg_price": 1.5,
          "date": "2016-10-16",
          "index": 231,
          "nb_sold": 114303.56,
          "size": "small",
          "type": "organic",
          "year": 2016
         },
         {
          "avg_price": 1.52,
          "date": "2016-10-09",
          "index": 232,
          "nb_sold": 127092.78,
          "size": "small",
          "type": "organic",
          "year": 2016
         },
         {
          "avg_price": 1.71,
          "date": "2016-10-02",
          "index": 233,
          "nb_sold": 131467.24,
          "size": "small",
          "type": "organic",
          "year": 2016
         },
         {
          "avg_price": 1.69,
          "date": "2016-09-25",
          "index": 234,
          "nb_sold": 119993.58,
          "size": "small",
          "type": "organic",
          "year": 2016
         },
         {
          "avg_price": 1.67,
          "date": "2016-09-18",
          "index": 235,
          "nb_sold": 127014.67,
          "size": "small",
          "type": "organic",
          "year": 2016
         },
         {
          "avg_price": 1.52,
          "date": "2016-09-11",
          "index": 236,
          "nb_sold": 144991.21,
          "size": "small",
          "type": "organic",
          "year": 2016
         },
         {
          "avg_price": 1.54,
          "date": "2016-09-04",
          "index": 237,
          "nb_sold": 137842.79,
          "size": "small",
          "type": "organic",
          "year": 2016
         },
         {
          "avg_price": 1.49,
          "date": "2016-08-28",
          "index": 238,
          "nb_sold": 135742.77,
          "size": "small",
          "type": "organic",
          "year": 2016
         },
         {
          "avg_price": 1.51,
          "date": "2016-08-21",
          "index": 239,
          "nb_sold": 177591.96,
          "size": "small",
          "type": "organic",
          "year": 2016
         },
         {
          "avg_price": 1.48,
          "date": "2016-08-14",
          "index": 240,
          "nb_sold": 186697.3,
          "size": "small",
          "type": "organic",
          "year": 2016
         },
         {
          "avg_price": 1.55,
          "date": "2016-08-07",
          "index": 241,
          "nb_sold": 151179.99,
          "size": "small",
          "type": "organic",
          "year": 2016
         },
         {
          "avg_price": 1.58,
          "date": "2016-07-31",
          "index": 242,
          "nb_sold": 156417.33,
          "size": "small",
          "type": "organic",
          "year": 2016
         },
         {
          "avg_price": 1.65,
          "date": "2016-07-24",
          "index": 243,
          "nb_sold": 159151.31,
          "size": "small",
          "type": "organic",
          "year": 2016
         },
         {
          "avg_price": 1.63,
          "date": "2016-07-17",
          "index": 244,
          "nb_sold": 152828.51,
          "size": "small",
          "type": "organic",
          "year": 2016
         },
         {
          "avg_price": 1.51,
          "date": "2016-07-10",
          "index": 245,
          "nb_sold": 152994.7,
          "size": "small",
          "type": "organic",
          "year": 2016
         },
         {
          "avg_price": 1.47,
          "date": "2016-07-03",
          "index": 246,
          "nb_sold": 159903,
          "size": "small",
          "type": "organic",
          "year": 2016
         },
         {
          "avg_price": 1.5,
          "date": "2016-06-26",
          "index": 247,
          "nb_sold": 171054.38,
          "size": "small",
          "type": "organic",
          "year": 2016
         },
         {
          "avg_price": 1.45,
          "date": "2016-06-19",
          "index": 248,
          "nb_sold": 166983.45,
          "size": "small",
          "type": "organic",
          "year": 2016
         },
         {
          "avg_price": 1.45,
          "date": "2016-06-12",
          "index": 249,
          "nb_sold": 176286.36,
          "size": "small",
          "type": "organic",
          "year": 2016
         },
         {
          "avg_price": 1.43,
          "date": "2016-06-05",
          "index": 250,
          "nb_sold": 152105.91,
          "size": "small",
          "type": "organic",
          "year": 2016
         },
         {
          "avg_price": 1.41,
          "date": "2016-05-29",
          "index": 251,
          "nb_sold": 137449.41,
          "size": "small",
          "type": "organic",
          "year": 2016
         },
         {
          "avg_price": 1.36,
          "date": "2016-05-22",
          "index": 252,
          "nb_sold": 166883.21,
          "size": "small",
          "type": "organic",
          "year": 2016
         },
         {
          "avg_price": 1.45,
          "date": "2016-05-15",
          "index": 253,
          "nb_sold": 146037.3,
          "size": "small",
          "type": "organic",
          "year": 2016
         },
         {
          "avg_price": 1.3,
          "date": "2016-05-08",
          "index": 254,
          "nb_sold": 132225.28,
          "size": "small",
          "type": "organic",
          "year": 2016
         },
         {
          "avg_price": 1.28,
          "date": "2016-05-01",
          "index": 255,
          "nb_sold": 238992.91,
          "size": "small",
          "type": "organic",
          "year": 2016
         },
         {
          "avg_price": 1.25,
          "date": "2016-04-24",
          "index": 256,
          "nb_sold": 225429.09,
          "size": "small",
          "type": "organic",
          "year": 2016
         },
         {
          "avg_price": 1.38,
          "date": "2016-04-17",
          "index": 257,
          "nb_sold": 115155.65,
          "size": "small",
          "type": "organic",
          "year": 2016
         },
         {
          "avg_price": 1.26,
          "date": "2016-04-10",
          "index": 258,
          "nb_sold": 108747.34,
          "size": "small",
          "type": "organic",
          "year": 2016
         },
         {
          "avg_price": 1.44,
          "date": "2016-04-03",
          "index": 259,
          "nb_sold": 119283.9,
          "size": "small",
          "type": "organic",
          "year": 2016
         },
         {
          "avg_price": 1.44,
          "date": "2016-03-27",
          "index": 260,
          "nb_sold": 112620.05,
          "size": "small",
          "type": "organic",
          "year": 2016
         },
         {
          "avg_price": 1.27,
          "date": "2016-03-20",
          "index": 261,
          "nb_sold": 105069.07,
          "size": "small",
          "type": "organic",
          "year": 2016
         },
         {
          "avg_price": 1.29,
          "date": "2016-03-13",
          "index": 262,
          "nb_sold": 132040.04,
          "size": "small",
          "type": "organic",
          "year": 2016
         },
         {
          "avg_price": 1.28,
          "date": "2016-03-06",
          "index": 263,
          "nb_sold": 127184.88,
          "size": "small",
          "type": "organic",
          "year": 2016
         },
         {
          "avg_price": 1.44,
          "date": "2016-02-28",
          "index": 264,
          "nb_sold": 110120.49,
          "size": "small",
          "type": "organic",
          "year": 2016
         },
         {
          "avg_price": 1.45,
          "date": "2016-02-21",
          "index": 265,
          "nb_sold": 104135.94,
          "size": "small",
          "type": "organic",
          "year": 2016
         },
         {
          "avg_price": 1.37,
          "date": "2016-02-14",
          "index": 266,
          "nb_sold": 102897.63,
          "size": "small",
          "type": "organic",
          "year": 2016
         },
         {
          "avg_price": 1.44,
          "date": "2016-02-07",
          "index": 267,
          "nb_sold": 101408.79,
          "size": "small",
          "type": "organic",
          "year": 2016
         },
         {
          "avg_price": 1.43,
          "date": "2016-01-31",
          "index": 268,
          "nb_sold": 108929.21,
          "size": "small",
          "type": "organic",
          "year": 2016
         },
         {
          "avg_price": 1.41,
          "date": "2016-01-24",
          "index": 269,
          "nb_sold": 99316.69,
          "size": "small",
          "type": "organic",
          "year": 2016
         },
         {
          "avg_price": 1.44,
          "date": "2016-01-17",
          "index": 270,
          "nb_sold": 115992.81,
          "size": "small",
          "type": "organic",
          "year": 2016
         },
         {
          "avg_price": 1.35,
          "date": "2016-01-10",
          "index": 271,
          "nb_sold": 113867.63,
          "size": "small",
          "type": "organic",
          "year": 2016
         },
         {
          "avg_price": 1.43,
          "date": "2016-01-03",
          "index": 272,
          "nb_sold": 124799.63,
          "size": "small",
          "type": "organic",
          "year": 2016
         },
         {
          "avg_price": 1.52,
          "date": "2017-12-31",
          "index": 273,
          "nb_sold": 120545.76,
          "size": "small",
          "type": "organic",
          "year": 2017
         },
         {
          "avg_price": 1.64,
          "date": "2017-12-24",
          "index": 274,
          "nb_sold": 103199.55,
          "size": "small",
          "type": "organic",
          "year": 2017
         },
         {
          "avg_price": 1.57,
          "date": "2017-12-17",
          "index": 275,
          "nb_sold": 94905.86,
          "size": "small",
          "type": "organic",
          "year": 2017
         },
         {
          "avg_price": 1.54,
          "date": "2017-12-10",
          "index": 276,
          "nb_sold": 94279.26,
          "size": "small",
          "type": "organic",
          "year": 2017
         },
         {
          "avg_price": 1.62,
          "date": "2017-12-03",
          "index": 277,
          "nb_sold": 99317.88,
          "size": "small",
          "type": "organic",
          "year": 2017
         },
         {
          "avg_price": 1.72,
          "date": "2017-11-26",
          "index": 278,
          "nb_sold": 77759.93,
          "size": "small",
          "type": "organic",
          "year": 2017
         },
         {
          "avg_price": 1.77,
          "date": "2017-11-19",
          "index": 279,
          "nb_sold": 88110.88,
          "size": "small",
          "type": "organic",
          "year": 2017
         },
         {
          "avg_price": 1.81,
          "date": "2017-11-12",
          "index": 280,
          "nb_sold": 93312.94,
          "size": "small",
          "type": "organic",
          "year": 2017
         },
         {
          "avg_price": 1.82,
          "date": "2017-11-05",
          "index": 281,
          "nb_sold": 88073.16,
          "size": "small",
          "type": "organic",
          "year": 2017
         },
         {
          "avg_price": 1.84,
          "date": "2017-10-29",
          "index": 282,
          "nb_sold": 88668.95,
          "size": "small",
          "type": "organic",
          "year": 2017
         },
         {
          "avg_price": 1.82,
          "date": "2017-10-22",
          "index": 283,
          "nb_sold": 89301.75,
          "size": "small",
          "type": "organic",
          "year": 2017
         },
         {
          "avg_price": 1.85,
          "date": "2017-10-15",
          "index": 284,
          "nb_sold": 103557.18,
          "size": "small",
          "type": "organic",
          "year": 2017
         },
         {
          "avg_price": 1.9,
          "date": "2017-10-08",
          "index": 285,
          "nb_sold": 100744.58,
          "size": "small",
          "type": "organic",
          "year": 2017
         },
         {
          "avg_price": 1.95,
          "date": "2017-10-01",
          "index": 286,
          "nb_sold": 100319.38,
          "size": "small",
          "type": "organic",
          "year": 2017
         },
         {
          "avg_price": 1.94,
          "date": "2017-09-24",
          "index": 287,
          "nb_sold": 116338.61,
          "size": "small",
          "type": "organic",
          "year": 2017
         },
         {
          "avg_price": 2,
          "date": "2017-09-17",
          "index": 288,
          "nb_sold": 140979.17,
          "size": "small",
          "type": "organic",
          "year": 2017
         },
         {
          "avg_price": 2.03,
          "date": "2017-09-10",
          "index": 289,
          "nb_sold": 114942.21,
          "size": "small",
          "type": "organic",
          "year": 2017
         },
         {
          "avg_price": 2.06,
          "date": "2017-09-03",
          "index": 290,
          "nb_sold": 113516,
          "size": "small",
          "type": "organic",
          "year": 2017
         },
         {
          "avg_price": 2.09,
          "date": "2017-08-27",
          "index": 291,
          "nb_sold": 112812.39,
          "size": "small",
          "type": "organic",
          "year": 2017
         },
         {
          "avg_price": 1.96,
          "date": "2017-08-20",
          "index": 292,
          "nb_sold": 108658.66,
          "size": "small",
          "type": "organic",
          "year": 2017
         },
         {
          "avg_price": 1.88,
          "date": "2017-08-13",
          "index": 293,
          "nb_sold": 98007.24,
          "size": "small",
          "type": "organic",
          "year": 2017
         },
         {
          "avg_price": 1.83,
          "date": "2017-08-06",
          "index": 294,
          "nb_sold": 112592.04,
          "size": "small",
          "type": "organic",
          "year": 2017
         },
         {
          "avg_price": 1.78,
          "date": "2017-07-30",
          "index": 295,
          "nb_sold": 100332.24,
          "size": "small",
          "type": "organic",
          "year": 2017
         },
         {
          "avg_price": 1.76,
          "date": "2017-07-23",
          "index": 296,
          "nb_sold": 113467.66,
          "size": "small",
          "type": "organic",
          "year": 2017
         },
         {
          "avg_price": 1.78,
          "date": "2017-07-16",
          "index": 297,
          "nb_sold": 94267.55,
          "size": "small",
          "type": "organic",
          "year": 2017
         },
         {
          "avg_price": 1.71,
          "date": "2017-07-09",
          "index": 298,
          "nb_sold": 109023.66,
          "size": "small",
          "type": "organic",
          "year": 2017
         },
         {
          "avg_price": 1.74,
          "date": "2017-07-02",
          "index": 299,
          "nb_sold": 128156.1,
          "size": "small",
          "type": "organic",
          "year": 2017
         },
         {
          "avg_price": 1.77,
          "date": "2017-06-25",
          "index": 300,
          "nb_sold": 123317.1,
          "size": "small",
          "type": "organic",
          "year": 2017
         },
         {
          "avg_price": 1.71,
          "date": "2017-06-18",
          "index": 301,
          "nb_sold": 169434.58,
          "size": "small",
          "type": "organic",
          "year": 2017
         },
         {
          "avg_price": 1.56,
          "date": "2017-06-11",
          "index": 302,
          "nb_sold": 160841.97,
          "size": "small",
          "type": "organic",
          "year": 2017
         },
         {
          "avg_price": 1.64,
          "date": "2017-06-04",
          "index": 303,
          "nb_sold": 165665.93,
          "size": "small",
          "type": "organic",
          "year": 2017
         },
         {
          "avg_price": 1.69,
          "date": "2017-05-28",
          "index": 304,
          "nb_sold": 163384.37,
          "size": "small",
          "type": "organic",
          "year": 2017
         },
         {
          "avg_price": 1.71,
          "date": "2017-05-21",
          "index": 305,
          "nb_sold": 166985.41,
          "size": "small",
          "type": "organic",
          "year": 2017
         },
         {
          "avg_price": 1.55,
          "date": "2017-05-14",
          "index": 306,
          "nb_sold": 164697.92,
          "size": "small",
          "type": "organic",
          "year": 2017
         },
         {
          "avg_price": 1.57,
          "date": "2017-05-07",
          "index": 307,
          "nb_sold": 172722.76,
          "size": "small",
          "type": "organic",
          "year": 2017
         },
         {
          "avg_price": 1.68,
          "date": "2017-04-30",
          "index": 308,
          "nb_sold": 199039.61,
          "size": "small",
          "type": "organic",
          "year": 2017
         },
         {
          "avg_price": 1.61,
          "date": "2017-04-23",
          "index": 309,
          "nb_sold": 152604.41,
          "size": "small",
          "type": "organic",
          "year": 2017
         },
         {
          "avg_price": 1.49,
          "date": "2017-04-16",
          "index": 310,
          "nb_sold": 176684.11,
          "size": "small",
          "type": "organic",
          "year": 2017
         },
         {
          "avg_price": 1.43,
          "date": "2017-04-09",
          "index": 311,
          "nb_sold": 148803.12,
          "size": "small",
          "type": "organic",
          "year": 2017
         },
         {
          "avg_price": 1.42,
          "date": "2017-04-02",
          "index": 312,
          "nb_sold": 183101.86,
          "size": "small",
          "type": "organic",
          "year": 2017
         },
         {
          "avg_price": 1.29,
          "date": "2017-03-26",
          "index": 313,
          "nb_sold": 160491.66,
          "size": "small",
          "type": "organic",
          "year": 2017
         },
         {
          "avg_price": 1.5,
          "date": "2017-03-19",
          "index": 314,
          "nb_sold": 172196.56,
          "size": "small",
          "type": "organic",
          "year": 2017
         },
         {
          "avg_price": 1.38,
          "date": "2017-03-12",
          "index": 315,
          "nb_sold": 152896.45,
          "size": "small",
          "type": "organic",
          "year": 2017
         },
         {
          "avg_price": 1.16,
          "date": "2017-03-05",
          "index": 316,
          "nb_sold": 184006.16,
          "size": "small",
          "type": "organic",
          "year": 2017
         },
         {
          "avg_price": 1.21,
          "date": "2017-02-26",
          "index": 317,
          "nb_sold": 150448.17,
          "size": "small",
          "type": "organic",
          "year": 2017
         },
         {
          "avg_price": 1.31,
          "date": "2017-02-19",
          "index": 318,
          "nb_sold": 250591.21,
          "size": "small",
          "type": "organic",
          "year": 2017
         },
         {
          "avg_price": 1.41,
          "date": "2017-02-12",
          "index": 319,
          "nb_sold": 136636.34,
          "size": "small",
          "type": "organic",
          "year": 2017
         },
         {
          "avg_price": 1.36,
          "date": "2017-02-05",
          "index": 320,
          "nb_sold": 136100.39,
          "size": "small",
          "type": "organic",
          "year": 2017
         },
         {
          "avg_price": 1.43,
          "date": "2017-01-29",
          "index": 321,
          "nb_sold": 131808.29,
          "size": "small",
          "type": "organic",
          "year": 2017
         },
         {
          "avg_price": 1.37,
          "date": "2017-01-22",
          "index": 322,
          "nb_sold": 115700.02,
          "size": "small",
          "type": "organic",
          "year": 2017
         },
         {
          "avg_price": 1.44,
          "date": "2017-01-15",
          "index": 323,
          "nb_sold": 121132.79,
          "size": "small",
          "type": "organic",
          "year": 2017
         },
         {
          "avg_price": 1.43,
          "date": "2017-01-08",
          "index": 324,
          "nb_sold": 117721.87,
          "size": "small",
          "type": "organic",
          "year": 2017
         },
         {
          "avg_price": 1.48,
          "date": "2017-01-01",
          "index": 325,
          "nb_sold": 99820.77,
          "size": "small",
          "type": "organic",
          "year": 2017
         },
         {
          "avg_price": 1.55,
          "date": "2018-03-25",
          "index": 326,
          "nb_sold": 121007.94,
          "size": "small",
          "type": "organic",
          "year": 2018
         },
         {
          "avg_price": 1.54,
          "date": "2018-03-18",
          "index": 327,
          "nb_sold": 170801.85,
          "size": "small",
          "type": "organic",
          "year": 2018
         },
         {
          "avg_price": 1.52,
          "date": "2018-03-11",
          "index": 328,
          "nb_sold": 129169.72,
          "size": "small",
          "type": "organic",
          "year": 2018
         },
         {
          "avg_price": 1.52,
          "date": "2018-03-04",
          "index": 329,
          "nb_sold": 142345.03,
          "size": "small",
          "type": "organic",
          "year": 2018
         },
         {
          "avg_price": 1.57,
          "date": "2018-02-25",
          "index": 330,
          "nb_sold": 122912.97,
          "size": "small",
          "type": "organic",
          "year": 2018
         },
         {
          "avg_price": 1.52,
          "date": "2018-02-18",
          "index": 331,
          "nb_sold": 246515.35,
          "size": "small",
          "type": "organic",
          "year": 2018
         },
         {
          "avg_price": 1.56,
          "date": "2018-02-11",
          "index": 332,
          "nb_sold": 98465.26,
          "size": "small",
          "type": "organic",
          "year": 2018
         },
         {
          "avg_price": 1.53,
          "date": "2018-02-04",
          "index": 333,
          "nb_sold": 117922.52,
          "size": "small",
          "type": "organic",
          "year": 2018
         },
         {
          "avg_price": 1.61,
          "date": "2018-01-28",
          "index": 334,
          "nb_sold": 118616.17,
          "size": "small",
          "type": "organic",
          "year": 2018
         },
         {
          "avg_price": 1.63,
          "date": "2018-01-21",
          "index": 335,
          "nb_sold": 108705.28,
          "size": "small",
          "type": "organic",
          "year": 2018
         },
         {
          "avg_price": 1.59,
          "date": "2018-01-14",
          "index": 336,
          "nb_sold": 145680.62,
          "size": "small",
          "type": "organic",
          "year": 2018
         },
         {
          "avg_price": 1.51,
          "date": "2018-01-07",
          "index": 337,
          "nb_sold": 129541.43,
          "size": "small",
          "type": "organic",
          "year": 2018
         },
         {
          "avg_price": 0.95,
          "date": "2015-12-27",
          "index": 338,
          "nb_sold": 10197890.05,
          "size": "large",
          "type": "conventional",
          "year": 2015
         },
         {
          "avg_price": 0.98,
          "date": "2015-12-20",
          "index": 339,
          "nb_sold": 9329861.85,
          "size": "large",
          "type": "conventional",
          "year": 2015
         },
         {
          "avg_price": 0.93,
          "date": "2015-12-13",
          "index": 340,
          "nb_sold": 10805838.91,
          "size": "large",
          "type": "conventional",
          "year": 2015
         },
         {
          "avg_price": 0.89,
          "date": "2015-12-06",
          "index": 341,
          "nb_sold": 12160838.62,
          "size": "large",
          "type": "conventional",
          "year": 2015
         },
         {
          "avg_price": 0.99,
          "date": "2015-11-29",
          "index": 342,
          "nb_sold": 9003178.41,
          "size": "large",
          "type": "conventional",
          "year": 2015
         },
         {
          "avg_price": 0.96,
          "date": "2015-11-22",
          "index": 343,
          "nb_sold": 10389879.59,
          "size": "large",
          "type": "conventional",
          "year": 2015
         },
         {
          "avg_price": 0.92,
          "date": "2015-11-15",
          "index": 344,
          "nb_sold": 11699787.51,
          "size": "large",
          "type": "conventional",
          "year": 2015
         },
         {
          "avg_price": 0.97,
          "date": "2015-11-08",
          "index": 345,
          "nb_sold": 12199657.4,
          "size": "large",
          "type": "conventional",
          "year": 2015
         },
         {
          "avg_price": 0.97,
          "date": "2015-11-01",
          "index": 346,
          "nb_sold": 14229286.82,
          "size": "large",
          "type": "conventional",
          "year": 2015
         },
         {
          "avg_price": 1.04,
          "date": "2015-10-25",
          "index": 347,
          "nb_sold": 11410478.34,
          "size": "large",
          "type": "conventional",
          "year": 2015
         },
         {
          "avg_price": 0.99,
          "date": "2015-10-18",
          "index": 348,
          "nb_sold": 14082539.61,
          "size": "large",
          "type": "conventional",
          "year": 2015
         },
         {
          "avg_price": 1,
          "date": "2015-10-11",
          "index": 349,
          "nb_sold": 13326573.45,
          "size": "large",
          "type": "conventional",
          "year": 2015
         },
         {
          "avg_price": 1.02,
          "date": "2015-10-04",
          "index": 350,
          "nb_sold": 13775651.69,
          "size": "large",
          "type": "conventional",
          "year": 2015
         },
         {
          "avg_price": 1.03,
          "date": "2015-09-27",
          "index": 351,
          "nb_sold": 13819912.63,
          "size": "large",
          "type": "conventional",
          "year": 2015
         },
         {
          "avg_price": 1.02,
          "date": "2015-09-20",
          "index": 352,
          "nb_sold": 13846044.56,
          "size": "large",
          "type": "conventional",
          "year": 2015
         },
         {
          "avg_price": 1.03,
          "date": "2015-09-13",
          "index": 353,
          "nb_sold": 14888077.69,
          "size": "large",
          "type": "conventional",
          "year": 2015
         },
         {
          "avg_price": 1.02,
          "date": "2015-09-06",
          "index": 354,
          "nb_sold": 14245598.38,
          "size": "large",
          "type": "conventional",
          "year": 2015
         },
         {
          "avg_price": 1.07,
          "date": "2015-08-30",
          "index": 355,
          "nb_sold": 11995960.83,
          "size": "large",
          "type": "conventional",
          "year": 2015
         },
         {
          "avg_price": 1.08,
          "date": "2015-08-23",
          "index": 356,
          "nb_sold": 12551529.7,
          "size": "large",
          "type": "conventional",
          "year": 2015
         },
         {
          "avg_price": 1.05,
          "date": "2015-08-16",
          "index": 357,
          "nb_sold": 12998327.25,
          "size": "large",
          "type": "conventional",
          "year": 2015
         },
         {
          "avg_price": 1.05,
          "date": "2015-08-09",
          "index": 358,
          "nb_sold": 13926692.62,
          "size": "large",
          "type": "conventional",
          "year": 2015
         },
         {
          "avg_price": 1.09,
          "date": "2015-08-02",
          "index": 359,
          "nb_sold": 12219014.12,
          "size": "large",
          "type": "conventional",
          "year": 2015
         },
         {
          "avg_price": 1.07,
          "date": "2015-07-26",
          "index": 360,
          "nb_sold": 12009228.05,
          "size": "large",
          "type": "conventional",
          "year": 2015
         },
         {
          "avg_price": 1.07,
          "date": "2015-07-19",
          "index": 361,
          "nb_sold": 12605457.17,
          "size": "large",
          "type": "conventional",
          "year": 2015
         },
         {
          "avg_price": 1.07,
          "date": "2015-07-12",
          "index": 362,
          "nb_sold": 12403360.2,
          "size": "large",
          "type": "conventional",
          "year": 2015
         },
         {
          "avg_price": 1.04,
          "date": "2015-07-05",
          "index": 363,
          "nb_sold": 14213650.06,
          "size": "large",
          "type": "conventional",
          "year": 2015
         },
         {
          "avg_price": 1.06,
          "date": "2015-06-28",
          "index": 364,
          "nb_sold": 11505999.24,
          "size": "large",
          "type": "conventional",
          "year": 2015
         },
         {
          "avg_price": 1.02,
          "date": "2015-06-21",
          "index": 365,
          "nb_sold": 13244466.6,
          "size": "large",
          "type": "conventional",
          "year": 2015
         },
         {
          "avg_price": 0.98,
          "date": "2015-06-14",
          "index": 366,
          "nb_sold": 12821015.03,
          "size": "large",
          "type": "conventional",
          "year": 2015
         },
         {
          "avg_price": 1,
          "date": "2015-06-07",
          "index": 367,
          "nb_sold": 12582265.21,
          "size": "large",
          "type": "conventional",
          "year": 2015
         },
         {
          "avg_price": 1.03,
          "date": "2015-05-31",
          "index": 368,
          "nb_sold": 11599634.02,
          "size": "large",
          "type": "conventional",
          "year": 2015
         },
         {
          "avg_price": 1.04,
          "date": "2015-05-24",
          "index": 369,
          "nb_sold": 12513821.19,
          "size": "large",
          "type": "conventional",
          "year": 2015
         },
         {
          "avg_price": 1.06,
          "date": "2015-05-17",
          "index": 370,
          "nb_sold": 11003341.22,
          "size": "large",
          "type": "conventional",
          "year": 2015
         },
         {
          "avg_price": 1.02,
          "date": "2015-05-10",
          "index": 371,
          "nb_sold": 13509064.65,
          "size": "large",
          "type": "conventional",
          "year": 2015
         },
         {
          "avg_price": 0.96,
          "date": "2015-05-03",
          "index": 372,
          "nb_sold": 16602589.04,
          "size": "large",
          "type": "conventional",
          "year": 2015
         },
         {
          "avg_price": 1.07,
          "date": "2015-04-26",
          "index": 373,
          "nb_sold": 10867403.08,
          "size": "large",
          "type": "conventional",
          "year": 2015
         },
         {
          "avg_price": 1.03,
          "date": "2015-04-19",
          "index": 374,
          "nb_sold": 12277858.78,
          "size": "large",
          "type": "conventional",
          "year": 2015
         },
         {
          "avg_price": 1.02,
          "date": "2015-04-12",
          "index": 375,
          "nb_sold": 11210544.11,
          "size": "large",
          "type": "conventional",
          "year": 2015
         },
         {
          "avg_price": 1.06,
          "date": "2015-04-05",
          "index": 376,
          "nb_sold": 11526980.36,
          "size": "large",
          "type": "conventional",
          "year": 2015
         },
         {
          "avg_price": 1.04,
          "date": "2015-03-29",
          "index": 377,
          "nb_sold": 11541041.35,
          "size": "large",
          "type": "conventional",
          "year": 2015
         },
         {
          "avg_price": 1.01,
          "date": "2015-03-22",
          "index": 378,
          "nb_sold": 12659784.83,
          "size": "large",
          "type": "conventional",
          "year": 2015
         },
         {
          "avg_price": 1.04,
          "date": "2015-03-15",
          "index": 379,
          "nb_sold": 10634070.76,
          "size": "large",
          "type": "conventional",
          "year": 2015
         },
         {
          "avg_price": 1.02,
          "date": "2015-03-08",
          "index": 380,
          "nb_sold": 10973972.6,
          "size": "large",
          "type": "conventional",
          "year": 2015
         },
         {
          "avg_price": 0.97,
          "date": "2015-03-01",
          "index": 381,
          "nb_sold": 13733124.48,
          "size": "large",
          "type": "conventional",
          "year": 2015
         },
         {
          "avg_price": 1.02,
          "date": "2015-02-22",
          "index": 382,
          "nb_sold": 11354281.64,
          "size": "large",
          "type": "conventional",
          "year": 2015
         },
         {
          "avg_price": 1.03,
          "date": "2015-02-15",
          "index": 383,
          "nb_sold": 9783489.59,
          "size": "large",
          "type": "conventional",
          "year": 2015
         },
         {
          "avg_price": 0.95,
          "date": "2015-02-08",
          "index": 384,
          "nb_sold": 13381347.54,
          "size": "large",
          "type": "conventional",
          "year": 2015
         },
         {
          "avg_price": 0.89,
          "date": "2015-02-01",
          "index": 385,
          "nb_sold": 18956479.74,
          "size": "large",
          "type": "conventional",
          "year": 2015
         },
         {
          "avg_price": 1.04,
          "date": "2015-01-25",
          "index": 386,
          "nb_sold": 10734652.82,
          "size": "large",
          "type": "conventional",
          "year": 2015
         },
         {
          "avg_price": 1.03,
          "date": "2015-01-18",
          "index": 387,
          "nb_sold": 11701947.8,
          "size": "large",
          "type": "conventional",
          "year": 2015
         },
         {
          "avg_price": 1.01,
          "date": "2015-01-11",
          "index": 388,
          "nb_sold": 12134773.38,
          "size": "large",
          "type": "conventional",
          "year": 2015
         },
         {
          "avg_price": 0.95,
          "date": "2015-01-04",
          "index": 389,
          "nb_sold": 13624083.05,
          "size": "large",
          "type": "conventional",
          "year": 2015
         },
         {
          "avg_price": 1,
          "date": "2016-12-25",
          "index": 390,
          "nb_sold": 10282925.61,
          "size": "large",
          "type": "conventional",
          "year": 2016
         },
         {
          "avg_price": 0.96,
          "date": "2016-12-18",
          "index": 391,
          "nb_sold": 10339168.2,
          "size": "large",
          "type": "conventional",
          "year": 2016
         },
         {
          "avg_price": 0.98,
          "date": "2016-12-11",
          "index": 392,
          "nb_sold": 9967220.02,
          "size": "large",
          "type": "conventional",
          "year": 2016
         },
         {
          "avg_price": 1,
          "date": "2016-12-04",
          "index": 393,
          "nb_sold": 9908982.97,
          "size": "large",
          "type": "conventional",
          "year": 2016
         },
         {
          "avg_price": 1.21,
          "date": "2016-11-27",
          "index": 394,
          "nb_sold": 7337341.77,
          "size": "large",
          "type": "conventional",
          "year": 2016
         },
         {
          "avg_price": 1.27,
          "date": "2016-11-20",
          "index": 395,
          "nb_sold": 8033510.82,
          "size": "large",
          "type": "conventional",
          "year": 2016
         },
         {
          "avg_price": 1.36,
          "date": "2016-11-13",
          "index": 396,
          "nb_sold": 7759608.21,
          "size": "large",
          "type": "conventional",
          "year": 2016
         },
         {
          "avg_price": 1.44,
          "date": "2016-11-06",
          "index": 397,
          "nb_sold": 7126936.31,
          "size": "large",
          "type": "conventional",
          "year": 2016
         },
         {
          "avg_price": 1.43,
          "date": "2016-10-30",
          "index": 398,
          "nb_sold": 6852046.35,
          "size": "large",
          "type": "conventional",
          "year": 2016
         },
         {
          "avg_price": 1.34,
          "date": "2016-10-23",
          "index": 399,
          "nb_sold": 8104522.26,
          "size": "large",
          "type": "conventional",
          "year": 2016
         },
         {
          "avg_price": 1.3,
          "date": "2016-10-16",
          "index": 400,
          "nb_sold": 8855072.75,
          "size": "large",
          "type": "conventional",
          "year": 2016
         },
         {
          "avg_price": 1.27,
          "date": "2016-10-09",
          "index": 401,
          "nb_sold": 9579338.98,
          "size": "large",
          "type": "conventional",
          "year": 2016
         },
         {
          "avg_price": 1.23,
          "date": "2016-10-02",
          "index": 402,
          "nb_sold": 9123897.74,
          "size": "large",
          "type": "conventional",
          "year": 2016
         },
         {
          "avg_price": 1.22,
          "date": "2016-09-25",
          "index": 403,
          "nb_sold": 9255913.78,
          "size": "large",
          "type": "conventional",
          "year": 2016
         },
         {
          "avg_price": 1.15,
          "date": "2016-09-18",
          "index": 404,
          "nb_sold": 9481313.14,
          "size": "large",
          "type": "conventional",
          "year": 2016
         },
         {
          "avg_price": 1.08,
          "date": "2016-09-11",
          "index": 405,
          "nb_sold": 10380438.09,
          "size": "large",
          "type": "conventional",
          "year": 2016
         },
         {
          "avg_price": 1.04,
          "date": "2016-09-04",
          "index": 406,
          "nb_sold": 11083513.46,
          "size": "large",
          "type": "conventional",
          "year": 2016
         },
         {
          "avg_price": 1.09,
          "date": "2016-08-28",
          "index": 407,
          "nb_sold": 10420973,
          "size": "large",
          "type": "conventional",
          "year": 2016
         },
         {
          "avg_price": 1.1,
          "date": "2016-08-21",
          "index": 408,
          "nb_sold": 9906498.51,
          "size": "large",
          "type": "conventional",
          "year": 2016
         },
         {
          "avg_price": 1.12,
          "date": "2016-08-14",
          "index": 409,
          "nb_sold": 10879341.61,
          "size": "large",
          "type": "conventional",
          "year": 2016
         },
         {
          "avg_price": 1.15,
          "date": "2016-08-07",
          "index": 410,
          "nb_sold": 10731379.56,
          "size": "large",
          "type": "conventional",
          "year": 2016
         },
         {
          "avg_price": 1.23,
          "date": "2016-07-31",
          "index": 411,
          "nb_sold": 10423957.83,
          "size": "large",
          "type": "conventional",
          "year": 2016
         },
         {
          "avg_price": 1.2,
          "date": "2016-07-24",
          "index": 412,
          "nb_sold": 10795751.15,
          "size": "large",
          "type": "conventional",
          "year": 2016
         },
         {
          "avg_price": 1.15,
          "date": "2016-07-17",
          "index": 413,
          "nb_sold": 10628872.6,
          "size": "large",
          "type": "conventional",
          "year": 2016
         },
         {
          "avg_price": 1.1,
          "date": "2016-07-10",
          "index": 414,
          "nb_sold": 11677528,
          "size": "large",
          "type": "conventional",
          "year": 2016
         },
         {
          "avg_price": 1.06,
          "date": "2016-07-03",
          "index": 415,
          "nb_sold": 13315901.42,
          "size": "large",
          "type": "conventional",
          "year": 2016
         },
         {
          "avg_price": 1.04,
          "date": "2016-06-26",
          "index": 416,
          "nb_sold": 12029918.6,
          "size": "large",
          "type": "conventional",
          "year": 2016
         },
         {
          "avg_price": 1.02,
          "date": "2016-06-19",
          "index": 417,
          "nb_sold": 12842698.33,
          "size": "large",
          "type": "conventional",
          "year": 2016
         },
         {
          "avg_price": 1.04,
          "date": "2016-06-12",
          "index": 418,
          "nb_sold": 11533969.83,
          "size": "large",
          "type": "conventional",
          "year": 2016
         },
         {
          "avg_price": 0.97,
          "date": "2016-06-05",
          "index": 419,
          "nb_sold": 13396651.73,
          "size": "large",
          "type": "conventional",
          "year": 2016
         },
         {
          "avg_price": 0.94,
          "date": "2016-05-29",
          "index": 420,
          "nb_sold": 13829591.06,
          "size": "large",
          "type": "conventional",
          "year": 2016
         },
         {
          "avg_price": 0.93,
          "date": "2016-05-22",
          "index": 421,
          "nb_sold": 12981224.42,
          "size": "large",
          "type": "conventional",
          "year": 2016
         },
         {
          "avg_price": 0.89,
          "date": "2016-05-15",
          "index": 422,
          "nb_sold": 14437190.03,
          "size": "large",
          "type": "conventional",
          "year": 2016
         },
         {
          "avg_price": 0.82,
          "date": "2016-05-08",
          "index": 423,
          "nb_sold": 17896391.6,
          "size": "large",
          "type": "conventional",
          "year": 2016
         },
         {
          "avg_price": 0.84,
          "date": "2016-05-01",
          "index": 424,
          "nb_sold": 15899858.37,
          "size": "large",
          "type": "conventional",
          "year": 2016
         },
         {
          "avg_price": 0.87,
          "date": "2016-04-24",
          "index": 425,
          "nb_sold": 14382184.8,
          "size": "large",
          "type": "conventional",
          "year": 2016
         },
         {
          "avg_price": 0.9,
          "date": "2016-04-17",
          "index": 426,
          "nb_sold": 12896366.58,
          "size": "large",
          "type": "conventional",
          "year": 2016
         },
         {
          "avg_price": 0.9,
          "date": "2016-04-10",
          "index": 427,
          "nb_sold": 11538132.36,
          "size": "large",
          "type": "conventional",
          "year": 2016
         },
         {
          "avg_price": 0.94,
          "date": "2016-04-03",
          "index": 428,
          "nb_sold": 11512621.85,
          "size": "large",
          "type": "conventional",
          "year": 2016
         },
         {
          "avg_price": 0.94,
          "date": "2016-03-27",
          "index": 429,
          "nb_sold": 12745266.73,
          "size": "large",
          "type": "conventional",
          "year": 2016
         },
         {
          "avg_price": 0.93,
          "date": "2016-03-20",
          "index": 430,
          "nb_sold": 13727453.57,
          "size": "large",
          "type": "conventional",
          "year": 2016
         },
         {
          "avg_price": 0.93,
          "date": "2016-03-13",
          "index": 431,
          "nb_sold": 13104887.66,
          "size": "large",
          "type": "conventional",
          "year": 2016
         },
         {
          "avg_price": 0.95,
          "date": "2016-03-06",
          "index": 432,
          "nb_sold": 12196587.24,
          "size": "large",
          "type": "conventional",
          "year": 2016
         },
         {
          "avg_price": 0.91,
          "date": "2016-02-28",
          "index": 433,
          "nb_sold": 13210854.56,
          "size": "large",
          "type": "conventional",
          "year": 2016
         },
         {
          "avg_price": 0.94,
          "date": "2016-02-21",
          "index": 434,
          "nb_sold": 12003751.56,
          "size": "large",
          "type": "conventional",
          "year": 2016
         },
         {
          "avg_price": 0.88,
          "date": "2016-02-14",
          "index": 435,
          "nb_sold": 13187973.29,
          "size": "large",
          "type": "conventional",
          "year": 2016
         },
         {
          "avg_price": 0.76,
          "date": "2016-02-07",
          "index": 436,
          "nb_sold": 20470572.61,
          "size": "large",
          "type": "conventional",
          "year": 2016
         },
         {
          "avg_price": 0.93,
          "date": "2016-01-31",
          "index": 437,
          "nb_sold": 13278053.61,
          "size": "large",
          "type": "conventional",
          "year": 2016
         },
         {
          "avg_price": 0.95,
          "date": "2016-01-24",
          "index": 438,
          "nb_sold": 14054367.5,
          "size": "large",
          "type": "conventional",
          "year": 2016
         },
         {
          "avg_price": 0.94,
          "date": "2016-01-17",
          "index": 439,
          "nb_sold": 13832256.04,
          "size": "large",
          "type": "conventional",
          "year": 2016
         },
         {
          "avg_price": 0.93,
          "date": "2016-01-10",
          "index": 440,
          "nb_sold": 13226088.66,
          "size": "large",
          "type": "conventional",
          "year": 2016
         },
         {
          "avg_price": 0.86,
          "date": "2016-01-03",
          "index": 441,
          "nb_sold": 16054083.86,
          "size": "large",
          "type": "conventional",
          "year": 2016
         },
         {
          "avg_price": 0.98,
          "date": "2017-12-31",
          "index": 442,
          "nb_sold": 13197460.59,
          "size": "large",
          "type": "conventional",
          "year": 2017
         },
         {
          "avg_price": 1.18,
          "date": "2017-12-24",
          "index": 443,
          "nb_sold": 8964247.34,
          "size": "large",
          "type": "conventional",
          "year": 2017
         },
         {
          "avg_price": 1.07,
          "date": "2017-12-17",
          "index": 444,
          "nb_sold": 9934618.43,
          "size": "large",
          "type": "conventional",
          "year": 2017
         },
         {
          "avg_price": 1.03,
          "date": "2017-12-10",
          "index": 445,
          "nb_sold": 11659897.51,
          "size": "large",
          "type": "conventional",
          "year": 2017
         },
         {
          "avg_price": 1.09,
          "date": "2017-12-03",
          "index": 446,
          "nb_sold": 10905968,
          "size": "large",
          "type": "conventional",
          "year": 2017
         },
         {
          "avg_price": 1.24,
          "date": "2017-11-26",
          "index": 447,
          "nb_sold": 7312239,
          "size": "large",
          "type": "conventional",
          "year": 2017
         },
         {
          "avg_price": 1.17,
          "date": "2017-11-19",
          "index": 448,
          "nb_sold": 7847059,
          "size": "large",
          "type": "conventional",
          "year": 2017
         },
         {
          "avg_price": 1.15,
          "date": "2017-11-12",
          "index": 449,
          "nb_sold": 9994648,
          "size": "large",
          "type": "conventional",
          "year": 2017
         },
         {
          "avg_price": 1.19,
          "date": "2017-11-05",
          "index": 450,
          "nb_sold": 9774987.75,
          "size": "large",
          "type": "conventional",
          "year": 2017
         },
         {
          "avg_price": 1.29,
          "date": "2017-10-29",
          "index": 451,
          "nb_sold": 9803569.58,
          "size": "large",
          "type": "conventional",
          "year": 2017
         },
         {
          "avg_price": 1.44,
          "date": "2017-10-22",
          "index": 452,
          "nb_sold": 8761192.74,
          "size": "large",
          "type": "conventional",
          "year": 2017
         },
         {
          "avg_price": 1.58,
          "date": "2017-10-15",
          "index": 453,
          "nb_sold": 8534404.17,
          "size": "large",
          "type": "conventional",
          "year": 2017
         },
         {
          "avg_price": 1.65,
          "date": "2017-10-08",
          "index": 454,
          "nb_sold": 7609509.9,
          "size": "large",
          "type": "conventional",
          "year": 2017
         },
         {
          "avg_price": 1.64,
          "date": "2017-10-01",
          "index": 455,
          "nb_sold": 8354516.32,
          "size": "large",
          "type": "conventional",
          "year": 2017
         },
         {
          "avg_price": 1.62,
          "date": "2017-09-24",
          "index": 456,
          "nb_sold": 8295761.93,
          "size": "large",
          "type": "conventional",
          "year": 2017
         },
         {
          "avg_price": 1.57,
          "date": "2017-09-17",
          "index": 457,
          "nb_sold": 8328241.87,
          "size": "large",
          "type": "conventional",
          "year": 2017
         },
         {
          "avg_price": 1.56,
          "date": "2017-09-10",
          "index": 458,
          "nb_sold": 8373234.08,
          "size": "large",
          "type": "conventional",
          "year": 2017
         },
         {
          "avg_price": 1.57,
          "date": "2017-09-03",
          "index": 459,
          "nb_sold": 8565265.61,
          "size": "large",
          "type": "conventional",
          "year": 2017
         },
         {
          "avg_price": 1.47,
          "date": "2017-08-27",
          "index": 460,
          "nb_sold": 8587105.6,
          "size": "large",
          "type": "conventional",
          "year": 2017
         },
         {
          "avg_price": 1.41,
          "date": "2017-08-20",
          "index": 461,
          "nb_sold": 8837219.28,
          "size": "large",
          "type": "conventional",
          "year": 2017
         },
         {
          "avg_price": 1.33,
          "date": "2017-08-13",
          "index": 462,
          "nb_sold": 11154310.29,
          "size": "large",
          "type": "conventional",
          "year": 2017
         },
         {
          "avg_price": 1.33,
          "date": "2017-08-06",
          "index": 463,
          "nb_sold": 10988313.58,
          "size": "large",
          "type": "conventional",
          "year": 2017
         },
         {
          "avg_price": 1.32,
          "date": "2017-07-30",
          "index": 464,
          "nb_sold": 11088082.78,
          "size": "large",
          "type": "conventional",
          "year": 2017
         },
         {
          "avg_price": 1.31,
          "date": "2017-07-23",
          "index": 465,
          "nb_sold": 11339580.43,
          "size": "large",
          "type": "conventional",
          "year": 2017
         },
         {
          "avg_price": 1.33,
          "date": "2017-07-16",
          "index": 466,
          "nb_sold": 11202844.97,
          "size": "large",
          "type": "conventional",
          "year": 2017
         },
         {
          "avg_price": 1.17,
          "date": "2017-07-09",
          "index": 467,
          "nb_sold": 11031218.25,
          "size": "large",
          "type": "conventional",
          "year": 2017
         },
         {
          "avg_price": 1.21,
          "date": "2017-07-02",
          "index": 468,
          "nb_sold": 10988734.57,
          "size": "large",
          "type": "conventional",
          "year": 2017
         },
         {
          "avg_price": 1.17,
          "date": "2017-06-25",
          "index": 469,
          "nb_sold": 10805961.74,
          "size": "large",
          "type": "conventional",
          "year": 2017
         },
         {
          "avg_price": 1.18,
          "date": "2017-06-18",
          "index": 470,
          "nb_sold": 11199448.6,
          "size": "large",
          "type": "conventional",
          "year": 2017
         },
         {
          "avg_price": 1.21,
          "date": "2017-06-11",
          "index": 471,
          "nb_sold": 10090861.46,
          "size": "large",
          "type": "conventional",
          "year": 2017
         },
         {
          "avg_price": 1.24,
          "date": "2017-06-04",
          "index": 472,
          "nb_sold": 10157565.24,
          "size": "large",
          "type": "conventional",
          "year": 2017
         },
         {
          "avg_price": 1.28,
          "date": "2017-05-28",
          "index": 473,
          "nb_sold": 10932970.72,
          "size": "large",
          "type": "conventional",
          "year": 2017
         },
         {
          "avg_price": 1.26,
          "date": "2017-05-21",
          "index": 474,
          "nb_sold": 10213231.95,
          "size": "large",
          "type": "conventional",
          "year": 2017
         },
         {
          "avg_price": 1.19,
          "date": "2017-05-14",
          "index": 475,
          "nb_sold": 9717257.8,
          "size": "large",
          "type": "conventional",
          "year": 2017
         },
         {
          "avg_price": 1.09,
          "date": "2017-05-07",
          "index": 476,
          "nb_sold": 13549102.59,
          "size": "large",
          "type": "conventional",
          "year": 2017
         },
         {
          "avg_price": 1.18,
          "date": "2017-04-30",
          "index": 477,
          "nb_sold": 11291149.13,
          "size": "large",
          "type": "conventional",
          "year": 2017
         },
         {
          "avg_price": 1.18,
          "date": "2017-04-23",
          "index": 478,
          "nb_sold": 10224484.11,
          "size": "large",
          "type": "conventional",
          "year": 2017
         },
         {
          "avg_price": 1.23,
          "date": "2017-04-16",
          "index": 479,
          "nb_sold": 10069354.29,
          "size": "large",
          "type": "conventional",
          "year": 2017
         },
         {
          "avg_price": 1.21,
          "date": "2017-04-09",
          "index": 480,
          "nb_sold": 10821096.24,
          "size": "large",
          "type": "conventional",
          "year": 2017
         },
         {
          "avg_price": 1.21,
          "date": "2017-04-02",
          "index": 481,
          "nb_sold": 9733584.68,
          "size": "large",
          "type": "conventional",
          "year": 2017
         },
         {
          "avg_price": 1.24,
          "date": "2017-03-26",
          "index": 482,
          "nb_sold": 9664310.82,
          "size": "large",
          "type": "conventional",
          "year": 2017
         },
         {
          "avg_price": 1.25,
          "date": "2017-03-19",
          "index": 483,
          "nb_sold": 9622711.73,
          "size": "large",
          "type": "conventional",
          "year": 2017
         },
         {
          "avg_price": 1.22,
          "date": "2017-03-12",
          "index": 484,
          "nb_sold": 9575227.17,
          "size": "large",
          "type": "conventional",
          "year": 2017
         },
         {
          "avg_price": 1.13,
          "date": "2017-03-05",
          "index": 485,
          "nb_sold": 10807889.59,
          "size": "large",
          "type": "conventional",
          "year": 2017
         },
         {
          "avg_price": 0.99,
          "date": "2017-02-26",
          "index": 486,
          "nb_sold": 11398142.68,
          "size": "large",
          "type": "conventional",
          "year": 2017
         },
         {
          "avg_price": 0.99,
          "date": "2017-02-19",
          "index": 487,
          "nb_sold": 10351148.2,
          "size": "large",
          "type": "conventional",
          "year": 2017
         },
         {
          "avg_price": 0.87,
          "date": "2017-02-12",
          "index": 488,
          "nb_sold": 12184188.37,
          "size": "large",
          "type": "conventional",
          "year": 2017
         },
         {
          "avg_price": 0.77,
          "date": "2017-02-05",
          "index": 489,
          "nb_sold": 20328161.55,
          "size": "large",
          "type": "conventional",
          "year": 2017
         },
         {
          "avg_price": 0.96,
          "date": "2017-01-29",
          "index": 490,
          "nb_sold": 11683464.54,
          "size": "large",
          "type": "conventional",
          "year": 2017
         },
         {
          "avg_price": 0.94,
          "date": "2017-01-22",
          "index": 491,
          "nb_sold": 14212881.66,
          "size": "large",
          "type": "conventional",
          "year": 2017
         },
         {
          "avg_price": 0.98,
          "date": "2017-01-15",
          "index": 492,
          "nb_sold": 12625665.39,
          "size": "large",
          "type": "conventional",
          "year": 2017
         },
         {
          "avg_price": 0.99,
          "date": "2017-01-08",
          "index": 493,
          "nb_sold": 13856934.7,
          "size": "large",
          "type": "conventional",
          "year": 2017
         },
         {
          "avg_price": 0.89,
          "date": "2017-01-01",
          "index": 494,
          "nb_sold": 14201200.68,
          "size": "large",
          "type": "conventional",
          "year": 2017
         },
         {
          "avg_price": 1.03,
          "date": "2018-03-25",
          "index": 495,
          "nb_sold": 12125711.42,
          "size": "large",
          "type": "conventional",
          "year": 2018
         },
         {
          "avg_price": 1.05,
          "date": "2018-03-18",
          "index": 496,
          "nb_sold": 11061051.69,
          "size": "large",
          "type": "conventional",
          "year": 2018
         },
         {
          "avg_price": 1.09,
          "date": "2018-03-11",
          "index": 497,
          "nb_sold": 10758039.45,
          "size": "large",
          "type": "conventional",
          "year": 2018
         },
         {
          "avg_price": 1.07,
          "date": "2018-03-04",
          "index": 498,
          "nb_sold": 11289307.37,
          "size": "large",
          "type": "conventional",
          "year": 2018
         },
         {
          "avg_price": 1.06,
          "date": "2018-02-25",
          "index": 499,
          "nb_sold": 10415463.59,
          "size": "large",
          "type": "conventional",
          "year": 2018
         },
         {
          "avg_price": 1.08,
          "date": "2018-02-18",
          "index": 500,
          "nb_sold": 10491918.44,
          "size": "large",
          "type": "conventional",
          "year": 2018
         },
         {
          "avg_price": 0.97,
          "date": "2018-02-11",
          "index": 501,
          "nb_sold": 11541844.87,
          "size": "large",
          "type": "conventional",
          "year": 2018
         },
         {
          "avg_price": 0.87,
          "date": "2018-02-04",
          "index": 502,
          "nb_sold": 20445501.03,
          "size": "large",
          "type": "conventional",
          "year": 2018
         },
         {
          "avg_price": 1.09,
          "date": "2018-01-28",
          "index": 503,
          "nb_sold": 12119884.61,
          "size": "large",
          "type": "conventional",
          "year": 2018
         },
         {
          "avg_price": 1.08,
          "date": "2018-01-21",
          "index": 504,
          "nb_sold": 13929702.12,
          "size": "large",
          "type": "conventional",
          "year": 2018
         },
         {
          "avg_price": 1.2,
          "date": "2018-01-14",
          "index": 505,
          "nb_sold": 11866197.84,
          "size": "large",
          "type": "conventional",
          "year": 2018
         },
         {
          "avg_price": 1.13,
          "date": "2018-01-07",
          "index": 506,
          "nb_sold": 10781339.21,
          "size": "large",
          "type": "conventional",
          "year": 2018
         },
         {
          "avg_price": 1.52,
          "date": "2015-12-27",
          "index": 507,
          "nb_sold": 206198.62,
          "size": "large",
          "type": "organic",
          "year": 2015
         },
         {
          "avg_price": 1.53,
          "date": "2015-12-20",
          "index": 508,
          "nb_sold": 205909.13,
          "size": "large",
          "type": "organic",
          "year": 2015
         },
         {
          "avg_price": 1.43,
          "date": "2015-12-13",
          "index": 509,
          "nb_sold": 222314.6,
          "size": "large",
          "type": "organic",
          "year": 2015
         },
         {
          "avg_price": 1.52,
          "date": "2015-12-06",
          "index": 510,
          "nb_sold": 212582.74,
          "size": "large",
          "type": "organic",
          "year": 2015
         },
         {
          "avg_price": 1.5,
          "date": "2015-11-29",
          "index": 511,
          "nb_sold": 208733.32,
          "size": "large",
          "type": "organic",
          "year": 2015
         },
         {
          "avg_price": 1.49,
          "date": "2015-11-22",
          "index": 512,
          "nb_sold": 249686.75,
          "size": "large",
          "type": "organic",
          "year": 2015
         },
         {
          "avg_price": 1.6,
          "date": "2015-11-15",
          "index": 513,
          "nb_sold": 225216.4,
          "size": "large",
          "type": "organic",
          "year": 2015
         },
         {
          "avg_price": 1.54,
          "date": "2015-11-08",
          "index": 514,
          "nb_sold": 249160.89,
          "size": "large",
          "type": "organic",
          "year": 2015
         },
         {
          "avg_price": 1.47,
          "date": "2015-11-01",
          "index": 515,
          "nb_sold": 262559.59,
          "size": "large",
          "type": "organic",
          "year": 2015
         },
         {
          "avg_price": 1.62,
          "date": "2015-10-25",
          "index": 516,
          "nb_sold": 244222.97,
          "size": "large",
          "type": "organic",
          "year": 2015
         },
         {
          "avg_price": 1.71,
          "date": "2015-10-18",
          "index": 517,
          "nb_sold": 224038.49,
          "size": "large",
          "type": "organic",
          "year": 2015
         },
         {
          "avg_price": 1.69,
          "date": "2015-10-11",
          "index": 518,
          "nb_sold": 230653.61,
          "size": "large",
          "type": "organic",
          "year": 2015
         },
         {
          "avg_price": 1.72,
          "date": "2015-10-04",
          "index": 519,
          "nb_sold": 269237.06,
          "size": "large",
          "type": "organic",
          "year": 2015
         },
         {
          "avg_price": 1.75,
          "date": "2015-09-27",
          "index": 520,
          "nb_sold": 238175.26,
          "size": "large",
          "type": "organic",
          "year": 2015
         },
         {
          "avg_price": 1.77,
          "date": "2015-09-20",
          "index": 521,
          "nb_sold": 244950.88,
          "size": "large",
          "type": "organic",
          "year": 2015
         },
         {
          "avg_price": 1.8,
          "date": "2015-09-13",
          "index": 522,
          "nb_sold": 251786.63,
          "size": "large",
          "type": "organic",
          "year": 2015
         },
         {
          "avg_price": 1.78,
          "date": "2015-09-06",
          "index": 523,
          "nb_sold": 271784.99,
          "size": "large",
          "type": "organic",
          "year": 2015
         },
         {
          "avg_price": 1.66,
          "date": "2015-08-30",
          "index": 524,
          "nb_sold": 325442.96,
          "size": "large",
          "type": "organic",
          "year": 2015
         },
         {
          "avg_price": 1.72,
          "date": "2015-08-23",
          "index": 525,
          "nb_sold": 298092.6,
          "size": "large",
          "type": "organic",
          "year": 2015
         },
         {
          "avg_price": 1.75,
          "date": "2015-08-16",
          "index": 526,
          "nb_sold": 310229.77,
          "size": "large",
          "type": "organic",
          "year": 2015
         },
         {
          "avg_price": 1,
          "date": "2015-08-09",
          "index": 527,
          "nb_sold": 269330,
          "size": "large",
          "type": "organic",
          "year": 2015
         },
         {
          "avg_price": 1,
          "date": "2015-08-02",
          "index": 528,
          "nb_sold": 263359,
          "size": "large",
          "type": "organic",
          "year": 2015
         },
         {
          "avg_price": 1,
          "date": "2015-07-26",
          "index": 529,
          "nb_sold": 266249,
          "size": "large",
          "type": "organic",
          "year": 2015
         },
         {
          "avg_price": 1,
          "date": "2015-07-19",
          "index": 530,
          "nb_sold": 317728,
          "size": "large",
          "type": "organic",
          "year": 2015
         },
         {
          "avg_price": 1,
          "date": "2015-07-12",
          "index": 531,
          "nb_sold": 267353,
          "size": "large",
          "type": "organic",
          "year": 2015
         },
         {
          "avg_price": 1,
          "date": "2015-07-05",
          "index": 532,
          "nb_sold": 304597,
          "size": "large",
          "type": "organic",
          "year": 2015
         },
         {
          "avg_price": 1.64,
          "date": "2015-06-28",
          "index": 533,
          "nb_sold": 332739.27,
          "size": "large",
          "type": "organic",
          "year": 2015
         },
         {
          "avg_price": 1.66,
          "date": "2015-06-21",
          "index": 534,
          "nb_sold": 304368.47,
          "size": "large",
          "type": "organic",
          "year": 2015
         },
         {
          "avg_price": 1.68,
          "date": "2015-06-14",
          "index": 535,
          "nb_sold": 278912.22,
          "size": "large",
          "type": "organic",
          "year": 2015
         },
         {
          "avg_price": 1.67,
          "date": "2015-06-07",
          "index": 536,
          "nb_sold": 264482.87,
          "size": "large",
          "type": "organic",
          "year": 2015
         },
         {
          "avg_price": 1.58,
          "date": "2015-05-31",
          "index": 537,
          "nb_sold": 333300.63,
          "size": "large",
          "type": "organic",
          "year": 2015
         },
         {
          "avg_price": 1.59,
          "date": "2015-05-24",
          "index": 538,
          "nb_sold": 293553.99,
          "size": "large",
          "type": "organic",
          "year": 2015
         },
         {
          "avg_price": 1.5,
          "date": "2015-05-17",
          "index": 539,
          "nb_sold": 312193.09,
          "size": "large",
          "type": "organic",
          "year": 2015
         },
         {
          "avg_price": 1.42,
          "date": "2015-05-10",
          "index": 540,
          "nb_sold": 349907.52,
          "size": "large",
          "type": "organic",
          "year": 2015
         },
         {
          "avg_price": 1.37,
          "date": "2015-05-03",
          "index": 541,
          "nb_sold": 380650.64,
          "size": "large",
          "type": "organic",
          "year": 2015
         },
         {
          "avg_price": 1.45,
          "date": "2015-04-26",
          "index": 542,
          "nb_sold": 379382.1,
          "size": "large",
          "type": "organic",
          "year": 2015
         },
         {
          "avg_price": 1.59,
          "date": "2015-04-19",
          "index": 543,
          "nb_sold": 301783.5,
          "size": "large",
          "type": "organic",
          "year": 2015
         },
         {
          "avg_price": 1.53,
          "date": "2015-04-12",
          "index": 544,
          "nb_sold": 428607.3,
          "size": "large",
          "type": "organic",
          "year": 2015
         },
         {
          "avg_price": 1.63,
          "date": "2015-04-05",
          "index": 545,
          "nb_sold": 275595.72,
          "size": "large",
          "type": "organic",
          "year": 2015
         },
         {
          "avg_price": 1.6,
          "date": "2015-03-29",
          "index": 546,
          "nb_sold": 324919.62,
          "size": "large",
          "type": "organic",
          "year": 2015
         },
         {
          "avg_price": 1.49,
          "date": "2015-03-22",
          "index": 547,
          "nb_sold": 320353.82,
          "size": "large",
          "type": "organic",
          "year": 2015
         },
         {
          "avg_price": 1.5,
          "date": "2015-03-15",
          "index": 548,
          "nb_sold": 258475.58,
          "size": "large",
          "type": "organic",
          "year": 2015
         },
         {
          "avg_price": 1.49,
          "date": "2015-03-08",
          "index": 549,
          "nb_sold": 327972.28,
          "size": "large",
          "type": "organic",
          "year": 2015
         },
         {
          "avg_price": 1.4,
          "date": "2015-03-01",
          "index": 550,
          "nb_sold": 275458.57,
          "size": "large",
          "type": "organic",
          "year": 2015
         },
         {
          "avg_price": 1.51,
          "date": "2015-02-22",
          "index": 551,
          "nb_sold": 230342.87,
          "size": "large",
          "type": "organic",
          "year": 2015
         },
         {
          "avg_price": 1.58,
          "date": "2015-02-15",
          "index": 552,
          "nb_sold": 228653.33,
          "size": "large",
          "type": "organic",
          "year": 2015
         },
         {
          "avg_price": 1.48,
          "date": "2015-02-08",
          "index": 553,
          "nb_sold": 273897.84,
          "size": "large",
          "type": "organic",
          "year": 2015
         },
         {
          "avg_price": 1.36,
          "date": "2015-02-01",
          "index": 554,
          "nb_sold": 259286.44,
          "size": "large",
          "type": "organic",
          "year": 2015
         },
         {
          "avg_price": 1.53,
          "date": "2015-01-25",
          "index": 555,
          "nb_sold": 212312.02,
          "size": "large",
          "type": "organic",
          "year": 2015
         },
         {
          "avg_price": 1.42,
          "date": "2015-01-18",
          "index": 556,
          "nb_sold": 311811.01,
          "size": "large",
          "type": "organic",
          "year": 2015
         },
         {
          "avg_price": 1.42,
          "date": "2015-01-11",
          "index": 557,
          "nb_sold": 260971.6,
          "size": "large",
          "type": "organic",
          "year": 2015
         },
         {
          "avg_price": 1.46,
          "date": "2015-01-04",
          "index": 558,
          "nb_sold": 216611.2,
          "size": "large",
          "type": "organic",
          "year": 2015
         },
         {
          "avg_price": 1.34,
          "date": "2016-12-25",
          "index": 559,
          "nb_sold": 250138.66,
          "size": "large",
          "type": "organic",
          "year": 2016
         },
         {
          "avg_price": 1.43,
          "date": "2016-12-18",
          "index": 560,
          "nb_sold": 248598.14,
          "size": "large",
          "type": "organic",
          "year": 2016
         },
         {
          "avg_price": 1.42,
          "date": "2016-12-11",
          "index": 561,
          "nb_sold": 248303.87,
          "size": "large",
          "type": "organic",
          "year": 2016
         },
         {
          "avg_price": 1.56,
          "date": "2016-12-04",
          "index": 562,
          "nb_sold": 242055.86,
          "size": "large",
          "type": "organic",
          "year": 2016
         },
         {
          "avg_price": 1.64,
          "date": "2016-11-27",
          "index": 563,
          "nb_sold": 198874.09,
          "size": "large",
          "type": "organic",
          "year": 2016
         },
         {
          "avg_price": 1.63,
          "date": "2016-11-20",
          "index": 564,
          "nb_sold": 233518.72,
          "size": "large",
          "type": "organic",
          "year": 2016
         },
         {
          "avg_price": 1.7,
          "date": "2016-11-13",
          "index": 565,
          "nb_sold": 257268.83,
          "size": "large",
          "type": "organic",
          "year": 2016
         },
         {
          "avg_price": 1.68,
          "date": "2016-11-06",
          "index": 566,
          "nb_sold": 266018.89,
          "size": "large",
          "type": "organic",
          "year": 2016
         },
         {
          "avg_price": 1.93,
          "date": "2016-10-30",
          "index": 567,
          "nb_sold": 279842.5,
          "size": "large",
          "type": "organic",
          "year": 2016
         },
         {
          "avg_price": 1.63,
          "date": "2016-10-23",
          "index": 568,
          "nb_sold": 241758.21,
          "size": "large",
          "type": "organic",
          "year": 2016
         },
         {
          "avg_price": 1.5,
          "date": "2016-10-16",
          "index": 569,
          "nb_sold": 243788.95,
          "size": "large",
          "type": "organic",
          "year": 2016
         },
         {
          "avg_price": 1.52,
          "date": "2016-10-09",
          "index": 570,
          "nb_sold": 266687.47,
          "size": "large",
          "type": "organic",
          "year": 2016
         },
         {
          "avg_price": 1.71,
          "date": "2016-10-02",
          "index": 571,
          "nb_sold": 272293.48,
          "size": "large",
          "type": "organic",
          "year": 2016
         },
         {
          "avg_price": 1.69,
          "date": "2016-09-25",
          "index": 572,
          "nb_sold": 272553.74,
          "size": "large",
          "type": "organic",
          "year": 2016
         },
         {
          "avg_price": 1.67,
          "date": "2016-09-18",
          "index": 573,
          "nb_sold": 266648.5,
          "size": "large",
          "type": "organic",
          "year": 2016
         },
         {
          "avg_price": 1.52,
          "date": "2016-09-11",
          "index": 574,
          "nb_sold": 334671.53,
          "size": "large",
          "type": "organic",
          "year": 2016
         },
         {
          "avg_price": 1.54,
          "date": "2016-09-04",
          "index": 575,
          "nb_sold": 344378.75,
          "size": "large",
          "type": "organic",
          "year": 2016
         },
         {
          "avg_price": 1.49,
          "date": "2016-08-28",
          "index": 576,
          "nb_sold": 316907.28,
          "size": "large",
          "type": "organic",
          "year": 2016
         },
         {
          "avg_price": 1.51,
          "date": "2016-08-21",
          "index": 577,
          "nb_sold": 308314.91,
          "size": "large",
          "type": "organic",
          "year": 2016
         },
         {
          "avg_price": 1.48,
          "date": "2016-08-14",
          "index": 578,
          "nb_sold": 341463.72,
          "size": "large",
          "type": "organic",
          "year": 2016
         },
         {
          "avg_price": 1.55,
          "date": "2016-08-07",
          "index": 579,
          "nb_sold": 332421.63,
          "size": "large",
          "type": "organic",
          "year": 2016
         },
         {
          "avg_price": 1.58,
          "date": "2016-07-31",
          "index": 580,
          "nb_sold": 328942.12,
          "size": "large",
          "type": "organic",
          "year": 2016
         },
         {
          "avg_price": 1.65,
          "date": "2016-07-24",
          "index": 581,
          "nb_sold": 343780.56,
          "size": "large",
          "type": "organic",
          "year": 2016
         },
         {
          "avg_price": 1.63,
          "date": "2016-07-17",
          "index": 582,
          "nb_sold": 359772.18,
          "size": "large",
          "type": "organic",
          "year": 2016
         },
         {
          "avg_price": 1.51,
          "date": "2016-07-10",
          "index": 583,
          "nb_sold": 355101.22,
          "size": "large",
          "type": "organic",
          "year": 2016
         },
         {
          "avg_price": 1.47,
          "date": "2016-07-03",
          "index": 584,
          "nb_sold": 381527.15,
          "size": "large",
          "type": "organic",
          "year": 2016
         },
         {
          "avg_price": 1.5,
          "date": "2016-06-26",
          "index": 585,
          "nb_sold": 391129.07,
          "size": "large",
          "type": "organic",
          "year": 2016
         },
         {
          "avg_price": 1.45,
          "date": "2016-06-19",
          "index": 586,
          "nb_sold": 445194.49,
          "size": "large",
          "type": "organic",
          "year": 2016
         },
         {
          "avg_price": 1.45,
          "date": "2016-06-12",
          "index": 587,
          "nb_sold": 403561.49,
          "size": "large",
          "type": "organic",
          "year": 2016
         },
         {
          "avg_price": 1.43,
          "date": "2016-06-05",
          "index": 588,
          "nb_sold": 410451.71,
          "size": "large",
          "type": "organic",
          "year": 2016
         },
         {
          "avg_price": 1.41,
          "date": "2016-05-29",
          "index": 589,
          "nb_sold": 468311.32,
          "size": "large",
          "type": "organic",
          "year": 2016
         },
         {
          "avg_price": 1.36,
          "date": "2016-05-22",
          "index": 590,
          "nb_sold": 455336.56,
          "size": "large",
          "type": "organic",
          "year": 2016
         },
         {
          "avg_price": 1.45,
          "date": "2016-05-15",
          "index": 591,
          "nb_sold": 437584.52,
          "size": "large",
          "type": "organic",
          "year": 2016
         },
         {
          "avg_price": 1.3,
          "date": "2016-05-08",
          "index": 592,
          "nb_sold": 443777.31,
          "size": "large",
          "type": "organic",
          "year": 2016
         },
         {
          "avg_price": 1.28,
          "date": "2016-05-01",
          "index": 593,
          "nb_sold": 484383.87,
          "size": "large",
          "type": "organic",
          "year": 2016
         },
         {
          "avg_price": 1.25,
          "date": "2016-04-24",
          "index": 594,
          "nb_sold": 524511.95,
          "size": "large",
          "type": "organic",
          "year": 2016
         },
         {
          "avg_price": 1.38,
          "date": "2016-04-17",
          "index": 595,
          "nb_sold": 388081.34,
          "size": "large",
          "type": "organic",
          "year": 2016
         },
         {
          "avg_price": 1.26,
          "date": "2016-04-10",
          "index": 596,
          "nb_sold": 400281.85,
          "size": "large",
          "type": "organic",
          "year": 2016
         },
         {
          "avg_price": 1.44,
          "date": "2016-04-03",
          "index": 597,
          "nb_sold": 371845.6,
          "size": "large",
          "type": "organic",
          "year": 2016
         },
         {
          "avg_price": 1.44,
          "date": "2016-03-27",
          "index": 598,
          "nb_sold": 338194.18,
          "size": "large",
          "type": "organic",
          "year": 2016
         },
         {
          "avg_price": 1.27,
          "date": "2016-03-20",
          "index": 599,
          "nb_sold": 352698.21,
          "size": "large",
          "type": "organic",
          "year": 2016
         },
         {
          "avg_price": 1.29,
          "date": "2016-03-13",
          "index": 600,
          "nb_sold": 346341.46,
          "size": "large",
          "type": "organic",
          "year": 2016
         },
         {
          "avg_price": 1.28,
          "date": "2016-03-06",
          "index": 601,
          "nb_sold": 351951.65,
          "size": "large",
          "type": "organic",
          "year": 2016
         },
         {
          "avg_price": 1.44,
          "date": "2016-02-28",
          "index": 602,
          "nb_sold": 347488.78,
          "size": "large",
          "type": "organic",
          "year": 2016
         },
         {
          "avg_price": 1.45,
          "date": "2016-02-21",
          "index": 603,
          "nb_sold": 281188.89,
          "size": "large",
          "type": "organic",
          "year": 2016
         },
         {
          "avg_price": 1.37,
          "date": "2016-02-14",
          "index": 604,
          "nb_sold": 306235.69,
          "size": "large",
          "type": "organic",
          "year": 2016
         },
         {
          "avg_price": 1.44,
          "date": "2016-02-07",
          "index": 605,
          "nb_sold": 290813.54,
          "size": "large",
          "type": "organic",
          "year": 2016
         },
         {
          "avg_price": 1.43,
          "date": "2016-01-31",
          "index": 606,
          "nb_sold": 269687.52,
          "size": "large",
          "type": "organic",
          "year": 2016
         },
         {
          "avg_price": 1.41,
          "date": "2016-01-24",
          "index": 607,
          "nb_sold": 270980.88,
          "size": "large",
          "type": "organic",
          "year": 2016
         },
         {
          "avg_price": 1.44,
          "date": "2016-01-17",
          "index": 608,
          "nb_sold": 266824.72,
          "size": "large",
          "type": "organic",
          "year": 2016
         },
         {
          "avg_price": 1.35,
          "date": "2016-01-10",
          "index": 609,
          "nb_sold": 287590.19,
          "size": "large",
          "type": "organic",
          "year": 2016
         },
         {
          "avg_price": 1.43,
          "date": "2016-01-03",
          "index": 610,
          "nb_sold": 246580.95,
          "size": "large",
          "type": "organic",
          "year": 2016
         },
         {
          "avg_price": 1.52,
          "date": "2017-12-31",
          "index": 611,
          "nb_sold": 248123.56,
          "size": "large",
          "type": "organic",
          "year": 2017
         },
         {
          "avg_price": 1.64,
          "date": "2017-12-24",
          "index": 612,
          "nb_sold": 247166.08,
          "size": "large",
          "type": "organic",
          "year": 2017
         },
         {
          "avg_price": 1.57,
          "date": "2017-12-17",
          "index": 613,
          "nb_sold": 248498.73,
          "size": "large",
          "type": "organic",
          "year": 2017
         },
         {
          "avg_price": 1.54,
          "date": "2017-12-10",
          "index": 614,
          "nb_sold": 258003.98,
          "size": "large",
          "type": "organic",
          "year": 2017
         },
         {
          "avg_price": 1.62,
          "date": "2017-12-03",
          "index": 615,
          "nb_sold": 269450.85,
          "size": "large",
          "type": "organic",
          "year": 2017
         },
         {
          "avg_price": 1.72,
          "date": "2017-11-26",
          "index": 616,
          "nb_sold": 204612.15,
          "size": "large",
          "type": "organic",
          "year": 2017
         },
         {
          "avg_price": 1.77,
          "date": "2017-11-19",
          "index": 617,
          "nb_sold": 213230.36,
          "size": "large",
          "type": "organic",
          "year": 2017
         },
         {
          "avg_price": 1.81,
          "date": "2017-11-12",
          "index": 618,
          "nb_sold": 217612.9,
          "size": "large",
          "type": "organic",
          "year": 2017
         },
         {
          "avg_price": 1.82,
          "date": "2017-11-05",
          "index": 619,
          "nb_sold": 244925.18,
          "size": "large",
          "type": "organic",
          "year": 2017
         },
         {
          "avg_price": 1.84,
          "date": "2017-10-29",
          "index": 620,
          "nb_sold": 218858.34,
          "size": "large",
          "type": "organic",
          "year": 2017
         },
         {
          "avg_price": 1.82,
          "date": "2017-10-22",
          "index": 621,
          "nb_sold": 229689.25,
          "size": "large",
          "type": "organic",
          "year": 2017
         },
         {
          "avg_price": 1.85,
          "date": "2017-10-15",
          "index": 622,
          "nb_sold": 218881.54,
          "size": "large",
          "type": "organic",
          "year": 2017
         },
         {
          "avg_price": 1.9,
          "date": "2017-10-08",
          "index": 623,
          "nb_sold": 231652.64,
          "size": "large",
          "type": "organic",
          "year": 2017
         },
         {
          "avg_price": 1.95,
          "date": "2017-10-01",
          "index": 624,
          "nb_sold": 230053.24,
          "size": "large",
          "type": "organic",
          "year": 2017
         },
         {
          "avg_price": 1.94,
          "date": "2017-09-24",
          "index": 625,
          "nb_sold": 237876.77,
          "size": "large",
          "type": "organic",
          "year": 2017
         },
         {
          "avg_price": 2,
          "date": "2017-09-17",
          "index": 626,
          "nb_sold": 243233.57,
          "size": "large",
          "type": "organic",
          "year": 2017
         },
         {
          "avg_price": 2.03,
          "date": "2017-09-10",
          "index": 627,
          "nb_sold": 249231.14,
          "size": "large",
          "type": "organic",
          "year": 2017
         },
         {
          "avg_price": 2.06,
          "date": "2017-09-03",
          "index": 628,
          "nb_sold": 256920.07,
          "size": "large",
          "type": "organic",
          "year": 2017
         },
         {
          "avg_price": 2.09,
          "date": "2017-08-27",
          "index": 629,
          "nb_sold": 250861.84,
          "size": "large",
          "type": "organic",
          "year": 2017
         },
         {
          "avg_price": 1.96,
          "date": "2017-08-20",
          "index": 630,
          "nb_sold": 262747.8,
          "size": "large",
          "type": "organic",
          "year": 2017
         },
         {
          "avg_price": 1.88,
          "date": "2017-08-13",
          "index": 631,
          "nb_sold": 230106.14,
          "size": "large",
          "type": "organic",
          "year": 2017
         },
         {
          "avg_price": 1.83,
          "date": "2017-08-06",
          "index": 632,
          "nb_sold": 236015.15,
          "size": "large",
          "type": "organic",
          "year": 2017
         },
         {
          "avg_price": 1.78,
          "date": "2017-07-30",
          "index": 633,
          "nb_sold": 270534.58,
          "size": "large",
          "type": "organic",
          "year": 2017
         },
         {
          "avg_price": 1.76,
          "date": "2017-07-23",
          "index": 634,
          "nb_sold": 317184.04,
          "size": "large",
          "type": "organic",
          "year": 2017
         },
         {
          "avg_price": 1.78,
          "date": "2017-07-16",
          "index": 635,
          "nb_sold": 311432.79,
          "size": "large",
          "type": "organic",
          "year": 2017
         },
         {
          "avg_price": 1.71,
          "date": "2017-07-09",
          "index": 636,
          "nb_sold": 333458.24,
          "size": "large",
          "type": "organic",
          "year": 2017
         },
         {
          "avg_price": 1.74,
          "date": "2017-07-02",
          "index": 637,
          "nb_sold": 360890.48,
          "size": "large",
          "type": "organic",
          "year": 2017
         },
         {
          "avg_price": 1.77,
          "date": "2017-06-25",
          "index": 638,
          "nb_sold": 341073.87,
          "size": "large",
          "type": "organic",
          "year": 2017
         },
         {
          "avg_price": 1.71,
          "date": "2017-06-18",
          "index": 639,
          "nb_sold": 442594.36,
          "size": "large",
          "type": "organic",
          "year": 2017
         },
         {
          "avg_price": 1.56,
          "date": "2017-06-11",
          "index": 640,
          "nb_sold": 339777.07,
          "size": "large",
          "type": "organic",
          "year": 2017
         },
         {
          "avg_price": 1.64,
          "date": "2017-06-04",
          "index": 641,
          "nb_sold": 387057.95,
          "size": "large",
          "type": "organic",
          "year": 2017
         },
         {
          "avg_price": 1.69,
          "date": "2017-05-28",
          "index": 642,
          "nb_sold": 357431.2,
          "size": "large",
          "type": "organic",
          "year": 2017
         },
         {
          "avg_price": 1.71,
          "date": "2017-05-21",
          "index": 643,
          "nb_sold": 351498.5,
          "size": "large",
          "type": "organic",
          "year": 2017
         },
         {
          "avg_price": 1.55,
          "date": "2017-05-14",
          "index": 644,
          "nb_sold": 339920.6,
          "size": "large",
          "type": "organic",
          "year": 2017
         },
         {
          "avg_price": 1.57,
          "date": "2017-05-07",
          "index": 645,
          "nb_sold": 386288.18,
          "size": "large",
          "type": "organic",
          "year": 2017
         },
         {
          "avg_price": 1.68,
          "date": "2017-04-30",
          "index": 646,
          "nb_sold": 421709.78,
          "size": "large",
          "type": "organic",
          "year": 2017
         },
         {
          "avg_price": 1.61,
          "date": "2017-04-23",
          "index": 647,
          "nb_sold": 347557.13,
          "size": "large",
          "type": "organic",
          "year": 2017
         },
         {
          "avg_price": 1.49,
          "date": "2017-04-16",
          "index": 648,
          "nb_sold": 437947.67,
          "size": "large",
          "type": "organic",
          "year": 2017
         },
         {
          "avg_price": 1.43,
          "date": "2017-04-09",
          "index": 649,
          "nb_sold": 362152.44,
          "size": "large",
          "type": "organic",
          "year": 2017
         },
         {
          "avg_price": 1.42,
          "date": "2017-04-02",
          "index": 650,
          "nb_sold": 430841.87,
          "size": "large",
          "type": "organic",
          "year": 2017
         },
         {
          "avg_price": 1.29,
          "date": "2017-03-26",
          "index": 651,
          "nb_sold": 355541.13,
          "size": "large",
          "type": "organic",
          "year": 2017
         },
         {
          "avg_price": 1.5,
          "date": "2017-03-19",
          "index": 652,
          "nb_sold": 411359.03,
          "size": "large",
          "type": "organic",
          "year": 2017
         },
         {
          "avg_price": 1.38,
          "date": "2017-03-12",
          "index": 653,
          "nb_sold": 330081.75,
          "size": "large",
          "type": "organic",
          "year": 2017
         },
         {
          "avg_price": 1.16,
          "date": "2017-03-05",
          "index": 654,
          "nb_sold": 374220.48,
          "size": "large",
          "type": "organic",
          "year": 2017
         },
         {
          "avg_price": 1.21,
          "date": "2017-02-26",
          "index": 655,
          "nb_sold": 368526.18,
          "size": "large",
          "type": "organic",
          "year": 2017
         },
         {
          "avg_price": 1.31,
          "date": "2017-02-19",
          "index": 656,
          "nb_sold": 632101.53,
          "size": "large",
          "type": "organic",
          "year": 2017
         },
         {
          "avg_price": 1.41,
          "date": "2017-02-12",
          "index": 657,
          "nb_sold": 297764.4,
          "size": "large",
          "type": "organic",
          "year": 2017
         },
         {
          "avg_price": 1.36,
          "date": "2017-02-05",
          "index": 658,
          "nb_sold": 314011.26,
          "size": "large",
          "type": "organic",
          "year": 2017
         },
         {
          "avg_price": 1.43,
          "date": "2017-01-29",
          "index": 659,
          "nb_sold": 292584.44,
          "size": "large",
          "type": "organic",
          "year": 2017
         },
         {
          "avg_price": 1.37,
          "date": "2017-01-22",
          "index": 660,
          "nb_sold": 281786.33,
          "size": "large",
          "type": "organic",
          "year": 2017
         },
         {
          "avg_price": 1.44,
          "date": "2017-01-15",
          "index": 661,
          "nb_sold": 280287.84,
          "size": "large",
          "type": "organic",
          "year": 2017
         },
         {
          "avg_price": 1.43,
          "date": "2017-01-08",
          "index": 662,
          "nb_sold": 283532.68,
          "size": "large",
          "type": "organic",
          "year": 2017
         },
         {
          "avg_price": 1.48,
          "date": "2017-01-01",
          "index": 663,
          "nb_sold": 273329.61,
          "size": "large",
          "type": "organic",
          "year": 2017
         },
         {
          "avg_price": 1.55,
          "date": "2018-03-25",
          "index": 664,
          "nb_sold": 342853.1,
          "size": "large",
          "type": "organic",
          "year": 2018
         },
         {
          "avg_price": 1.54,
          "date": "2018-03-18",
          "index": 665,
          "nb_sold": 444949.69,
          "size": "large",
          "type": "organic",
          "year": 2018
         },
         {
          "avg_price": 1.52,
          "date": "2018-03-11",
          "index": 666,
          "nb_sold": 408763.5,
          "size": "large",
          "type": "organic",
          "year": 2018
         },
         {
          "avg_price": 1.52,
          "date": "2018-03-04",
          "index": 667,
          "nb_sold": 390129.5,
          "size": "large",
          "type": "organic",
          "year": 2018
         },
         {
          "avg_price": 1.57,
          "date": "2018-02-25",
          "index": 668,
          "nb_sold": 340374.83,
          "size": "large",
          "type": "organic",
          "year": 2018
         },
         {
          "avg_price": 1.52,
          "date": "2018-02-18",
          "index": 669,
          "nb_sold": 680037.45,
          "size": "large",
          "type": "organic",
          "year": 2018
         },
         {
          "avg_price": 1.56,
          "date": "2018-02-11",
          "index": 670,
          "nb_sold": 270798.27,
          "size": "large",
          "type": "organic",
          "year": 2018
         },
         {
          "avg_price": 1.53,
          "date": "2018-02-04",
          "index": 671,
          "nb_sold": 287724.61,
          "size": "large",
          "type": "organic",
          "year": 2018
         },
         {
          "avg_price": 1.61,
          "date": "2018-01-28",
          "index": 672,
          "nb_sold": 280080.34,
          "size": "large",
          "type": "organic",
          "year": 2018
         },
         {
          "avg_price": 1.63,
          "date": "2018-01-21",
          "index": 673,
          "nb_sold": 259172.13,
          "size": "large",
          "type": "organic",
          "year": 2018
         },
         {
          "avg_price": 1.59,
          "date": "2018-01-14",
          "index": 674,
          "nb_sold": 323669.83,
          "size": "large",
          "type": "organic",
          "year": 2018
         },
         {
          "avg_price": 1.51,
          "date": "2018-01-07",
          "index": 675,
          "nb_sold": 296490.29,
          "size": "large",
          "type": "organic",
          "year": 2018
         },
         {
          "avg_price": 0.95,
          "date": "2015-12-27",
          "index": 676,
          "nb_sold": 1184340.09,
          "size": "extra_large",
          "type": "conventional",
          "year": 2015
         },
         {
          "avg_price": 0.98,
          "date": "2015-12-20",
          "index": 677,
          "nb_sold": 1201020.01,
          "size": "extra_large",
          "type": "conventional",
          "year": 2015
         },
         {
          "avg_price": 0.93,
          "date": "2015-12-13",
          "index": 678,
          "nb_sold": 1016163.17,
          "size": "extra_large",
          "type": "conventional",
          "year": 2015
         },
         {
          "avg_price": 0.89,
          "date": "2015-12-06",
          "index": 679,
          "nb_sold": 931830.63,
          "size": "extra_large",
          "type": "conventional",
          "year": 2015
         },
         {
          "avg_price": 0.99,
          "date": "2015-11-29",
          "index": 680,
          "nb_sold": 731008.41,
          "size": "extra_large",
          "type": "conventional",
          "year": 2015
         },
         {
          "avg_price": 0.96,
          "date": "2015-11-22",
          "index": 681,
          "nb_sold": 804662.83,
          "size": "extra_large",
          "type": "conventional",
          "year": 2015
         },
         {
          "avg_price": 0.92,
          "date": "2015-11-15",
          "index": 682,
          "nb_sold": 815641.54,
          "size": "extra_large",
          "type": "conventional",
          "year": 2015
         },
         {
          "avg_price": 0.97,
          "date": "2015-11-08",
          "index": 683,
          "nb_sold": 1143214.59,
          "size": "extra_large",
          "type": "conventional",
          "year": 2015
         },
         {
          "avg_price": 0.97,
          "date": "2015-11-01",
          "index": 684,
          "nb_sold": 1410928.18,
          "size": "extra_large",
          "type": "conventional",
          "year": 2015
         },
         {
          "avg_price": 1.04,
          "date": "2015-10-25",
          "index": 685,
          "nb_sold": 1188118.95,
          "size": "extra_large",
          "type": "conventional",
          "year": 2015
         },
         {
          "avg_price": 0.99,
          "date": "2015-10-18",
          "index": 686,
          "nb_sold": 1220251.19,
          "size": "extra_large",
          "type": "conventional",
          "year": 2015
         },
         {
          "avg_price": 1,
          "date": "2015-10-11",
          "index": 687,
          "nb_sold": 1614282.73,
          "size": "extra_large",
          "type": "conventional",
          "year": 2015
         },
         {
          "avg_price": 1.02,
          "date": "2015-10-04",
          "index": 688,
          "nb_sold": 1209045.07,
          "size": "extra_large",
          "type": "conventional",
          "year": 2015
         },
         {
          "avg_price": 1.03,
          "date": "2015-09-27",
          "index": 689,
          "nb_sold": 1061979.37,
          "size": "extra_large",
          "type": "conventional",
          "year": 2015
         },
         {
          "avg_price": 1.02,
          "date": "2015-09-20",
          "index": 690,
          "nb_sold": 1112405.42,
          "size": "extra_large",
          "type": "conventional",
          "year": 2015
         },
         {
          "avg_price": 1.03,
          "date": "2015-09-13",
          "index": 691,
          "nb_sold": 1118988.92,
          "size": "extra_large",
          "type": "conventional",
          "year": 2015
         },
         {
          "avg_price": 1.02,
          "date": "2015-09-06",
          "index": 692,
          "nb_sold": 1129771.19,
          "size": "extra_large",
          "type": "conventional",
          "year": 2015
         },
         {
          "avg_price": 1.07,
          "date": "2015-08-30",
          "index": 693,
          "nb_sold": 1060352.53,
          "size": "extra_large",
          "type": "conventional",
          "year": 2015
         },
         {
          "avg_price": 1.08,
          "date": "2015-08-23",
          "index": 694,
          "nb_sold": 909284.22,
          "size": "extra_large",
          "type": "conventional",
          "year": 2015
         },
         {
          "avg_price": 1.05,
          "date": "2015-08-16",
          "index": 695,
          "nb_sold": 1143364.58,
          "size": "extra_large",
          "type": "conventional",
          "year": 2015
         },
         {
          "avg_price": 1.05,
          "date": "2015-08-09",
          "index": 696,
          "nb_sold": 1014520.88,
          "size": "extra_large",
          "type": "conventional",
          "year": 2015
         },
         {
          "avg_price": 1.09,
          "date": "2015-08-02",
          "index": 697,
          "nb_sold": 984702.75,
          "size": "extra_large",
          "type": "conventional",
          "year": 2015
         },
         {
          "avg_price": 1.07,
          "date": "2015-07-26",
          "index": 698,
          "nb_sold": 1017157.74,
          "size": "extra_large",
          "type": "conventional",
          "year": 2015
         },
         {
          "avg_price": 1.07,
          "date": "2015-07-19",
          "index": 699,
          "nb_sold": 1154897.34,
          "size": "extra_large",
          "type": "conventional",
          "year": 2015
         },
         {
          "avg_price": 1.07,
          "date": "2015-07-12",
          "index": 700,
          "nb_sold": 980361.75,
          "size": "extra_large",
          "type": "conventional",
          "year": 2015
         },
         {
          "avg_price": 1.04,
          "date": "2015-07-05",
          "index": 701,
          "nb_sold": 1342465.95,
          "size": "extra_large",
          "type": "conventional",
          "year": 2015
         },
         {
          "avg_price": 1.06,
          "date": "2015-06-28",
          "index": 702,
          "nb_sold": 1045832.54,
          "size": "extra_large",
          "type": "conventional",
          "year": 2015
         },
         {
          "avg_price": 1.02,
          "date": "2015-06-21",
          "index": 703,
          "nb_sold": 1326422.56,
          "size": "extra_large",
          "type": "conventional",
          "year": 2015
         },
         {
          "avg_price": 0.98,
          "date": "2015-06-14",
          "index": 704,
          "nb_sold": 1085081.61,
          "size": "extra_large",
          "type": "conventional",
          "year": 2015
         },
         {
          "avg_price": 1,
          "date": "2015-06-07",
          "index": 705,
          "nb_sold": 1144715.95,
          "size": "extra_large",
          "type": "conventional",
          "year": 2015
         },
         {
          "avg_price": 1.03,
          "date": "2015-05-31",
          "index": 706,
          "nb_sold": 903908.35,
          "size": "extra_large",
          "type": "conventional",
          "year": 2015
         },
         {
          "avg_price": 1.04,
          "date": "2015-05-24",
          "index": 707,
          "nb_sold": 899779.92,
          "size": "extra_large",
          "type": "conventional",
          "year": 2015
         },
         {
          "avg_price": 1.06,
          "date": "2015-05-17",
          "index": 708,
          "nb_sold": 963549.53,
          "size": "extra_large",
          "type": "conventional",
          "year": 2015
         },
         {
          "avg_price": 1.02,
          "date": "2015-05-10",
          "index": 709,
          "nb_sold": 858145.45,
          "size": "extra_large",
          "type": "conventional",
          "year": 2015
         },
         {
          "avg_price": 0.96,
          "date": "2015-05-03",
          "index": 710,
          "nb_sold": 1118329.5,
          "size": "extra_large",
          "type": "conventional",
          "year": 2015
         },
         {
          "avg_price": 1.07,
          "date": "2015-04-26",
          "index": 711,
          "nb_sold": 889732.2,
          "size": "extra_large",
          "type": "conventional",
          "year": 2015
         },
         {
          "avg_price": 1.03,
          "date": "2015-04-19",
          "index": 712,
          "nb_sold": 1016631.26,
          "size": "extra_large",
          "type": "conventional",
          "year": 2015
         },
         {
          "avg_price": 1.02,
          "date": "2015-04-12",
          "index": 713,
          "nb_sold": 807942.41,
          "size": "extra_large",
          "type": "conventional",
          "year": 2015
         },
         {
          "avg_price": 1.06,
          "date": "2015-04-05",
          "index": 714,
          "nb_sold": 871981.29,
          "size": "extra_large",
          "type": "conventional",
          "year": 2015
         },
         {
          "avg_price": 1.04,
          "date": "2015-03-29",
          "index": 715,
          "nb_sold": 811272.88,
          "size": "extra_large",
          "type": "conventional",
          "year": 2015
         },
         {
          "avg_price": 1.01,
          "date": "2015-03-22",
          "index": 716,
          "nb_sold": 1066385.92,
          "size": "extra_large",
          "type": "conventional",
          "year": 2015
         },
         {
          "avg_price": 1.04,
          "date": "2015-03-15",
          "index": 717,
          "nb_sold": 871575.04,
          "size": "extra_large",
          "type": "conventional",
          "year": 2015
         },
         {
          "avg_price": 1.02,
          "date": "2015-03-08",
          "index": 718,
          "nb_sold": 834009.15,
          "size": "extra_large",
          "type": "conventional",
          "year": 2015
         },
         {
          "avg_price": 0.97,
          "date": "2015-03-01",
          "index": 719,
          "nb_sold": 1070576.07,
          "size": "extra_large",
          "type": "conventional",
          "year": 2015
         },
         {
          "avg_price": 1.02,
          "date": "2015-02-22",
          "index": 720,
          "nb_sold": 937138.85,
          "size": "extra_large",
          "type": "conventional",
          "year": 2015
         },
         {
          "avg_price": 1.03,
          "date": "2015-02-15",
          "index": 721,
          "nb_sold": 845653.52,
          "size": "extra_large",
          "type": "conventional",
          "year": 2015
         },
         {
          "avg_price": 0.95,
          "date": "2015-02-08",
          "index": 722,
          "nb_sold": 737939.45,
          "size": "extra_large",
          "type": "conventional",
          "year": 2015
         },
         {
          "avg_price": 0.89,
          "date": "2015-02-01",
          "index": 723,
          "nb_sold": 1381516.11,
          "size": "extra_large",
          "type": "conventional",
          "year": 2015
         },
         {
          "avg_price": 1.04,
          "date": "2015-01-25",
          "index": 724,
          "nb_sold": 768020.05,
          "size": "extra_large",
          "type": "conventional",
          "year": 2015
         },
         {
          "avg_price": 1.03,
          "date": "2015-01-18",
          "index": 725,
          "nb_sold": 831301.9,
          "size": "extra_large",
          "type": "conventional",
          "year": 2015
         },
         {
          "avg_price": 1.01,
          "date": "2015-01-11",
          "index": 726,
          "nb_sold": 866574.66,
          "size": "extra_large",
          "type": "conventional",
          "year": 2015
         },
         {
          "avg_price": 0.95,
          "date": "2015-01-04",
          "index": 727,
          "nb_sold": 844093.32,
          "size": "extra_large",
          "type": "conventional",
          "year": 2015
         },
         {
          "avg_price": 1,
          "date": "2016-12-25",
          "index": 728,
          "nb_sold": 541972.42,
          "size": "extra_large",
          "type": "conventional",
          "year": 2016
         },
         {
          "avg_price": 0.96,
          "date": "2016-12-18",
          "index": 729,
          "nb_sold": 427872.42,
          "size": "extra_large",
          "type": "conventional",
          "year": 2016
         },
         {
          "avg_price": 0.98,
          "date": "2016-12-11",
          "index": 730,
          "nb_sold": 403047.93,
          "size": "extra_large",
          "type": "conventional",
          "year": 2016
         },
         {
          "avg_price": 1,
          "date": "2016-12-04",
          "index": 731,
          "nb_sold": 428009.84,
          "size": "extra_large",
          "type": "conventional",
          "year": 2016
         },
         {
          "avg_price": 1.21,
          "date": "2016-11-27",
          "index": 732,
          "nb_sold": 344475.9,
          "size": "extra_large",
          "type": "conventional",
          "year": 2016
         },
         {
          "avg_price": 1.27,
          "date": "2016-11-20",
          "index": 733,
          "nb_sold": 407567.78,
          "size": "extra_large",
          "type": "conventional",
          "year": 2016
         },
         {
          "avg_price": 1.36,
          "date": "2016-11-13",
          "index": 734,
          "nb_sold": 477520.95,
          "size": "extra_large",
          "type": "conventional",
          "year": 2016
         },
         {
          "avg_price": 1.44,
          "date": "2016-11-06",
          "index": 735,
          "nb_sold": 505349.44,
          "size": "extra_large",
          "type": "conventional",
          "year": 2016
         },
         {
          "avg_price": 1.43,
          "date": "2016-10-30",
          "index": 736,
          "nb_sold": 453145.26,
          "size": "extra_large",
          "type": "conventional",
          "year": 2016
         },
         {
          "avg_price": 1.34,
          "date": "2016-10-23",
          "index": 737,
          "nb_sold": 452383.96,
          "size": "extra_large",
          "type": "conventional",
          "year": 2016
         },
         {
          "avg_price": 1.3,
          "date": "2016-10-16",
          "index": 738,
          "nb_sold": 447291.48,
          "size": "extra_large",
          "type": "conventional",
          "year": 2016
         },
         {
          "avg_price": 1.27,
          "date": "2016-10-09",
          "index": 739,
          "nb_sold": 490956.88,
          "size": "extra_large",
          "type": "conventional",
          "year": 2016
         },
         {
          "avg_price": 1.23,
          "date": "2016-10-02",
          "index": 740,
          "nb_sold": 490123.01,
          "size": "extra_large",
          "type": "conventional",
          "year": 2016
         },
         {
          "avg_price": 1.22,
          "date": "2016-09-25",
          "index": 741,
          "nb_sold": 492604.3,
          "size": "extra_large",
          "type": "conventional",
          "year": 2016
         },
         {
          "avg_price": 1.15,
          "date": "2016-09-18",
          "index": 742,
          "nb_sold": 486187.39,
          "size": "extra_large",
          "type": "conventional",
          "year": 2016
         },
         {
          "avg_price": 1.08,
          "date": "2016-09-11",
          "index": 743,
          "nb_sold": 512160.27,
          "size": "extra_large",
          "type": "conventional",
          "year": 2016
         },
         {
          "avg_price": 1.04,
          "date": "2016-09-04",
          "index": 744,
          "nb_sold": 540680.89,
          "size": "extra_large",
          "type": "conventional",
          "year": 2016
         },
         {
          "avg_price": 1.09,
          "date": "2016-08-28",
          "index": 745,
          "nb_sold": 563738.54,
          "size": "extra_large",
          "type": "conventional",
          "year": 2016
         },
         {
          "avg_price": 1.1,
          "date": "2016-08-21",
          "index": 746,
          "nb_sold": 609720.87,
          "size": "extra_large",
          "type": "conventional",
          "year": 2016
         },
         {
          "avg_price": 1.12,
          "date": "2016-08-14",
          "index": 747,
          "nb_sold": 749247.02,
          "size": "extra_large",
          "type": "conventional",
          "year": 2016
         },
         {
          "avg_price": 1.15,
          "date": "2016-08-07",
          "index": 748,
          "nb_sold": 754548.53,
          "size": "extra_large",
          "type": "conventional",
          "year": 2016
         },
         {
          "avg_price": 1.23,
          "date": "2016-07-31",
          "index": 749,
          "nb_sold": 783937.09,
          "size": "extra_large",
          "type": "conventional",
          "year": 2016
         },
         {
          "avg_price": 1.2,
          "date": "2016-07-24",
          "index": 750,
          "nb_sold": 947964.05,
          "size": "extra_large",
          "type": "conventional",
          "year": 2016
         },
         {
          "avg_price": 1.15,
          "date": "2016-07-17",
          "index": 751,
          "nb_sold": 953631.47,
          "size": "extra_large",
          "type": "conventional",
          "year": 2016
         },
         {
          "avg_price": 1.1,
          "date": "2016-07-10",
          "index": 752,
          "nb_sold": 1266433.97,
          "size": "extra_large",
          "type": "conventional",
          "year": 2016
         },
         {
          "avg_price": 1.06,
          "date": "2016-07-03",
          "index": 753,
          "nb_sold": 1761343.08,
          "size": "extra_large",
          "type": "conventional",
          "year": 2016
         },
         {
          "avg_price": 1.04,
          "date": "2016-06-26",
          "index": 754,
          "nb_sold": 1624942.43,
          "size": "extra_large",
          "type": "conventional",
          "year": 2016
         },
         {
          "avg_price": 1.02,
          "date": "2016-06-19",
          "index": 755,
          "nb_sold": 1642735.63,
          "size": "extra_large",
          "type": "conventional",
          "year": 2016
         },
         {
          "avg_price": 1.04,
          "date": "2016-06-12",
          "index": 756,
          "nb_sold": 1607344.08,
          "size": "extra_large",
          "type": "conventional",
          "year": 2016
         },
         {
          "avg_price": 0.97,
          "date": "2016-06-05",
          "index": 757,
          "nb_sold": 1770948.09,
          "size": "extra_large",
          "type": "conventional",
          "year": 2016
         },
         {
          "avg_price": 0.94,
          "date": "2016-05-29",
          "index": 758,
          "nb_sold": 1583495.93,
          "size": "extra_large",
          "type": "conventional",
          "year": 2016
         },
         {
          "avg_price": 0.93,
          "date": "2016-05-22",
          "index": 759,
          "nb_sold": 1640829.4,
          "size": "extra_large",
          "type": "conventional",
          "year": 2016
         },
         {
          "avg_price": 0.89,
          "date": "2016-05-15",
          "index": 760,
          "nb_sold": 1753852.61,
          "size": "extra_large",
          "type": "conventional",
          "year": 2016
         },
         {
          "avg_price": 0.82,
          "date": "2016-05-08",
          "index": 761,
          "nb_sold": 1993645.36,
          "size": "extra_large",
          "type": "conventional",
          "year": 2016
         },
         {
          "avg_price": 0.84,
          "date": "2016-05-01",
          "index": 762,
          "nb_sold": 1414364.49,
          "size": "extra_large",
          "type": "conventional",
          "year": 2016
         },
         {
          "avg_price": 0.87,
          "date": "2016-04-24",
          "index": 763,
          "nb_sold": 1599863.98,
          "size": "extra_large",
          "type": "conventional",
          "year": 2016
         },
         {
          "avg_price": 0.9,
          "date": "2016-04-17",
          "index": 764,
          "nb_sold": 1896149.5,
          "size": "extra_large",
          "type": "conventional",
          "year": 2016
         },
         {
          "avg_price": 0.9,
          "date": "2016-04-10",
          "index": 765,
          "nb_sold": 1666275.13,
          "size": "extra_large",
          "type": "conventional",
          "year": 2016
         },
         {
          "avg_price": 0.94,
          "date": "2016-04-03",
          "index": 766,
          "nb_sold": 1731910.48,
          "size": "extra_large",
          "type": "conventional",
          "year": 2016
         },
         {
          "avg_price": 0.94,
          "date": "2016-03-27",
          "index": 767,
          "nb_sold": 1880231.38,
          "size": "extra_large",
          "type": "conventional",
          "year": 2016
         },
         {
          "avg_price": 0.93,
          "date": "2016-03-20",
          "index": 768,
          "nb_sold": 1773088.87,
          "size": "extra_large",
          "type": "conventional",
          "year": 2016
         },
         {
          "avg_price": 0.93,
          "date": "2016-03-13",
          "index": 769,
          "nb_sold": 1800065.57,
          "size": "extra_large",
          "type": "conventional",
          "year": 2016
         },
         {
          "avg_price": 0.95,
          "date": "2016-03-06",
          "index": 770,
          "nb_sold": 1686475.33,
          "size": "extra_large",
          "type": "conventional",
          "year": 2016
         },
         {
          "avg_price": 0.91,
          "date": "2016-02-28",
          "index": 771,
          "nb_sold": 1560167.75,
          "size": "extra_large",
          "type": "conventional",
          "year": 2016
         },
         {
          "avg_price": 0.94,
          "date": "2016-02-21",
          "index": 772,
          "nb_sold": 1375260.47,
          "size": "extra_large",
          "type": "conventional",
          "year": 2016
         },
         {
          "avg_price": 0.88,
          "date": "2016-02-14",
          "index": 773,
          "nb_sold": 1811090.71,
          "size": "extra_large",
          "type": "conventional",
          "year": 2016
         },
         {
          "avg_price": 0.76,
          "date": "2016-02-07",
          "index": 774,
          "nb_sold": 2546439.11,
          "size": "extra_large",
          "type": "conventional",
          "year": 2016
         },
         {
          "avg_price": 0.93,
          "date": "2016-01-31",
          "index": 775,
          "nb_sold": 1643703.17,
          "size": "extra_large",
          "type": "conventional",
          "year": 2016
         },
         {
          "avg_price": 0.95,
          "date": "2016-01-24",
          "index": 776,
          "nb_sold": 1440380.36,
          "size": "extra_large",
          "type": "conventional",
          "year": 2016
         },
         {
          "avg_price": 0.94,
          "date": "2016-01-17",
          "index": 777,
          "nb_sold": 1419405.62,
          "size": "extra_large",
          "type": "conventional",
          "year": 2016
         },
         {
          "avg_price": 0.93,
          "date": "2016-01-10",
          "index": 778,
          "nb_sold": 1282612.91,
          "size": "extra_large",
          "type": "conventional",
          "year": 2016
         },
         {
          "avg_price": 0.86,
          "date": "2016-01-03",
          "index": 779,
          "nb_sold": 1560068.62,
          "size": "extra_large",
          "type": "conventional",
          "year": 2016
         },
         {
          "avg_price": 0.98,
          "date": "2017-12-31",
          "index": 780,
          "nb_sold": 644837.54,
          "size": "extra_large",
          "type": "conventional",
          "year": 2017
         },
         {
          "avg_price": 1.18,
          "date": "2017-12-24",
          "index": 781,
          "nb_sold": 546373.81,
          "size": "extra_large",
          "type": "conventional",
          "year": 2017
         },
         {
          "avg_price": 1.07,
          "date": "2017-12-17",
          "index": 782,
          "nb_sold": 574089.32,
          "size": "extra_large",
          "type": "conventional",
          "year": 2017
         },
         {
          "avg_price": 1.03,
          "date": "2017-12-10",
          "index": 783,
          "nb_sold": 398348.55,
          "size": "extra_large",
          "type": "conventional",
          "year": 2017
         },
         {
          "avg_price": 1.09,
          "date": "2017-12-03",
          "index": 784,
          "nb_sold": 583801,
          "size": "extra_large",
          "type": "conventional",
          "year": 2017
         },
         {
          "avg_price": 1.24,
          "date": "2017-11-26",
          "index": 785,
          "nb_sold": 379637,
          "size": "extra_large",
          "type": "conventional",
          "year": 2017
         },
         {
          "avg_price": 1.17,
          "date": "2017-11-19",
          "index": 786,
          "nb_sold": 416186,
          "size": "extra_large",
          "type": "conventional",
          "year": 2017
         },
         {
          "avg_price": 1.15,
          "date": "2017-11-12",
          "index": 787,
          "nb_sold": 416643,
          "size": "extra_large",
          "type": "conventional",
          "year": 2017
         },
         {
          "avg_price": 1.19,
          "date": "2017-11-05",
          "index": 788,
          "nb_sold": 400250.97,
          "size": "extra_large",
          "type": "conventional",
          "year": 2017
         },
         {
          "avg_price": 1.29,
          "date": "2017-10-29",
          "index": 789,
          "nb_sold": 424755.66,
          "size": "extra_large",
          "type": "conventional",
          "year": 2017
         },
         {
          "avg_price": 1.44,
          "date": "2017-10-22",
          "index": 790,
          "nb_sold": 409598.47,
          "size": "extra_large",
          "type": "conventional",
          "year": 2017
         },
         {
          "avg_price": 1.58,
          "date": "2017-10-15",
          "index": 791,
          "nb_sold": 392119.12,
          "size": "extra_large",
          "type": "conventional",
          "year": 2017
         },
         {
          "avg_price": 1.65,
          "date": "2017-10-08",
          "index": 792,
          "nb_sold": 391832.89,
          "size": "extra_large",
          "type": "conventional",
          "year": 2017
         },
         {
          "avg_price": 1.64,
          "date": "2017-10-01",
          "index": 793,
          "nb_sold": 384794.18,
          "size": "extra_large",
          "type": "conventional",
          "year": 2017
         },
         {
          "avg_price": 1.62,
          "date": "2017-09-24",
          "index": 794,
          "nb_sold": 385004.72,
          "size": "extra_large",
          "type": "conventional",
          "year": 2017
         },
         {
          "avg_price": 1.57,
          "date": "2017-09-17",
          "index": 795,
          "nb_sold": 417270.7,
          "size": "extra_large",
          "type": "conventional",
          "year": 2017
         },
         {
          "avg_price": 1.56,
          "date": "2017-09-10",
          "index": 796,
          "nb_sold": 487926.52,
          "size": "extra_large",
          "type": "conventional",
          "year": 2017
         },
         {
          "avg_price": 1.57,
          "date": "2017-09-03",
          "index": 797,
          "nb_sold": 541902.88,
          "size": "extra_large",
          "type": "conventional",
          "year": 2017
         },
         {
          "avg_price": 1.47,
          "date": "2017-08-27",
          "index": 798,
          "nb_sold": 517541.94,
          "size": "extra_large",
          "type": "conventional",
          "year": 2017
         },
         {
          "avg_price": 1.41,
          "date": "2017-08-20",
          "index": 799,
          "nb_sold": 581074.35,
          "size": "extra_large",
          "type": "conventional",
          "year": 2017
         },
         {
          "avg_price": 1.33,
          "date": "2017-08-13",
          "index": 800,
          "nb_sold": 624963.41,
          "size": "extra_large",
          "type": "conventional",
          "year": 2017
         },
         {
          "avg_price": 1.33,
          "date": "2017-08-06",
          "index": 801,
          "nb_sold": 665312.55,
          "size": "extra_large",
          "type": "conventional",
          "year": 2017
         },
         {
          "avg_price": 1.32,
          "date": "2017-07-30",
          "index": 802,
          "nb_sold": 596676.12,
          "size": "extra_large",
          "type": "conventional",
          "year": 2017
         },
         {
          "avg_price": 1.31,
          "date": "2017-07-23",
          "index": 803,
          "nb_sold": 612242.37,
          "size": "extra_large",
          "type": "conventional",
          "year": 2017
         },
         {
          "avg_price": 1.33,
          "date": "2017-07-16",
          "index": 804,
          "nb_sold": 756103.12,
          "size": "extra_large",
          "type": "conventional",
          "year": 2017
         },
         {
          "avg_price": 1.17,
          "date": "2017-07-09",
          "index": 805,
          "nb_sold": 821964.42,
          "size": "extra_large",
          "type": "conventional",
          "year": 2017
         },
         {
          "avg_price": 1.21,
          "date": "2017-07-02",
          "index": 806,
          "nb_sold": 859889.81,
          "size": "extra_large",
          "type": "conventional",
          "year": 2017
         },
         {
          "avg_price": 1.17,
          "date": "2017-06-25",
          "index": 807,
          "nb_sold": 655965.98,
          "size": "extra_large",
          "type": "conventional",
          "year": 2017
         },
         {
          "avg_price": 1.18,
          "date": "2017-06-18",
          "index": 808,
          "nb_sold": 807107.21,
          "size": "extra_large",
          "type": "conventional",
          "year": 2017
         },
         {
          "avg_price": 1.21,
          "date": "2017-06-11",
          "index": 809,
          "nb_sold": 648410.9,
          "size": "extra_large",
          "type": "conventional",
          "year": 2017
         },
         {
          "avg_price": 1.24,
          "date": "2017-06-04",
          "index": 810,
          "nb_sold": 667066.51,
          "size": "extra_large",
          "type": "conventional",
          "year": 2017
         },
         {
          "avg_price": 1.28,
          "date": "2017-05-28",
          "index": 811,
          "nb_sold": 673384.78,
          "size": "extra_large",
          "type": "conventional",
          "year": 2017
         },
         {
          "avg_price": 1.26,
          "date": "2017-05-21",
          "index": 812,
          "nb_sold": 621603.57,
          "size": "extra_large",
          "type": "conventional",
          "year": 2017
         },
         {
          "avg_price": 1.19,
          "date": "2017-05-14",
          "index": 813,
          "nb_sold": 652973.26,
          "size": "extra_large",
          "type": "conventional",
          "year": 2017
         },
         {
          "avg_price": 1.09,
          "date": "2017-05-07",
          "index": 814,
          "nb_sold": 863471.88,
          "size": "extra_large",
          "type": "conventional",
          "year": 2017
         },
         {
          "avg_price": 1.18,
          "date": "2017-04-30",
          "index": 815,
          "nb_sold": 667996.83,
          "size": "extra_large",
          "type": "conventional",
          "year": 2017
         },
         {
          "avg_price": 1.18,
          "date": "2017-04-23",
          "index": 816,
          "nb_sold": 613507.38,
          "size": "extra_large",
          "type": "conventional",
          "year": 2017
         },
         {
          "avg_price": 1.23,
          "date": "2017-04-16",
          "index": 817,
          "nb_sold": 650017.26,
          "size": "extra_large",
          "type": "conventional",
          "year": 2017
         },
         {
          "avg_price": 1.21,
          "date": "2017-04-09",
          "index": 818,
          "nb_sold": 647969.03,
          "size": "extra_large",
          "type": "conventional",
          "year": 2017
         },
         {
          "avg_price": 1.21,
          "date": "2017-04-02",
          "index": 819,
          "nb_sold": 624709.69,
          "size": "extra_large",
          "type": "conventional",
          "year": 2017
         },
         {
          "avg_price": 1.24,
          "date": "2017-03-26",
          "index": 820,
          "nb_sold": 611105.54,
          "size": "extra_large",
          "type": "conventional",
          "year": 2017
         },
         {
          "avg_price": 1.25,
          "date": "2017-03-19",
          "index": 821,
          "nb_sold": 638217.85,
          "size": "extra_large",
          "type": "conventional",
          "year": 2017
         },
         {
          "avg_price": 1.22,
          "date": "2017-03-12",
          "index": 822,
          "nb_sold": 727233.05,
          "size": "extra_large",
          "type": "conventional",
          "year": 2017
         },
         {
          "avg_price": 1.13,
          "date": "2017-03-05",
          "index": 823,
          "nb_sold": 795173.2,
          "size": "extra_large",
          "type": "conventional",
          "year": 2017
         },
         {
          "avg_price": 0.99,
          "date": "2017-02-26",
          "index": 824,
          "nb_sold": 896761.77,
          "size": "extra_large",
          "type": "conventional",
          "year": 2017
         },
         {
          "avg_price": 0.99,
          "date": "2017-02-19",
          "index": 825,
          "nb_sold": 832906.12,
          "size": "extra_large",
          "type": "conventional",
          "year": 2017
         },
         {
          "avg_price": 0.87,
          "date": "2017-02-12",
          "index": 826,
          "nb_sold": 862322.15,
          "size": "extra_large",
          "type": "conventional",
          "year": 2017
         },
         {
          "avg_price": 0.77,
          "date": "2017-02-05",
          "index": 827,
          "nb_sold": 1664383.09,
          "size": "extra_large",
          "type": "conventional",
          "year": 2017
         },
         {
          "avg_price": 0.96,
          "date": "2017-01-29",
          "index": 828,
          "nb_sold": 818727.02,
          "size": "extra_large",
          "type": "conventional",
          "year": 2017
         },
         {
          "avg_price": 0.94,
          "date": "2017-01-22",
          "index": 829,
          "nb_sold": 908616.41,
          "size": "extra_large",
          "type": "conventional",
          "year": 2017
         },
         {
          "avg_price": 0.98,
          "date": "2017-01-15",
          "index": 830,
          "nb_sold": 579346.52,
          "size": "extra_large",
          "type": "conventional",
          "year": 2017
         },
         {
          "avg_price": 0.99,
          "date": "2017-01-08",
          "index": 831,
          "nb_sold": 539068.39,
          "size": "extra_large",
          "type": "conventional",
          "year": 2017
         },
         {
          "avg_price": 0.89,
          "date": "2017-01-01",
          "index": 832,
          "nb_sold": 549844.57,
          "size": "extra_large",
          "type": "conventional",
          "year": 2017
         },
         {
          "avg_price": 1.03,
          "date": "2018-03-25",
          "index": 833,
          "nb_sold": 758801.12,
          "size": "extra_large",
          "type": "conventional",
          "year": 2018
         },
         {
          "avg_price": 1.05,
          "date": "2018-03-18",
          "index": 834,
          "nb_sold": 645380.85,
          "size": "extra_large",
          "type": "conventional",
          "year": 2018
         },
         {
          "avg_price": 1.09,
          "date": "2018-03-11",
          "index": 835,
          "nb_sold": 707578.82,
          "size": "extra_large",
          "type": "conventional",
          "year": 2018
         },
         {
          "avg_price": 1.07,
          "date": "2018-03-04",
          "index": 836,
          "nb_sold": 571747.72,
          "size": "extra_large",
          "type": "conventional",
          "year": 2018
         },
         {
          "avg_price": 1.06,
          "date": "2018-02-25",
          "index": 837,
          "nb_sold": 724330.16,
          "size": "extra_large",
          "type": "conventional",
          "year": 2018
         },
         {
          "avg_price": 1.08,
          "date": "2018-02-18",
          "index": 838,
          "nb_sold": 552969.73,
          "size": "extra_large",
          "type": "conventional",
          "year": 2018
         },
         {
          "avg_price": 0.97,
          "date": "2018-02-11",
          "index": 839,
          "nb_sold": 652856.58,
          "size": "extra_large",
          "type": "conventional",
          "year": 2018
         },
         {
          "avg_price": 0.87,
          "date": "2018-02-04",
          "index": 840,
          "nb_sold": 1066830.22,
          "size": "extra_large",
          "type": "conventional",
          "year": 2018
         },
         {
          "avg_price": 1.09,
          "date": "2018-01-28",
          "index": 841,
          "nb_sold": 575974.74,
          "size": "extra_large",
          "type": "conventional",
          "year": 2018
         },
         {
          "avg_price": 1.08,
          "date": "2018-01-21",
          "index": 842,
          "nb_sold": 928815.12,
          "size": "extra_large",
          "type": "conventional",
          "year": 2018
         },
         {
          "avg_price": 1.2,
          "date": "2018-01-14",
          "index": 843,
          "nb_sold": 652808.4,
          "size": "extra_large",
          "type": "conventional",
          "year": 2018
         },
         {
          "avg_price": 1.13,
          "date": "2018-01-07",
          "index": 844,
          "nb_sold": 677714.86,
          "size": "extra_large",
          "type": "conventional",
          "year": 2018
         },
         {
          "avg_price": 1.52,
          "date": "2015-12-27",
          "index": 845,
          "nb_sold": 5836.04,
          "size": "extra_large",
          "type": "organic",
          "year": 2015
         },
         {
          "avg_price": 1.53,
          "date": "2015-12-20",
          "index": 846,
          "nb_sold": 8733.11,
          "size": "extra_large",
          "type": "organic",
          "year": 2015
         },
         {
          "avg_price": 1.43,
          "date": "2015-12-13",
          "index": 847,
          "nb_sold": 11645.54,
          "size": "extra_large",
          "type": "organic",
          "year": 2015
         },
         {
          "avg_price": 1.52,
          "date": "2015-12-06",
          "index": 848,
          "nb_sold": 4066.09,
          "size": "extra_large",
          "type": "organic",
          "year": 2015
         },
         {
          "avg_price": 1.5,
          "date": "2015-11-29",
          "index": 849,
          "nb_sold": 3749.48,
          "size": "extra_large",
          "type": "organic",
          "year": 2015
         },
         {
          "avg_price": 1.49,
          "date": "2015-11-22",
          "index": 850,
          "nb_sold": 3686.28,
          "size": "extra_large",
          "type": "organic",
          "year": 2015
         },
         {
          "avg_price": 1.6,
          "date": "2015-11-15",
          "index": 851,
          "nb_sold": 3599.71,
          "size": "extra_large",
          "type": "organic",
          "year": 2015
         },
         {
          "avg_price": 1.54,
          "date": "2015-11-08",
          "index": 852,
          "nb_sold": 4458.45,
          "size": "extra_large",
          "type": "organic",
          "year": 2015
         },
         {
          "avg_price": 1.47,
          "date": "2015-11-01",
          "index": 853,
          "nb_sold": 6583.03,
          "size": "extra_large",
          "type": "organic",
          "year": 2015
         },
         {
          "avg_price": 1.62,
          "date": "2015-10-25",
          "index": 854,
          "nb_sold": 6181.13,
          "size": "extra_large",
          "type": "organic",
          "year": 2015
         },
         {
          "avg_price": 1.71,
          "date": "2015-10-18",
          "index": 855,
          "nb_sold": 5199.73,
          "size": "extra_large",
          "type": "organic",
          "year": 2015
         },
         {
          "avg_price": 1.69,
          "date": "2015-10-11",
          "index": 856,
          "nb_sold": 4792.06,
          "size": "extra_large",
          "type": "organic",
          "year": 2015
         },
         {
          "avg_price": 1.72,
          "date": "2015-10-04",
          "index": 857,
          "nb_sold": 4093.2,
          "size": "extra_large",
          "type": "organic",
          "year": 2015
         },
         {
          "avg_price": 1.75,
          "date": "2015-09-27",
          "index": 858,
          "nb_sold": 4546.66,
          "size": "extra_large",
          "type": "organic",
          "year": 2015
         },
         {
          "avg_price": 1.77,
          "date": "2015-09-20",
          "index": 859,
          "nb_sold": 4880.83,
          "size": "extra_large",
          "type": "organic",
          "year": 2015
         },
         {
          "avg_price": 1.8,
          "date": "2015-09-13",
          "index": 860,
          "nb_sold": 5154.23,
          "size": "extra_large",
          "type": "organic",
          "year": 2015
         },
         {
          "avg_price": 1.78,
          "date": "2015-09-06",
          "index": 861,
          "nb_sold": 5890.57,
          "size": "extra_large",
          "type": "organic",
          "year": 2015
         },
         {
          "avg_price": 1.66,
          "date": "2015-08-30",
          "index": 862,
          "nb_sold": 5569.76,
          "size": "extra_large",
          "type": "organic",
          "year": 2015
         },
         {
          "avg_price": 1.72,
          "date": "2015-08-23",
          "index": 863,
          "nb_sold": 5985.12,
          "size": "extra_large",
          "type": "organic",
          "year": 2015
         },
         {
          "avg_price": 1.75,
          "date": "2015-08-16",
          "index": 864,
          "nb_sold": 6215.26,
          "size": "extra_large",
          "type": "organic",
          "year": 2015
         },
         {
          "avg_price": 1,
          "date": "2015-08-09",
          "index": 865,
          "nb_sold": 6905,
          "size": "extra_large",
          "type": "organic",
          "year": 2015
         },
         {
          "avg_price": 1,
          "date": "2015-08-02",
          "index": 866,
          "nb_sold": 5115,
          "size": "extra_large",
          "type": "organic",
          "year": 2015
         },
         {
          "avg_price": 1,
          "date": "2015-07-26",
          "index": 867,
          "nb_sold": 4391,
          "size": "extra_large",
          "type": "organic",
          "year": 2015
         },
         {
          "avg_price": 1,
          "date": "2015-07-19",
          "index": 868,
          "nb_sold": 4758,
          "size": "extra_large",
          "type": "organic",
          "year": 2015
         },
         {
          "avg_price": 1,
          "date": "2015-07-12",
          "index": 869,
          "nb_sold": 5093,
          "size": "extra_large",
          "type": "organic",
          "year": 2015
         },
         {
          "avg_price": 1,
          "date": "2015-07-05",
          "index": 870,
          "nb_sold": 6251,
          "size": "extra_large",
          "type": "organic",
          "year": 2015
         },
         {
          "avg_price": 1.64,
          "date": "2015-06-28",
          "index": 871,
          "nb_sold": 5956.87,
          "size": "extra_large",
          "type": "organic",
          "year": 2015
         },
         {
          "avg_price": 1.66,
          "date": "2015-06-21",
          "index": 872,
          "nb_sold": 6264.36,
          "size": "extra_large",
          "type": "organic",
          "year": 2015
         },
         {
          "avg_price": 1.68,
          "date": "2015-06-14",
          "index": 873,
          "nb_sold": 6901.71,
          "size": "extra_large",
          "type": "organic",
          "year": 2015
         },
         {
          "avg_price": 1.67,
          "date": "2015-06-07",
          "index": 874,
          "nb_sold": 6286.15,
          "size": "extra_large",
          "type": "organic",
          "year": 2015
         },
         {
          "avg_price": 1.58,
          "date": "2015-05-31",
          "index": 875,
          "nb_sold": 6835.09,
          "size": "extra_large",
          "type": "organic",
          "year": 2015
         },
         {
          "avg_price": 1.59,
          "date": "2015-05-24",
          "index": 876,
          "nb_sold": 6911.26,
          "size": "extra_large",
          "type": "organic",
          "year": 2015
         },
         {
          "avg_price": 1.5,
          "date": "2015-05-17",
          "index": 877,
          "nb_sold": 22024.09,
          "size": "extra_large",
          "type": "organic",
          "year": 2015
         },
         {
          "avg_price": 1.42,
          "date": "2015-05-10",
          "index": 878,
          "nb_sold": 6213.47,
          "size": "extra_large",
          "type": "organic",
          "year": 2015
         },
         {
          "avg_price": 1.37,
          "date": "2015-05-03",
          "index": 879,
          "nb_sold": 8951.77,
          "size": "extra_large",
          "type": "organic",
          "year": 2015
         },
         {
          "avg_price": 1.45,
          "date": "2015-04-26",
          "index": 880,
          "nb_sold": 6150.07,
          "size": "extra_large",
          "type": "organic",
          "year": 2015
         },
         {
          "avg_price": 1.59,
          "date": "2015-04-19",
          "index": 881,
          "nb_sold": 6465.74,
          "size": "extra_large",
          "type": "organic",
          "year": 2015
         },
         {
          "avg_price": 1.53,
          "date": "2015-04-12",
          "index": 882,
          "nb_sold": 6179.48,
          "size": "extra_large",
          "type": "organic",
          "year": 2015
         },
         {
          "avg_price": 1.63,
          "date": "2015-04-05",
          "index": 883,
          "nb_sold": 6434.88,
          "size": "extra_large",
          "type": "organic",
          "year": 2015
         },
         {
          "avg_price": 1.6,
          "date": "2015-03-29",
          "index": 884,
          "nb_sold": 5794.39,
          "size": "extra_large",
          "type": "organic",
          "year": 2015
         },
         {
          "avg_price": 1.49,
          "date": "2015-03-22",
          "index": 885,
          "nb_sold": 5290.59,
          "size": "extra_large",
          "type": "organic",
          "year": 2015
         },
         {
          "avg_price": 1.5,
          "date": "2015-03-15",
          "index": 886,
          "nb_sold": 5308.79,
          "size": "extra_large",
          "type": "organic",
          "year": 2015
         },
         {
          "avg_price": 1.49,
          "date": "2015-03-08",
          "index": 887,
          "nb_sold": 5658.7,
          "size": "extra_large",
          "type": "organic",
          "year": 2015
         },
         {
          "avg_price": 1.4,
          "date": "2015-03-01",
          "index": 888,
          "nb_sold": 5556.02,
          "size": "extra_large",
          "type": "organic",
          "year": 2015
         },
         {
          "avg_price": 1.51,
          "date": "2015-02-22",
          "index": 889,
          "nb_sold": 4883.55,
          "size": "extra_large",
          "type": "organic",
          "year": 2015
         },
         {
          "avg_price": 1.58,
          "date": "2015-02-15",
          "index": 890,
          "nb_sold": 4950.01,
          "size": "extra_large",
          "type": "organic",
          "year": 2015
         },
         {
          "avg_price": 1.48,
          "date": "2015-02-08",
          "index": 891,
          "nb_sold": 5316.55,
          "size": "extra_large",
          "type": "organic",
          "year": 2015
         },
         {
          "avg_price": 1.36,
          "date": "2015-02-01",
          "index": 892,
          "nb_sold": 5852.28,
          "size": "extra_large",
          "type": "organic",
          "year": 2015
         },
         {
          "avg_price": 1.53,
          "date": "2015-01-25",
          "index": 893,
          "nb_sold": 4753.87,
          "size": "extra_large",
          "type": "organic",
          "year": 2015
         },
         {
          "avg_price": 1.42,
          "date": "2015-01-18",
          "index": 894,
          "nb_sold": 4020.85,
          "size": "extra_large",
          "type": "organic",
          "year": 2015
         },
         {
          "avg_price": 1.42,
          "date": "2015-01-11",
          "index": 895,
          "nb_sold": 3830.42,
          "size": "extra_large",
          "type": "organic",
          "year": 2015
         },
         {
          "avg_price": 1.46,
          "date": "2015-01-04",
          "index": 896,
          "nb_sold": 4370.99,
          "size": "extra_large",
          "type": "organic",
          "year": 2015
         },
         {
          "avg_price": 1.34,
          "date": "2016-12-25",
          "index": 897,
          "nb_sold": 3415.27,
          "size": "extra_large",
          "type": "organic",
          "year": 2016
         },
         {
          "avg_price": 1.43,
          "date": "2016-12-18",
          "index": 898,
          "nb_sold": 4926.76,
          "size": "extra_large",
          "type": "organic",
          "year": 2016
         },
         {
          "avg_price": 1.42,
          "date": "2016-12-11",
          "index": 899,
          "nb_sold": 6116.44,
          "size": "extra_large",
          "type": "organic",
          "year": 2016
         },
         {
          "avg_price": 1.56,
          "date": "2016-12-04",
          "index": 900,
          "nb_sold": 2918.28,
          "size": "extra_large",
          "type": "organic",
          "year": 2016
         },
         {
          "avg_price": 1.64,
          "date": "2016-11-27",
          "index": 901,
          "nb_sold": 3381.69,
          "size": "extra_large",
          "type": "organic",
          "year": 2016
         },
         {
          "avg_price": 1.63,
          "date": "2016-11-20",
          "index": 902,
          "nb_sold": 3847.05,
          "size": "extra_large",
          "type": "organic",
          "year": 2016
         },
         {
          "avg_price": 1.7,
          "date": "2016-11-13",
          "index": 903,
          "nb_sold": 3669.98,
          "size": "extra_large",
          "type": "organic",
          "year": 2016
         },
         {
          "avg_price": 1.68,
          "date": "2016-11-06",
          "index": 904,
          "nb_sold": 5049.63,
          "size": "extra_large",
          "type": "organic",
          "year": 2016
         },
         {
          "avg_price": 1.93,
          "date": "2016-10-30",
          "index": 905,
          "nb_sold": 5661.78,
          "size": "extra_large",
          "type": "organic",
          "year": 2016
         },
         {
          "avg_price": 1.63,
          "date": "2016-10-23",
          "index": 906,
          "nb_sold": 4363.02,
          "size": "extra_large",
          "type": "organic",
          "year": 2016
         },
         {
          "avg_price": 1.5,
          "date": "2016-10-16",
          "index": 907,
          "nb_sold": 4732.27,
          "size": "extra_large",
          "type": "organic",
          "year": 2016
         },
         {
          "avg_price": 1.52,
          "date": "2016-10-09",
          "index": 908,
          "nb_sold": 5103.42,
          "size": "extra_large",
          "type": "organic",
          "year": 2016
         },
         {
          "avg_price": 1.71,
          "date": "2016-10-02",
          "index": 909,
          "nb_sold": 4904.25,
          "size": "extra_large",
          "type": "organic",
          "year": 2016
         },
         {
          "avg_price": 1.69,
          "date": "2016-09-25",
          "index": 910,
          "nb_sold": 4407.75,
          "size": "extra_large",
          "type": "organic",
          "year": 2016
         },
         {
          "avg_price": 1.67,
          "date": "2016-09-18",
          "index": 911,
          "nb_sold": 4597.27,
          "size": "extra_large",
          "type": "organic",
          "year": 2016
         },
         {
          "avg_price": 1.52,
          "date": "2016-09-11",
          "index": 912,
          "nb_sold": 3481.85,
          "size": "extra_large",
          "type": "organic",
          "year": 2016
         },
         {
          "avg_price": 1.54,
          "date": "2016-09-04",
          "index": 913,
          "nb_sold": 4653.04,
          "size": "extra_large",
          "type": "organic",
          "year": 2016
         },
         {
          "avg_price": 1.49,
          "date": "2016-08-28",
          "index": 914,
          "nb_sold": 5110.77,
          "size": "extra_large",
          "type": "organic",
          "year": 2016
         },
         {
          "avg_price": 1.51,
          "date": "2016-08-21",
          "index": 915,
          "nb_sold": 5831.02,
          "size": "extra_large",
          "type": "organic",
          "year": 2016
         },
         {
          "avg_price": 1.48,
          "date": "2016-08-14",
          "index": 916,
          "nb_sold": 10231.17,
          "size": "extra_large",
          "type": "organic",
          "year": 2016
         },
         {
          "avg_price": 1.55,
          "date": "2016-08-07",
          "index": 917,
          "nb_sold": 10707.18,
          "size": "extra_large",
          "type": "organic",
          "year": 2016
         },
         {
          "avg_price": 1.58,
          "date": "2016-07-31",
          "index": 918,
          "nb_sold": 9035.27,
          "size": "extra_large",
          "type": "organic",
          "year": 2016
         },
         {
          "avg_price": 1.65,
          "date": "2016-07-24",
          "index": 919,
          "nb_sold": 8612.44,
          "size": "extra_large",
          "type": "organic",
          "year": 2016
         },
         {
          "avg_price": 1.63,
          "date": "2016-07-17",
          "index": 920,
          "nb_sold": 9957.61,
          "size": "extra_large",
          "type": "organic",
          "year": 2016
         },
         {
          "avg_price": 1.51,
          "date": "2016-07-10",
          "index": 921,
          "nb_sold": 12180.53,
          "size": "extra_large",
          "type": "organic",
          "year": 2016
         },
         {
          "avg_price": 1.47,
          "date": "2016-07-03",
          "index": 922,
          "nb_sold": 11897.11,
          "size": "extra_large",
          "type": "organic",
          "year": 2016
         },
         {
          "avg_price": 1.5,
          "date": "2016-06-26",
          "index": 923,
          "nb_sold": 6763.46,
          "size": "extra_large",
          "type": "organic",
          "year": 2016
         },
         {
          "avg_price": 1.45,
          "date": "2016-06-19",
          "index": 924,
          "nb_sold": 12052.84,
          "size": "extra_large",
          "type": "organic",
          "year": 2016
         },
         {
          "avg_price": 1.45,
          "date": "2016-06-12",
          "index": 925,
          "nb_sold": 8626.89,
          "size": "extra_large",
          "type": "organic",
          "year": 2016
         },
         {
          "avg_price": 1.43,
          "date": "2016-06-05",
          "index": 926,
          "nb_sold": 7817.11,
          "size": "extra_large",
          "type": "organic",
          "year": 2016
         },
         {
          "avg_price": 1.41,
          "date": "2016-05-29",
          "index": 927,
          "nb_sold": 13698.09,
          "size": "extra_large",
          "type": "organic",
          "year": 2016
         },
         {
          "avg_price": 1.36,
          "date": "2016-05-22",
          "index": 928,
          "nb_sold": 15807.85,
          "size": "extra_large",
          "type": "organic",
          "year": 2016
         },
         {
          "avg_price": 1.45,
          "date": "2016-05-15",
          "index": 929,
          "nb_sold": 8120.53,
          "size": "extra_large",
          "type": "organic",
          "year": 2016
         },
         {
          "avg_price": 1.3,
          "date": "2016-05-08",
          "index": 930,
          "nb_sold": 26765.78,
          "size": "extra_large",
          "type": "organic",
          "year": 2016
         },
         {
          "avg_price": 1.28,
          "date": "2016-05-01",
          "index": 931,
          "nb_sold": 22276.6,
          "size": "extra_large",
          "type": "organic",
          "year": 2016
         },
         {
          "avg_price": 1.25,
          "date": "2016-04-24",
          "index": 932,
          "nb_sold": 8687.81,
          "size": "extra_large",
          "type": "organic",
          "year": 2016
         },
         {
          "avg_price": 1.38,
          "date": "2016-04-17",
          "index": 933,
          "nb_sold": 7878.94,
          "size": "extra_large",
          "type": "organic",
          "year": 2016
         },
         {
          "avg_price": 1.26,
          "date": "2016-04-10",
          "index": 934,
          "nb_sold": 12154.73,
          "size": "extra_large",
          "type": "organic",
          "year": 2016
         },
         {
          "avg_price": 1.44,
          "date": "2016-04-03",
          "index": 935,
          "nb_sold": 8628.68,
          "size": "extra_large",
          "type": "organic",
          "year": 2016
         },
         {
          "avg_price": 1.44,
          "date": "2016-03-27",
          "index": 936,
          "nb_sold": 7738.95,
          "size": "extra_large",
          "type": "organic",
          "year": 2016
         },
         {
          "avg_price": 1.27,
          "date": "2016-03-20",
          "index": 937,
          "nb_sold": 9425.64,
          "size": "extra_large",
          "type": "organic",
          "year": 2016
         },
         {
          "avg_price": 1.29,
          "date": "2016-03-13",
          "index": 938,
          "nb_sold": 6709.65,
          "size": "extra_large",
          "type": "organic",
          "year": 2016
         },
         {
          "avg_price": 1.28,
          "date": "2016-03-06",
          "index": 939,
          "nb_sold": 5698.2,
          "size": "extra_large",
          "type": "organic",
          "year": 2016
         },
         {
          "avg_price": 1.44,
          "date": "2016-02-28",
          "index": 940,
          "nb_sold": 10423.3,
          "size": "extra_large",
          "type": "organic",
          "year": 2016
         },
         {
          "avg_price": 1.45,
          "date": "2016-02-21",
          "index": 941,
          "nb_sold": 8629.03,
          "size": "extra_large",
          "type": "organic",
          "year": 2016
         },
         {
          "avg_price": 1.37,
          "date": "2016-02-14",
          "index": 942,
          "nb_sold": 6955.69,
          "size": "extra_large",
          "type": "organic",
          "year": 2016
         },
         {
          "avg_price": 1.44,
          "date": "2016-02-07",
          "index": 943,
          "nb_sold": 8028.75,
          "size": "extra_large",
          "type": "organic",
          "year": 2016
         },
         {
          "avg_price": 1.43,
          "date": "2016-01-31",
          "index": 944,
          "nb_sold": 5515.91,
          "size": "extra_large",
          "type": "organic",
          "year": 2016
         },
         {
          "avg_price": 1.41,
          "date": "2016-01-24",
          "index": 945,
          "nb_sold": 12933.97,
          "size": "extra_large",
          "type": "organic",
          "year": 2016
         },
         {
          "avg_price": 1.44,
          "date": "2016-01-17",
          "index": 946,
          "nb_sold": 13106.29,
          "size": "extra_large",
          "type": "organic",
          "year": 2016
         },
         {
          "avg_price": 1.35,
          "date": "2016-01-10",
          "index": 947,
          "nb_sold": 8771.79,
          "size": "extra_large",
          "type": "organic",
          "year": 2016
         },
         {
          "avg_price": 1.43,
          "date": "2016-01-03",
          "index": 948,
          "nb_sold": 7749.4,
          "size": "extra_large",
          "type": "organic",
          "year": 2016
         },
         {
          "avg_price": 1.52,
          "date": "2017-12-31",
          "index": 949,
          "nb_sold": 1279.48,
          "size": "extra_large",
          "type": "organic",
          "year": 2017
         },
         {
          "avg_price": 1.64,
          "date": "2017-12-24",
          "index": 950,
          "nb_sold": 1143.57,
          "size": "extra_large",
          "type": "organic",
          "year": 2017
         },
         {
          "avg_price": 1.57,
          "date": "2017-12-17",
          "index": 951,
          "nb_sold": 982.45,
          "size": "extra_large",
          "type": "organic",
          "year": 2017
         },
         {
          "avg_price": 1.54,
          "date": "2017-12-10",
          "index": 952,
          "nb_sold": 1003.84,
          "size": "extra_large",
          "type": "organic",
          "year": 2017
         },
         {
          "avg_price": 1.62,
          "date": "2017-12-03",
          "index": 953,
          "nb_sold": 1108.2,
          "size": "extra_large",
          "type": "organic",
          "year": 2017
         },
         {
          "avg_price": 1.72,
          "date": "2017-11-26",
          "index": 954,
          "nb_sold": 978.29,
          "size": "extra_large",
          "type": "organic",
          "year": 2017
         },
         {
          "avg_price": 1.77,
          "date": "2017-11-19",
          "index": 955,
          "nb_sold": 834.3,
          "size": "extra_large",
          "type": "organic",
          "year": 2017
         },
         {
          "avg_price": 1.81,
          "date": "2017-11-12",
          "index": 956,
          "nb_sold": 1074.64,
          "size": "extra_large",
          "type": "organic",
          "year": 2017
         },
         {
          "avg_price": 1.82,
          "date": "2017-11-05",
          "index": 957,
          "nb_sold": 1059.63,
          "size": "extra_large",
          "type": "organic",
          "year": 2017
         },
         {
          "avg_price": 1.84,
          "date": "2017-10-29",
          "index": 958,
          "nb_sold": 1150.03,
          "size": "extra_large",
          "type": "organic",
          "year": 2017
         },
         {
          "avg_price": 1.82,
          "date": "2017-10-22",
          "index": 959,
          "nb_sold": 1309.82,
          "size": "extra_large",
          "type": "organic",
          "year": 2017
         },
         {
          "avg_price": 1.85,
          "date": "2017-10-15",
          "index": 960,
          "nb_sold": 1369.62,
          "size": "extra_large",
          "type": "organic",
          "year": 2017
         },
         {
          "avg_price": 1.9,
          "date": "2017-10-08",
          "index": 961,
          "nb_sold": 1224.99,
          "size": "extra_large",
          "type": "organic",
          "year": 2017
         },
         {
          "avg_price": 1.95,
          "date": "2017-10-01",
          "index": 962,
          "nb_sold": 1966.94,
          "size": "extra_large",
          "type": "organic",
          "year": 2017
         },
         {
          "avg_price": 1.94,
          "date": "2017-09-24",
          "index": 963,
          "nb_sold": 1182.85,
          "size": "extra_large",
          "type": "organic",
          "year": 2017
         },
         {
          "avg_price": 2,
          "date": "2017-09-17",
          "index": 964,
          "nb_sold": 891.6,
          "size": "extra_large",
          "type": "organic",
          "year": 2017
         },
         {
          "avg_price": 2.03,
          "date": "2017-09-10",
          "index": 965,
          "nb_sold": 940.89,
          "size": "extra_large",
          "type": "organic",
          "year": 2017
         },
         {
          "avg_price": 2.06,
          "date": "2017-09-03",
          "index": 966,
          "nb_sold": 2256.96,
          "size": "extra_large",
          "type": "organic",
          "year": 2017
         },
         {
          "avg_price": 2.09,
          "date": "2017-08-27",
          "index": 967,
          "nb_sold": 2119.14,
          "size": "extra_large",
          "type": "organic",
          "year": 2017
         },
         {
          "avg_price": 1.96,
          "date": "2017-08-20",
          "index": 968,
          "nb_sold": 1154.19,
          "size": "extra_large",
          "type": "organic",
          "year": 2017
         },
         {
          "avg_price": 1.88,
          "date": "2017-08-13",
          "index": 969,
          "nb_sold": 1414.21,
          "size": "extra_large",
          "type": "organic",
          "year": 2017
         },
         {
          "avg_price": 1.83,
          "date": "2017-08-06",
          "index": 970,
          "nb_sold": 1552.51,
          "size": "extra_large",
          "type": "organic",
          "year": 2017
         },
         {
          "avg_price": 1.78,
          "date": "2017-07-30",
          "index": 971,
          "nb_sold": 2135.74,
          "size": "extra_large",
          "type": "organic",
          "year": 2017
         },
         {
          "avg_price": 1.76,
          "date": "2017-07-23",
          "index": 972,
          "nb_sold": 3700.92,
          "size": "extra_large",
          "type": "organic",
          "year": 2017
         },
         {
          "avg_price": 1.78,
          "date": "2017-07-16",
          "index": 973,
          "nb_sold": 4766.71,
          "size": "extra_large",
          "type": "organic",
          "year": 2017
         },
         {
          "avg_price": 1.71,
          "date": "2017-07-09",
          "index": 974,
          "nb_sold": 3424.69,
          "size": "extra_large",
          "type": "organic",
          "year": 2017
         },
         {
          "avg_price": 1.74,
          "date": "2017-07-02",
          "index": 975,
          "nb_sold": 3393.83,
          "size": "extra_large",
          "type": "organic",
          "year": 2017
         },
         {
          "avg_price": 1.77,
          "date": "2017-06-25",
          "index": 976,
          "nb_sold": 2613.51,
          "size": "extra_large",
          "type": "organic",
          "year": 2017
         },
         {
          "avg_price": 1.71,
          "date": "2017-06-18",
          "index": 977,
          "nb_sold": 2140.13,
          "size": "extra_large",
          "type": "organic",
          "year": 2017
         },
         {
          "avg_price": 1.56,
          "date": "2017-06-11",
          "index": 978,
          "nb_sold": 3623.46,
          "size": "extra_large",
          "type": "organic",
          "year": 2017
         },
         {
          "avg_price": 1.64,
          "date": "2017-06-04",
          "index": 979,
          "nb_sold": 2865.59,
          "size": "extra_large",
          "type": "organic",
          "year": 2017
         },
         {
          "avg_price": 1.69,
          "date": "2017-05-28",
          "index": 980,
          "nb_sold": 3195.15,
          "size": "extra_large",
          "type": "organic",
          "year": 2017
         },
         {
          "avg_price": 1.71,
          "date": "2017-05-21",
          "index": 981,
          "nb_sold": 4322.99,
          "size": "extra_large",
          "type": "organic",
          "year": 2017
         },
         {
          "avg_price": 1.55,
          "date": "2017-05-14",
          "index": 982,
          "nb_sold": 4618.45,
          "size": "extra_large",
          "type": "organic",
          "year": 2017
         },
         {
          "avg_price": 1.57,
          "date": "2017-05-07",
          "index": 983,
          "nb_sold": 4161.33,
          "size": "extra_large",
          "type": "organic",
          "year": 2017
         },
         {
          "avg_price": 1.68,
          "date": "2017-04-30",
          "index": 984,
          "nb_sold": 5187.46,
          "size": "extra_large",
          "type": "organic",
          "year": 2017
         },
         {
          "avg_price": 1.61,
          "date": "2017-04-23",
          "index": 985,
          "nb_sold": 3245.62,
          "size": "extra_large",
          "type": "organic",
          "year": 2017
         },
         {
          "avg_price": 1.49,
          "date": "2017-04-16",
          "index": 986,
          "nb_sold": 5096.43,
          "size": "extra_large",
          "type": "organic",
          "year": 2017
         },
         {
          "avg_price": 1.43,
          "date": "2017-04-09",
          "index": 987,
          "nb_sold": 8972.11,
          "size": "extra_large",
          "type": "organic",
          "year": 2017
         },
         {
          "avg_price": 1.42,
          "date": "2017-04-02",
          "index": 988,
          "nb_sold": 3767.76,
          "size": "extra_large",
          "type": "organic",
          "year": 2017
         },
         {
          "avg_price": 1.29,
          "date": "2017-03-26",
          "index": 989,
          "nb_sold": 3888.05,
          "size": "extra_large",
          "type": "organic",
          "year": 2017
         },
         {
          "avg_price": 1.5,
          "date": "2017-03-19",
          "index": 990,
          "nb_sold": 3304.62,
          "size": "extra_large",
          "type": "organic",
          "year": 2017
         },
         {
          "avg_price": 1.38,
          "date": "2017-03-12",
          "index": 991,
          "nb_sold": 3188.52,
          "size": "extra_large",
          "type": "organic",
          "year": 2017
         },
         {
          "avg_price": 1.16,
          "date": "2017-03-05",
          "index": 992,
          "nb_sold": 2542.94,
          "size": "extra_large",
          "type": "organic",
          "year": 2017
         },
         {
          "avg_price": 1.21,
          "date": "2017-02-26",
          "index": 993,
          "nb_sold": 3747.77,
          "size": "extra_large",
          "type": "organic",
          "year": 2017
         },
         {
          "avg_price": 1.31,
          "date": "2017-02-19",
          "index": 994,
          "nb_sold": 3295.09,
          "size": "extra_large",
          "type": "organic",
          "year": 2017
         },
         {
          "avg_price": 1.41,
          "date": "2017-02-12",
          "index": 995,
          "nb_sold": 3486.2,
          "size": "extra_large",
          "type": "organic",
          "year": 2017
         },
         {
          "avg_price": 1.36,
          "date": "2017-02-05",
          "index": 996,
          "nb_sold": 2238.78,
          "size": "extra_large",
          "type": "organic",
          "year": 2017
         },
         {
          "avg_price": 1.43,
          "date": "2017-01-29",
          "index": 997,
          "nb_sold": 3524.96,
          "size": "extra_large",
          "type": "organic",
          "year": 2017
         },
         {
          "avg_price": 1.37,
          "date": "2017-01-22",
          "index": 998,
          "nb_sold": 6707.82,
          "size": "extra_large",
          "type": "organic",
          "year": 2017
         },
         {
          "avg_price": 1.44,
          "date": "2017-01-15",
          "index": 999,
          "nb_sold": 8750.08,
          "size": "extra_large",
          "type": "organic",
          "year": 2017
         },
         {
          "avg_price": 1.43,
          "date": "2017-01-08",
          "index": 1000,
          "nb_sold": 8697.35,
          "size": "extra_large",
          "type": "organic",
          "year": 2017
         },
         {
          "avg_price": 1.48,
          "date": "2017-01-01",
          "index": 1001,
          "nb_sold": 4425.75,
          "size": "extra_large",
          "type": "organic",
          "year": 2017
         },
         {
          "avg_price": 1.55,
          "date": "2018-03-25",
          "index": 1002,
          "nb_sold": 1070.24,
          "size": "extra_large",
          "type": "organic",
          "year": 2018
         },
         {
          "avg_price": 1.54,
          "date": "2018-03-18",
          "index": 1003,
          "nb_sold": 1045.38,
          "size": "extra_large",
          "type": "organic",
          "year": 2018
         },
         {
          "avg_price": 1.52,
          "date": "2018-03-11",
          "index": 1004,
          "nb_sold": 1401.87,
          "size": "extra_large",
          "type": "organic",
          "year": 2018
         },
         {
          "avg_price": 1.52,
          "date": "2018-03-04",
          "index": 1005,
          "nb_sold": 1225.97,
          "size": "extra_large",
          "type": "organic",
          "year": 2018
         },
         {
          "avg_price": 1.57,
          "date": "2018-02-25",
          "index": 1006,
          "nb_sold": 1063.32,
          "size": "extra_large",
          "type": "organic",
          "year": 2018
         },
         {
          "avg_price": 1.52,
          "date": "2018-02-18",
          "index": 1007,
          "nb_sold": 1905.46,
          "size": "extra_large",
          "type": "organic",
          "year": 2018
         },
         {
          "avg_price": 1.56,
          "date": "2018-02-11",
          "index": 1008,
          "nb_sold": 1839.8,
          "size": "extra_large",
          "type": "organic",
          "year": 2018
         },
         {
          "avg_price": 1.53,
          "date": "2018-02-04",
          "index": 1009,
          "nb_sold": 1703.52,
          "size": "extra_large",
          "type": "organic",
          "year": 2018
         },
         {
          "avg_price": 1.61,
          "date": "2018-01-28",
          "index": 1010,
          "nb_sold": 1270.61,
          "size": "extra_large",
          "type": "organic",
          "year": 2018
         },
         {
          "avg_price": 1.63,
          "date": "2018-01-21",
          "index": 1011,
          "nb_sold": 1490.02,
          "size": "extra_large",
          "type": "organic",
          "year": 2018
         },
         {
          "avg_price": 1.59,
          "date": "2018-01-14",
          "index": 1012,
          "nb_sold": 1580.01,
          "size": "extra_large",
          "type": "organic",
          "year": 2018
         },
         {
          "avg_price": 1.51,
          "date": "2018-01-07",
          "index": 1013,
          "nb_sold": 1289.07,
          "size": "extra_large",
          "type": "organic",
          "year": 2018
         }
        ],
        "schema": {
         "fields": [
          {
           "name": "index",
           "type": "integer"
          },
          {
           "name": "date",
           "type": "string"
          },
          {
           "name": "type",
           "type": "string"
          },
          {
           "name": "year",
           "type": "integer"
          },
          {
           "name": "avg_price",
           "type": "number"
          },
          {
           "name": "size",
           "type": "string"
          },
          {
           "name": "nb_sold",
           "type": "number"
          }
         ],
         "pandas_version": "0.20.0",
         "primaryKey": [
          "index"
         ]
        }
       },
       "total_rows": 1014
      },
      "text/html": [
       "<div>\n",
       "<style scoped>\n",
       "    .dataframe tbody tr th:only-of-type {\n",
       "        vertical-align: middle;\n",
       "    }\n",
       "\n",
       "    .dataframe tbody tr th {\n",
       "        vertical-align: top;\n",
       "    }\n",
       "\n",
       "    .dataframe thead th {\n",
       "        text-align: right;\n",
       "    }\n",
       "</style>\n",
       "<table border=\"1\" class=\"dataframe\">\n",
       "  <thead>\n",
       "    <tr style=\"text-align: right;\">\n",
       "      <th></th>\n",
       "      <th>date</th>\n",
       "      <th>type</th>\n",
       "      <th>year</th>\n",
       "      <th>avg_price</th>\n",
       "      <th>size</th>\n",
       "      <th>nb_sold</th>\n",
       "    </tr>\n",
       "  </thead>\n",
       "  <tbody>\n",
       "    <tr>\n",
       "      <th>0</th>\n",
       "      <td>2015-12-27</td>\n",
       "      <td>conventional</td>\n",
       "      <td>2015</td>\n",
       "      <td>0.95</td>\n",
       "      <td>small</td>\n",
       "      <td>9626901.09</td>\n",
       "    </tr>\n",
       "    <tr>\n",
       "      <th>1</th>\n",
       "      <td>2015-12-20</td>\n",
       "      <td>conventional</td>\n",
       "      <td>2015</td>\n",
       "      <td>0.98</td>\n",
       "      <td>small</td>\n",
       "      <td>8710021.76</td>\n",
       "    </tr>\n",
       "    <tr>\n",
       "      <th>2</th>\n",
       "      <td>2015-12-13</td>\n",
       "      <td>conventional</td>\n",
       "      <td>2015</td>\n",
       "      <td>0.93</td>\n",
       "      <td>small</td>\n",
       "      <td>9855053.66</td>\n",
       "    </tr>\n",
       "    <tr>\n",
       "      <th>3</th>\n",
       "      <td>2015-12-06</td>\n",
       "      <td>conventional</td>\n",
       "      <td>2015</td>\n",
       "      <td>0.89</td>\n",
       "      <td>small</td>\n",
       "      <td>9405464.36</td>\n",
       "    </tr>\n",
       "    <tr>\n",
       "      <th>4</th>\n",
       "      <td>2015-11-29</td>\n",
       "      <td>conventional</td>\n",
       "      <td>2015</td>\n",
       "      <td>0.99</td>\n",
       "      <td>small</td>\n",
       "      <td>8094803.56</td>\n",
       "    </tr>\n",
       "    <tr>\n",
       "      <th>...</th>\n",
       "      <td>...</td>\n",
       "      <td>...</td>\n",
       "      <td>...</td>\n",
       "      <td>...</td>\n",
       "      <td>...</td>\n",
       "      <td>...</td>\n",
       "    </tr>\n",
       "    <tr>\n",
       "      <th>1009</th>\n",
       "      <td>2018-02-04</td>\n",
       "      <td>organic</td>\n",
       "      <td>2018</td>\n",
       "      <td>1.53</td>\n",
       "      <td>extra_large</td>\n",
       "      <td>1703.52</td>\n",
       "    </tr>\n",
       "    <tr>\n",
       "      <th>1010</th>\n",
       "      <td>2018-01-28</td>\n",
       "      <td>organic</td>\n",
       "      <td>2018</td>\n",
       "      <td>1.61</td>\n",
       "      <td>extra_large</td>\n",
       "      <td>1270.61</td>\n",
       "    </tr>\n",
       "    <tr>\n",
       "      <th>1011</th>\n",
       "      <td>2018-01-21</td>\n",
       "      <td>organic</td>\n",
       "      <td>2018</td>\n",
       "      <td>1.63</td>\n",
       "      <td>extra_large</td>\n",
       "      <td>1490.02</td>\n",
       "    </tr>\n",
       "    <tr>\n",
       "      <th>1012</th>\n",
       "      <td>2018-01-14</td>\n",
       "      <td>organic</td>\n",
       "      <td>2018</td>\n",
       "      <td>1.59</td>\n",
       "      <td>extra_large</td>\n",
       "      <td>1580.01</td>\n",
       "    </tr>\n",
       "    <tr>\n",
       "      <th>1013</th>\n",
       "      <td>2018-01-07</td>\n",
       "      <td>organic</td>\n",
       "      <td>2018</td>\n",
       "      <td>1.51</td>\n",
       "      <td>extra_large</td>\n",
       "      <td>1289.07</td>\n",
       "    </tr>\n",
       "  </tbody>\n",
       "</table>\n",
       "<p>1014 rows × 6 columns</p>\n",
       "</div>"
      ],
      "text/plain": [
       "            date          type  year  avg_price         size     nb_sold\n",
       "0     2015-12-27  conventional  2015       0.95        small  9626901.09\n",
       "1     2015-12-20  conventional  2015       0.98        small  8710021.76\n",
       "2     2015-12-13  conventional  2015       0.93        small  9855053.66\n",
       "3     2015-12-06  conventional  2015       0.89        small  9405464.36\n",
       "4     2015-11-29  conventional  2015       0.99        small  8094803.56\n",
       "...          ...           ...   ...        ...          ...         ...\n",
       "1009  2018-02-04       organic  2018       1.53  extra_large     1703.52\n",
       "1010  2018-01-28       organic  2018       1.61  extra_large     1270.61\n",
       "1011  2018-01-21       organic  2018       1.63  extra_large     1490.02\n",
       "1012  2018-01-14       organic  2018       1.59  extra_large     1580.01\n",
       "1013  2018-01-07       organic  2018       1.51  extra_large     1289.07\n",
       "\n",
       "[1014 rows x 6 columns]"
      ]
     },
     "execution_count": 1,
     "metadata": {},
     "output_type": "execute_result"
    }
   ],
   "source": [
    "# Import the course packages\n",
    "import pandas as pd\n",
    "import numpy as np\n",
    "import matplotlib.pyplot as plt\n",
    "\n",
    "# Import the four datasets\n",
    "avocado = pd.read_csv(\"datasets/avocado.csv\")\n",
    "homelessness = pd.read_csv(\"datasets/homelessness.csv\")\n",
    "temperatures = pd.read_csv(\"datasets/temperatures.csv\")\n",
    "walmart = pd.read_csv(\"datasets/walmart.csv\")\n",
    "\n",
    "# Print the first DataFrame\n",
    "avocado"
   ]
  },
  {
   "cell_type": "code",
   "execution_count": null,
   "id": "6b6c2e02-fc48-477c-8329-ed7f0c1fd566",
   "metadata": {},
   "outputs": [],
   "source": []
  },
  {
   "cell_type": "markdown",
   "id": "c09c5c3a",
   "metadata": {},
   "source": [
    "## 2. Write Code\n",
    "After running the cell above, you have created four pandas DataFrames: `avocado`, `homelessness`, `temperatures`, and `walmart`. \n",
    "\n",
    "**Add code** to the code cells below to try one (or more) of the following challenges:\n",
    "\n",
    "1. Print the highest weekly sales for each `department` in the `walmart` DataFrame. Limit your results to the top five departments, in descending order. If you're stuck, try reviewing this [video](https://campus.datacamp.com/courses/data-manipulation-with-pandas/aggregating-dataframes?ex=1).\n",
    "2. What was the total `nb_sold` of organic avocados in 2017 in the `avocado` DataFrame? If you're stuck, try reviewing this [video](https://campus.datacamp.com/courses/data-manipulation-with-pandas/slicing-and-indexing-dataframes?ex=6).\n",
    "3. Create a bar plot of the total number of homeless people by region in the `homelessness` DataFrame. Order the bars in descending order. Bonus: create a horizontal bar chart. If you're stuck, try reviewing this [video](https://campus.datacamp.com/courses/data-manipulation-with-pandas/creating-and-visualizing-dataframes?ex=1).\n",
    "4. Create a line plot with two lines representing the temperatures in Toronto and Rome. Make sure to properly label your plot. Bonus: add a legend for the two lines. If you're stuck, try reviewing this [video](https://campus.datacamp.com/courses/data-manipulation-with-pandas/creating-and-visualizing-dataframes?ex=1).\n",
    "\n",
    "Be sure to check out the **Answer Key** at the end to see one way to solve each problem. Did you try something similar?\n",
    "\n",
    "**Reminder: To execute the code you add to a cell, click inside the cell to select it and click \"Run\" or the ► icon. You can also use Shift-Enter to run a selected cell.**"
   ]
  },
  {
   "cell_type": "code",
   "execution_count": null,
   "id": "a60167f2-6fad-4501-979a-35ad8db9d670",
   "metadata": {},
   "outputs": [
    {
     "data": {
      "application/com.datacamp.data-table.v1+json": {
       "is_truncated": false,
       "table": {
        "data": [
         {
          "date": "2010-02-05",
          "department": 1,
          "fuel_price_usd_per_l": 0.6794508389,
          "index": 0,
          "is_holiday": false,
          "store": 1,
          "temperature_c": 5.7277777778,
          "type": "A",
          "unemployment": 8.106,
          "weekly_sales": 24924.5
         },
         {
          "date": "2010-03-05",
          "department": 1,
          "fuel_price_usd_per_l": 0.6934519643,
          "index": 1,
          "is_holiday": false,
          "store": 1,
          "temperature_c": 8.0555555556,
          "type": "A",
          "unemployment": 8.106,
          "weekly_sales": 21827.9
         },
         {
          "date": "2010-04-02",
          "department": 1,
          "fuel_price_usd_per_l": 0.7182841489,
          "index": 2,
          "is_holiday": false,
          "store": 1,
          "temperature_c": 16.8166666667,
          "type": "A",
          "unemployment": 7.808,
          "weekly_sales": 57258.43
         },
         {
          "date": "2010-05-07",
          "department": 1,
          "fuel_price_usd_per_l": 0.7489281214,
          "index": 3,
          "is_holiday": false,
          "store": 1,
          "temperature_c": 22.5277777778,
          "type": "A",
          "unemployment": 7.808,
          "weekly_sales": 17413.94
         },
         {
          "date": "2010-06-04",
          "department": 1,
          "fuel_price_usd_per_l": 0.7145857384,
          "index": 4,
          "is_holiday": false,
          "store": 1,
          "temperature_c": 27.05,
          "type": "A",
          "unemployment": 7.808,
          "weekly_sales": 17558.09
         }
        ],
        "schema": {
         "fields": [
          {
           "name": "index",
           "type": "integer"
          },
          {
           "name": "store",
           "type": "integer"
          },
          {
           "name": "type",
           "type": "string"
          },
          {
           "name": "department",
           "type": "integer"
          },
          {
           "name": "date",
           "type": "string"
          },
          {
           "name": "weekly_sales",
           "type": "number"
          },
          {
           "name": "is_holiday",
           "type": "boolean"
          },
          {
           "name": "temperature_c",
           "type": "number"
          },
          {
           "name": "fuel_price_usd_per_l",
           "type": "number"
          },
          {
           "name": "unemployment",
           "type": "number"
          }
         ],
         "pandas_version": "0.20.0",
         "primaryKey": [
          "index"
         ]
        }
       },
       "total_rows": 5
      },
      "text/html": [
       "<div>\n",
       "<style scoped>\n",
       "    .dataframe tbody tr th:only-of-type {\n",
       "        vertical-align: middle;\n",
       "    }\n",
       "\n",
       "    .dataframe tbody tr th {\n",
       "        vertical-align: top;\n",
       "    }\n",
       "\n",
       "    .dataframe thead th {\n",
       "        text-align: right;\n",
       "    }\n",
       "</style>\n",
       "<table border=\"1\" class=\"dataframe\">\n",
       "  <thead>\n",
       "    <tr style=\"text-align: right;\">\n",
       "      <th></th>\n",
       "      <th>store</th>\n",
       "      <th>type</th>\n",
       "      <th>department</th>\n",
       "      <th>date</th>\n",
       "      <th>weekly_sales</th>\n",
       "      <th>is_holiday</th>\n",
       "      <th>temperature_c</th>\n",
       "      <th>fuel_price_usd_per_l</th>\n",
       "      <th>unemployment</th>\n",
       "    </tr>\n",
       "  </thead>\n",
       "  <tbody>\n",
       "    <tr>\n",
       "      <th>0</th>\n",
       "      <td>1</td>\n",
       "      <td>A</td>\n",
       "      <td>1</td>\n",
       "      <td>2010-02-05</td>\n",
       "      <td>24924.50</td>\n",
       "      <td>False</td>\n",
       "      <td>5.727778</td>\n",
       "      <td>0.679451</td>\n",
       "      <td>8.106</td>\n",
       "    </tr>\n",
       "    <tr>\n",
       "      <th>1</th>\n",
       "      <td>1</td>\n",
       "      <td>A</td>\n",
       "      <td>1</td>\n",
       "      <td>2010-03-05</td>\n",
       "      <td>21827.90</td>\n",
       "      <td>False</td>\n",
       "      <td>8.055556</td>\n",
       "      <td>0.693452</td>\n",
       "      <td>8.106</td>\n",
       "    </tr>\n",
       "    <tr>\n",
       "      <th>2</th>\n",
       "      <td>1</td>\n",
       "      <td>A</td>\n",
       "      <td>1</td>\n",
       "      <td>2010-04-02</td>\n",
       "      <td>57258.43</td>\n",
       "      <td>False</td>\n",
       "      <td>16.816667</td>\n",
       "      <td>0.718284</td>\n",
       "      <td>7.808</td>\n",
       "    </tr>\n",
       "    <tr>\n",
       "      <th>3</th>\n",
       "      <td>1</td>\n",
       "      <td>A</td>\n",
       "      <td>1</td>\n",
       "      <td>2010-05-07</td>\n",
       "      <td>17413.94</td>\n",
       "      <td>False</td>\n",
       "      <td>22.527778</td>\n",
       "      <td>0.748928</td>\n",
       "      <td>7.808</td>\n",
       "    </tr>\n",
       "    <tr>\n",
       "      <th>4</th>\n",
       "      <td>1</td>\n",
       "      <td>A</td>\n",
       "      <td>1</td>\n",
       "      <td>2010-06-04</td>\n",
       "      <td>17558.09</td>\n",
       "      <td>False</td>\n",
       "      <td>27.050000</td>\n",
       "      <td>0.714586</td>\n",
       "      <td>7.808</td>\n",
       "    </tr>\n",
       "  </tbody>\n",
       "</table>\n",
       "</div>"
      ],
      "text/plain": [
       "   store type  department        date  weekly_sales  is_holiday  \\\n",
       "0      1    A           1  2010-02-05      24924.50       False   \n",
       "1      1    A           1  2010-03-05      21827.90       False   \n",
       "2      1    A           1  2010-04-02      57258.43       False   \n",
       "3      1    A           1  2010-05-07      17413.94       False   \n",
       "4      1    A           1  2010-06-04      17558.09       False   \n",
       "\n",
       "   temperature_c  fuel_price_usd_per_l  unemployment  \n",
       "0       5.727778              0.679451         8.106  \n",
       "1       8.055556              0.693452         8.106  \n",
       "2      16.816667              0.718284         7.808  \n",
       "3      22.527778              0.748928         7.808  \n",
       "4      27.050000              0.714586         7.808  "
      ]
     },
     "execution_count": 3,
     "metadata": {},
     "output_type": "execute_result"
    }
   ],
   "source": [
    "walmart.head()"
   ]
  },
  {
   "cell_type": "code",
   "execution_count": null,
   "id": "10176b86",
   "metadata": {},
   "outputs": [
    {
     "data": {
      "application/com.datacamp.data-table.v1+json": {
       "is_truncated": false,
       "table": {
        "data": [
         {
          "department": 92,
          "weekly_sales": 293966.05
         },
         {
          "department": 72,
          "weekly_sales": 232558.51
         },
         {
          "department": 95,
          "weekly_sales": 213042.66
         },
         {
          "department": 90,
          "weekly_sales": 166263.81
         },
         {
          "department": 91,
          "weekly_sales": 162497.78
         }
        ],
        "schema": {
         "fields": [
          {
           "name": "department",
           "type": "integer"
          },
          {
           "name": "weekly_sales",
           "type": "number"
          }
         ],
         "pandas_version": "0.20.0",
         "primaryKey": [
          "department"
         ]
        }
       },
       "total_rows": 5
      },
      "text/html": [
       "<div>\n",
       "<style scoped>\n",
       "    .dataframe tbody tr th:only-of-type {\n",
       "        vertical-align: middle;\n",
       "    }\n",
       "\n",
       "    .dataframe tbody tr th {\n",
       "        vertical-align: top;\n",
       "    }\n",
       "\n",
       "    .dataframe thead th {\n",
       "        text-align: right;\n",
       "    }\n",
       "</style>\n",
       "<table border=\"1\" class=\"dataframe\">\n",
       "  <thead>\n",
       "    <tr style=\"text-align: right;\">\n",
       "      <th></th>\n",
       "      <th>weekly_sales</th>\n",
       "    </tr>\n",
       "    <tr>\n",
       "      <th>department</th>\n",
       "      <th></th>\n",
       "    </tr>\n",
       "  </thead>\n",
       "  <tbody>\n",
       "    <tr>\n",
       "      <th>92</th>\n",
       "      <td>293966.05</td>\n",
       "    </tr>\n",
       "    <tr>\n",
       "      <th>72</th>\n",
       "      <td>232558.51</td>\n",
       "    </tr>\n",
       "    <tr>\n",
       "      <th>95</th>\n",
       "      <td>213042.66</td>\n",
       "    </tr>\n",
       "    <tr>\n",
       "      <th>90</th>\n",
       "      <td>166263.81</td>\n",
       "    </tr>\n",
       "    <tr>\n",
       "      <th>91</th>\n",
       "      <td>162497.78</td>\n",
       "    </tr>\n",
       "  </tbody>\n",
       "</table>\n",
       "</div>"
      ],
      "text/plain": [
       "            weekly_sales\n",
       "department              \n",
       "92             293966.05\n",
       "72             232558.51\n",
       "95             213042.66\n",
       "90             166263.81\n",
       "91             162497.78"
      ]
     },
     "execution_count": 37,
     "metadata": {},
     "output_type": "execute_result"
    }
   ],
   "source": [
    "# 1. Print the highest weekly sales for each department\n",
    "walmart.pivot_table(values=\"weekly_sales\", index=\"department\", aggfunc=np.max).sort_values(by=\"weekly_sales\", ascending=False).head()"
   ]
  },
  {
   "cell_type": "code",
   "execution_count": null,
   "id": "6c5bb2d7-852c-4eb2-b811-51512a73ec18",
   "metadata": {},
   "outputs": [
    {
     "data": {
      "application/com.datacamp.data-table.v1+json": {
       "is_truncated": false,
       "table": {
        "data": [
         {
          "avg_price": 0.95,
          "date": "2015-12-27",
          "index": 0,
          "nb_sold": 9626901.09,
          "size": "small",
          "type": "conventional",
          "year": 2015
         },
         {
          "avg_price": 0.98,
          "date": "2015-12-20",
          "index": 1,
          "nb_sold": 8710021.76,
          "size": "small",
          "type": "conventional",
          "year": 2015
         },
         {
          "avg_price": 0.93,
          "date": "2015-12-13",
          "index": 2,
          "nb_sold": 9855053.66,
          "size": "small",
          "type": "conventional",
          "year": 2015
         },
         {
          "avg_price": 0.89,
          "date": "2015-12-06",
          "index": 3,
          "nb_sold": 9405464.36,
          "size": "small",
          "type": "conventional",
          "year": 2015
         },
         {
          "avg_price": 0.99,
          "date": "2015-11-29",
          "index": 4,
          "nb_sold": 8094803.56,
          "size": "small",
          "type": "conventional",
          "year": 2015
         }
        ],
        "schema": {
         "fields": [
          {
           "name": "index",
           "type": "integer"
          },
          {
           "name": "date",
           "type": "string"
          },
          {
           "name": "type",
           "type": "string"
          },
          {
           "name": "year",
           "type": "integer"
          },
          {
           "name": "avg_price",
           "type": "number"
          },
          {
           "name": "size",
           "type": "string"
          },
          {
           "name": "nb_sold",
           "type": "number"
          }
         ],
         "pandas_version": "0.20.0",
         "primaryKey": [
          "index"
         ]
        }
       },
       "total_rows": 5
      },
      "text/html": [
       "<div>\n",
       "<style scoped>\n",
       "    .dataframe tbody tr th:only-of-type {\n",
       "        vertical-align: middle;\n",
       "    }\n",
       "\n",
       "    .dataframe tbody tr th {\n",
       "        vertical-align: top;\n",
       "    }\n",
       "\n",
       "    .dataframe thead th {\n",
       "        text-align: right;\n",
       "    }\n",
       "</style>\n",
       "<table border=\"1\" class=\"dataframe\">\n",
       "  <thead>\n",
       "    <tr style=\"text-align: right;\">\n",
       "      <th></th>\n",
       "      <th>date</th>\n",
       "      <th>type</th>\n",
       "      <th>year</th>\n",
       "      <th>avg_price</th>\n",
       "      <th>size</th>\n",
       "      <th>nb_sold</th>\n",
       "    </tr>\n",
       "  </thead>\n",
       "  <tbody>\n",
       "    <tr>\n",
       "      <th>0</th>\n",
       "      <td>2015-12-27</td>\n",
       "      <td>conventional</td>\n",
       "      <td>2015</td>\n",
       "      <td>0.95</td>\n",
       "      <td>small</td>\n",
       "      <td>9626901.09</td>\n",
       "    </tr>\n",
       "    <tr>\n",
       "      <th>1</th>\n",
       "      <td>2015-12-20</td>\n",
       "      <td>conventional</td>\n",
       "      <td>2015</td>\n",
       "      <td>0.98</td>\n",
       "      <td>small</td>\n",
       "      <td>8710021.76</td>\n",
       "    </tr>\n",
       "    <tr>\n",
       "      <th>2</th>\n",
       "      <td>2015-12-13</td>\n",
       "      <td>conventional</td>\n",
       "      <td>2015</td>\n",
       "      <td>0.93</td>\n",
       "      <td>small</td>\n",
       "      <td>9855053.66</td>\n",
       "    </tr>\n",
       "    <tr>\n",
       "      <th>3</th>\n",
       "      <td>2015-12-06</td>\n",
       "      <td>conventional</td>\n",
       "      <td>2015</td>\n",
       "      <td>0.89</td>\n",
       "      <td>small</td>\n",
       "      <td>9405464.36</td>\n",
       "    </tr>\n",
       "    <tr>\n",
       "      <th>4</th>\n",
       "      <td>2015-11-29</td>\n",
       "      <td>conventional</td>\n",
       "      <td>2015</td>\n",
       "      <td>0.99</td>\n",
       "      <td>small</td>\n",
       "      <td>8094803.56</td>\n",
       "    </tr>\n",
       "  </tbody>\n",
       "</table>\n",
       "</div>"
      ],
      "text/plain": [
       "         date          type  year  avg_price   size     nb_sold\n",
       "0  2015-12-27  conventional  2015       0.95  small  9626901.09\n",
       "1  2015-12-20  conventional  2015       0.98  small  8710021.76\n",
       "2  2015-12-13  conventional  2015       0.93  small  9855053.66\n",
       "3  2015-12-06  conventional  2015       0.89  small  9405464.36\n",
       "4  2015-11-29  conventional  2015       0.99  small  8094803.56"
      ]
     },
     "execution_count": 43,
     "metadata": {},
     "output_type": "execute_result"
    }
   ],
   "source": [
    "avocado.head()"
   ]
  },
  {
   "cell_type": "code",
   "execution_count": 56,
   "id": "broadband-stability",
   "metadata": {},
   "outputs": [
    {
     "data": {
      "text/plain": [
       "23321281.07"
      ]
     },
     "execution_count": 56,
     "metadata": {},
     "output_type": "execute_result"
    }
   ],
   "source": [
    "# 2. What was the total `nb_sold` of organic avocados in 2017?\n",
    "avocado2 = avocado.set_index([\"type\", \"year\"]).sort_index()\n",
    "avocado2.loc[(\"organic\", 2017), \"nb_sold\"].sum()\n",
    "\n"
   ]
  },
  {
   "cell_type": "code",
   "execution_count": 59,
   "id": "5b63bc64-e274-4ac8-bd6f-1aafcd497d4d",
   "metadata": {},
   "outputs": [
    {
     "data": {
      "application/com.datacamp.data-table.v1+json": {
       "is_truncated": false,
       "table": {
        "data": [
         {
          "family_members": 864,
          "index": 0,
          "individuals": 2570,
          "region": "East South Central",
          "state": "Alabama",
          "state_pop": 4887681,
          "total": 3434
         },
         {
          "family_members": 582,
          "index": 1,
          "individuals": 1434,
          "region": "Pacific",
          "state": "Alaska",
          "state_pop": 735139,
          "total": 2016
         },
         {
          "family_members": 2606,
          "index": 2,
          "individuals": 7259,
          "region": "Mountain",
          "state": "Arizona",
          "state_pop": 7158024,
          "total": 9865
         },
         {
          "family_members": 432,
          "index": 3,
          "individuals": 2280,
          "region": "West South Central",
          "state": "Arkansas",
          "state_pop": 3009733,
          "total": 2712
         },
         {
          "family_members": 20964,
          "index": 4,
          "individuals": 109008,
          "region": "Pacific",
          "state": "California",
          "state_pop": 39461588,
          "total": 129972
         }
        ],
        "schema": {
         "fields": [
          {
           "name": "index",
           "type": "integer"
          },
          {
           "name": "region",
           "type": "string"
          },
          {
           "name": "state",
           "type": "string"
          },
          {
           "name": "individuals",
           "type": "number"
          },
          {
           "name": "family_members",
           "type": "number"
          },
          {
           "name": "state_pop",
           "type": "integer"
          },
          {
           "name": "total",
           "type": "number"
          }
         ],
         "pandas_version": "0.20.0",
         "primaryKey": [
          "index"
         ]
        }
       },
       "total_rows": 5
      },
      "text/html": [
       "<div>\n",
       "<style scoped>\n",
       "    .dataframe tbody tr th:only-of-type {\n",
       "        vertical-align: middle;\n",
       "    }\n",
       "\n",
       "    .dataframe tbody tr th {\n",
       "        vertical-align: top;\n",
       "    }\n",
       "\n",
       "    .dataframe thead th {\n",
       "        text-align: right;\n",
       "    }\n",
       "</style>\n",
       "<table border=\"1\" class=\"dataframe\">\n",
       "  <thead>\n",
       "    <tr style=\"text-align: right;\">\n",
       "      <th></th>\n",
       "      <th>region</th>\n",
       "      <th>state</th>\n",
       "      <th>individuals</th>\n",
       "      <th>family_members</th>\n",
       "      <th>state_pop</th>\n",
       "      <th>total</th>\n",
       "    </tr>\n",
       "  </thead>\n",
       "  <tbody>\n",
       "    <tr>\n",
       "      <th>0</th>\n",
       "      <td>East South Central</td>\n",
       "      <td>Alabama</td>\n",
       "      <td>2570.0</td>\n",
       "      <td>864.0</td>\n",
       "      <td>4887681</td>\n",
       "      <td>3434.0</td>\n",
       "    </tr>\n",
       "    <tr>\n",
       "      <th>1</th>\n",
       "      <td>Pacific</td>\n",
       "      <td>Alaska</td>\n",
       "      <td>1434.0</td>\n",
       "      <td>582.0</td>\n",
       "      <td>735139</td>\n",
       "      <td>2016.0</td>\n",
       "    </tr>\n",
       "    <tr>\n",
       "      <th>2</th>\n",
       "      <td>Mountain</td>\n",
       "      <td>Arizona</td>\n",
       "      <td>7259.0</td>\n",
       "      <td>2606.0</td>\n",
       "      <td>7158024</td>\n",
       "      <td>9865.0</td>\n",
       "    </tr>\n",
       "    <tr>\n",
       "      <th>3</th>\n",
       "      <td>West South Central</td>\n",
       "      <td>Arkansas</td>\n",
       "      <td>2280.0</td>\n",
       "      <td>432.0</td>\n",
       "      <td>3009733</td>\n",
       "      <td>2712.0</td>\n",
       "    </tr>\n",
       "    <tr>\n",
       "      <th>4</th>\n",
       "      <td>Pacific</td>\n",
       "      <td>California</td>\n",
       "      <td>109008.0</td>\n",
       "      <td>20964.0</td>\n",
       "      <td>39461588</td>\n",
       "      <td>129972.0</td>\n",
       "    </tr>\n",
       "  </tbody>\n",
       "</table>\n",
       "</div>"
      ],
      "text/plain": [
       "               region       state  individuals  family_members  state_pop  \\\n",
       "0  East South Central     Alabama       2570.0           864.0    4887681   \n",
       "1             Pacific      Alaska       1434.0           582.0     735139   \n",
       "2            Mountain     Arizona       7259.0          2606.0    7158024   \n",
       "3  West South Central    Arkansas       2280.0           432.0    3009733   \n",
       "4             Pacific  California     109008.0         20964.0   39461588   \n",
       "\n",
       "      total  \n",
       "0    3434.0  \n",
       "1    2016.0  \n",
       "2    9865.0  \n",
       "3    2712.0  \n",
       "4  129972.0  "
      ]
     },
     "execution_count": 59,
     "metadata": {},
     "output_type": "execute_result"
    }
   ],
   "source": [
    "homelessness.head()"
   ]
  },
  {
   "cell_type": "code",
   "execution_count": 92,
   "id": "instant-potential",
   "metadata": {},
   "outputs": [
    {
     "data": {
      "image/png": "[encoded data removed]",
      "text/plain": [
       "<Figure size 1224x576 with 1 Axes>"
      ]
     },
     "metadata": {
      "needs_background": "light"
     },
     "output_type": "display_data"
    }
   ],
   "source": [
    "# 3. Create a bar plot of the number of homeless people by region\n",
    "homelessness[\"total\"] = homelessness[\"individuals\"] + homelessness[\"family_members\"]\n",
    "homelessness2 = homelessness.groupby(\"region\")[\"total\"].sum()\n",
    "homelessness3 = homelessness2.reset_index()\n",
    "homelessness3_srtd = homelessness3.sort_values(\"total\", ascending=False)\n",
    "plt.figure(figsize=(17,8))\n",
    "plt.bar(\"region\", \"total\", data=homelessness3_srtd)\n",
    "plt.xlabel(\"Regions\", size=20)\n",
    "plt.ylabel(\"Total Homeless Number\", size=20)\n",
    "plt.title(\"Total number of homeless people by region\", size=30, color=\"red\")\n",
    "plt.show()"
   ]
  },
  {
   "cell_type": "code",
   "execution_count": 93,
   "id": "316091fa-baaf-46f5-9585-90fadeef11bb",
   "metadata": {},
   "outputs": [
    {
     "data": {
      "application/com.datacamp.data-table.v1+json": {
       "is_truncated": false,
       "table": {
        "data": [
         {
          "avg_temp_c": 27.293,
          "city": "Abidjan",
          "country": "Côte D'Ivoire",
          "date": "2000-01-01",
          "index": 0
         },
         {
          "avg_temp_c": 27.685,
          "city": "Abidjan",
          "country": "Côte D'Ivoire",
          "date": "2000-02-01",
          "index": 1
         },
         {
          "avg_temp_c": 29.061,
          "city": "Abidjan",
          "country": "Côte D'Ivoire",
          "date": "2000-03-01",
          "index": 2
         },
         {
          "avg_temp_c": 28.162,
          "city": "Abidjan",
          "country": "Côte D'Ivoire",
          "date": "2000-04-01",
          "index": 3
         },
         {
          "avg_temp_c": 27.547,
          "city": "Abidjan",
          "country": "Côte D'Ivoire",
          "date": "2000-05-01",
          "index": 4
         }
        ],
        "schema": {
         "fields": [
          {
           "name": "index",
           "type": "integer"
          },
          {
           "name": "date",
           "type": "string"
          },
          {
           "name": "city",
           "type": "string"
          },
          {
           "name": "country",
           "type": "string"
          },
          {
           "name": "avg_temp_c",
           "type": "number"
          }
         ],
         "pandas_version": "0.20.0",
         "primaryKey": [
          "index"
         ]
        }
       },
       "total_rows": 5
      },
      "text/html": [
       "<div>\n",
       "<style scoped>\n",
       "    .dataframe tbody tr th:only-of-type {\n",
       "        vertical-align: middle;\n",
       "    }\n",
       "\n",
       "    .dataframe tbody tr th {\n",
       "        vertical-align: top;\n",
       "    }\n",
       "\n",
       "    .dataframe thead th {\n",
       "        text-align: right;\n",
       "    }\n",
       "</style>\n",
       "<table border=\"1\" class=\"dataframe\">\n",
       "  <thead>\n",
       "    <tr style=\"text-align: right;\">\n",
       "      <th></th>\n",
       "      <th>date</th>\n",
       "      <th>city</th>\n",
       "      <th>country</th>\n",
       "      <th>avg_temp_c</th>\n",
       "    </tr>\n",
       "  </thead>\n",
       "  <tbody>\n",
       "    <tr>\n",
       "      <th>0</th>\n",
       "      <td>2000-01-01</td>\n",
       "      <td>Abidjan</td>\n",
       "      <td>Côte D'Ivoire</td>\n",
       "      <td>27.293</td>\n",
       "    </tr>\n",
       "    <tr>\n",
       "      <th>1</th>\n",
       "      <td>2000-02-01</td>\n",
       "      <td>Abidjan</td>\n",
       "      <td>Côte D'Ivoire</td>\n",
       "      <td>27.685</td>\n",
       "    </tr>\n",
       "    <tr>\n",
       "      <th>2</th>\n",
       "      <td>2000-03-01</td>\n",
       "      <td>Abidjan</td>\n",
       "      <td>Côte D'Ivoire</td>\n",
       "      <td>29.061</td>\n",
       "    </tr>\n",
       "    <tr>\n",
       "      <th>3</th>\n",
       "      <td>2000-04-01</td>\n",
       "      <td>Abidjan</td>\n",
       "      <td>Côte D'Ivoire</td>\n",
       "      <td>28.162</td>\n",
       "    </tr>\n",
       "    <tr>\n",
       "      <th>4</th>\n",
       "      <td>2000-05-01</td>\n",
       "      <td>Abidjan</td>\n",
       "      <td>Côte D'Ivoire</td>\n",
       "      <td>27.547</td>\n",
       "    </tr>\n",
       "  </tbody>\n",
       "</table>\n",
       "</div>"
      ],
      "text/plain": [
       "         date     city        country  avg_temp_c\n",
       "0  2000-01-01  Abidjan  Côte D'Ivoire      27.293\n",
       "1  2000-02-01  Abidjan  Côte D'Ivoire      27.685\n",
       "2  2000-03-01  Abidjan  Côte D'Ivoire      29.061\n",
       "3  2000-04-01  Abidjan  Côte D'Ivoire      28.162\n",
       "4  2000-05-01  Abidjan  Côte D'Ivoire      27.547"
      ]
     },
     "execution_count": 93,
     "metadata": {},
     "output_type": "execute_result"
    }
   ],
   "source": [
    "temperatures.head()"
   ]
  },
  {
   "cell_type": "code",
   "execution_count": 125,
   "id": "decimal-raise",
   "metadata": {},
   "outputs": [
    {
     "data": {
      "image/png": "[encoded data removed]",
      "text/plain": [
       "<Figure size 864x576 with 1 Axes>"
      ]
     },
     "metadata": {
      "needs_background": "light"
     },
     "output_type": "display_data"
    }
   ],
   "source": [
    "# 4. Create a line plot of temperatures in Toronto and Rome\n",
    "toronto = temperatures[temperatures.city == \"Toronto\"]\n",
    "rome = temperatures[temperatures.city == \"Rome\"]\n",
    "plt.figure(figsize=(12,8))\n",
    "toronto.groupby(\"date\")[\"avg_temp_c\"].mean().plot(kind=\"line\", color=\"blue\")\n",
    "rome.groupby(\"date\")[\"avg_temp_c\"].mean().plot(kind=\"line\", color=\"red\")\n",
    "plt.title(\"Toronto and Rome Average Temperature (C)\", size=25, color=\"green\")\n",
    "plt.xlabel(\"Date\", size=15)\n",
    "plt.ylabel(\"Temperature\", size=15)\n",
    "plt.legend(labels=[\"Toronto\", \"Rome\"])\n",
    "plt.show()"
   ]
  },
  {
   "cell_type": "markdown",
   "id": "798990da",
   "metadata": {},
   "source": [
    "## 3. Next Steps\n",
    "Feeling confident about your skills? Continue on to [Joining Data with pandas](https://app.datacamp.com/learn/courses/joining-data-with-pandas)! This course will teach you how to combine multiple datasets, an essential skill on the road to becoming a data scientist!"
   ]
  }
 ],
 "metadata": {
  "colab": {
   "name": "Welcome to DataCamp Workspaces.ipynb",
   "provenance": []
  },
  "editor": "DataCamp Workspace",
  "kernelspec": {
   "display_name": "Python 3 (ipykernel)",
   "language": "python",
   "name": "python3"
  },
  "language_info": {
   "codemirror_mode": {
    "name": "ipython",
    "version": 3
   },
   "file_extension": ".py",
   "mimetype": "text/x-python",
   "name": "python",
   "nbconvert_exporter": "python",
   "pygments_lexer": "ipython3",
   "version": "3.8.10"
  },
  "varInspector": {
   "cols": {
    "lenName": 16,
    "lenType": 16,
    "lenVar": 40
   },
   "kernels_config": {
    "python": {
     "delete_cmd_postfix": "",
     "delete_cmd_prefix": "del ",
     "library": "var_list.py",
     "varRefreshCmd": "print(var_dic_list())"
    },
    "r": {
     "delete_cmd_postfix": ") ",
     "delete_cmd_prefix": "rm(",
     "library": "var_list.r",
     "varRefreshCmd": "cat(var_dic_list()) "
    }
   },
   "types_to_exclude": [
    "module",
    "function",
    "builtin_function_or_method",
    "instance",
    "_Feature"
   ],
   "window_display": false
  }
 },
 "nbformat": 4,
 "nbformat_minor": 5
}
